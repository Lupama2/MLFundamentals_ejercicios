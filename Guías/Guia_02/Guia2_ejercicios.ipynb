{
 "cells": [
  {
   "cell_type": "markdown",
   "metadata": {},
   "source": [
    "# 2.1 Data"
   ]
  },
  {
   "cell_type": "code",
   "execution_count": 3,
   "metadata": {},
   "outputs": [],
   "source": [
    "# Importo el dataset con pandas\n",
    "import pandas as pd\n",
    "\n",
    "data = pd.read_csv('Datasets/housing.csv')"
   ]
  },
  {
   "cell_type": "markdown",
   "metadata": {},
   "source": [
    "## Análsis exploratorio de datos"
   ]
  },
  {
   "cell_type": "code",
   "execution_count": 4,
   "metadata": {},
   "outputs": [
    {
     "data": {
      "text/html": [
       "<div>\n",
       "<style scoped>\n",
       "    .dataframe tbody tr th:only-of-type {\n",
       "        vertical-align: middle;\n",
       "    }\n",
       "\n",
       "    .dataframe tbody tr th {\n",
       "        vertical-align: top;\n",
       "    }\n",
       "\n",
       "    .dataframe thead th {\n",
       "        text-align: right;\n",
       "    }\n",
       "</style>\n",
       "<table border=\"1\" class=\"dataframe\">\n",
       "  <thead>\n",
       "    <tr style=\"text-align: right;\">\n",
       "      <th></th>\n",
       "      <th>longitude</th>\n",
       "      <th>latitude</th>\n",
       "      <th>housing_median_age</th>\n",
       "      <th>total_rooms</th>\n",
       "      <th>total_bedrooms</th>\n",
       "      <th>population</th>\n",
       "      <th>households</th>\n",
       "      <th>median_income</th>\n",
       "      <th>median_house_value</th>\n",
       "      <th>ocean_proximity</th>\n",
       "    </tr>\n",
       "  </thead>\n",
       "  <tbody>\n",
       "    <tr>\n",
       "      <th>0</th>\n",
       "      <td>-122.23</td>\n",
       "      <td>37.88</td>\n",
       "      <td>41.0</td>\n",
       "      <td>880.0</td>\n",
       "      <td>129.0</td>\n",
       "      <td>322.0</td>\n",
       "      <td>126.0</td>\n",
       "      <td>8.3252</td>\n",
       "      <td>452600.0</td>\n",
       "      <td>NEAR BAY</td>\n",
       "    </tr>\n",
       "    <tr>\n",
       "      <th>1</th>\n",
       "      <td>-122.22</td>\n",
       "      <td>37.86</td>\n",
       "      <td>21.0</td>\n",
       "      <td>7099.0</td>\n",
       "      <td>1106.0</td>\n",
       "      <td>2401.0</td>\n",
       "      <td>1138.0</td>\n",
       "      <td>8.3014</td>\n",
       "      <td>358500.0</td>\n",
       "      <td>NEAR BAY</td>\n",
       "    </tr>\n",
       "    <tr>\n",
       "      <th>2</th>\n",
       "      <td>-122.24</td>\n",
       "      <td>37.85</td>\n",
       "      <td>52.0</td>\n",
       "      <td>1467.0</td>\n",
       "      <td>190.0</td>\n",
       "      <td>496.0</td>\n",
       "      <td>177.0</td>\n",
       "      <td>7.2574</td>\n",
       "      <td>352100.0</td>\n",
       "      <td>NEAR BAY</td>\n",
       "    </tr>\n",
       "    <tr>\n",
       "      <th>3</th>\n",
       "      <td>-122.25</td>\n",
       "      <td>37.85</td>\n",
       "      <td>52.0</td>\n",
       "      <td>1274.0</td>\n",
       "      <td>235.0</td>\n",
       "      <td>558.0</td>\n",
       "      <td>219.0</td>\n",
       "      <td>5.6431</td>\n",
       "      <td>341300.0</td>\n",
       "      <td>NEAR BAY</td>\n",
       "    </tr>\n",
       "    <tr>\n",
       "      <th>4</th>\n",
       "      <td>-122.25</td>\n",
       "      <td>37.85</td>\n",
       "      <td>52.0</td>\n",
       "      <td>1627.0</td>\n",
       "      <td>280.0</td>\n",
       "      <td>565.0</td>\n",
       "      <td>259.0</td>\n",
       "      <td>3.8462</td>\n",
       "      <td>342200.0</td>\n",
       "      <td>NEAR BAY</td>\n",
       "    </tr>\n",
       "  </tbody>\n",
       "</table>\n",
       "</div>"
      ],
      "text/plain": [
       "   longitude  latitude  housing_median_age  total_rooms  total_bedrooms  \\\n",
       "0    -122.23     37.88                41.0        880.0           129.0   \n",
       "1    -122.22     37.86                21.0       7099.0          1106.0   \n",
       "2    -122.24     37.85                52.0       1467.0           190.0   \n",
       "3    -122.25     37.85                52.0       1274.0           235.0   \n",
       "4    -122.25     37.85                52.0       1627.0           280.0   \n",
       "\n",
       "   population  households  median_income  median_house_value ocean_proximity  \n",
       "0       322.0       126.0         8.3252            452600.0        NEAR BAY  \n",
       "1      2401.0      1138.0         8.3014            358500.0        NEAR BAY  \n",
       "2       496.0       177.0         7.2574            352100.0        NEAR BAY  \n",
       "3       558.0       219.0         5.6431            341300.0        NEAR BAY  \n",
       "4       565.0       259.0         3.8462            342200.0        NEAR BAY  "
      ]
     },
     "execution_count": 4,
     "metadata": {},
     "output_type": "execute_result"
    }
   ],
   "source": [
    "#(1)\n",
    "#Imprimo las primeras columnas\n",
    "data.head()"
   ]
  },
  {
   "cell_type": "code",
   "execution_count": 12,
   "metadata": {},
   "outputs": [
    {
     "data": {
      "text/plain": [
       "longitude             20640\n",
       "latitude              20640\n",
       "housing_median_age    20640\n",
       "total_rooms           20640\n",
       "total_bedrooms        20433\n",
       "population            20640\n",
       "households            20640\n",
       "median_income         20640\n",
       "median_house_value    20640\n",
       "ocean_proximity       20640\n",
       "dtype: int64"
      ]
     },
     "execution_count": 12,
     "metadata": {},
     "output_type": "execute_result"
    }
   ],
   "source": [
    "#Veo cuántos datos no nulos hay para cada feature\n",
    "data.count()"
   ]
  },
  {
   "cell_type": "code",
   "execution_count": 13,
   "metadata": {},
   "outputs": [
    {
     "data": {
      "text/plain": [
       "<1H OCEAN     9136\n",
       "INLAND        6551\n",
       "NEAR OCEAN    2658\n",
       "NEAR BAY      2290\n",
       "ISLAND           5\n",
       "Name: ocean_proximity, dtype: int64"
      ]
     },
     "execution_count": 13,
     "metadata": {},
     "output_type": "execute_result"
    }
   ],
   "source": [
    "#(2)\n",
    "#Hay una variable categórica: ocean_proximity\n",
    "data['ocean_proximity'].value_counts()"
   ]
  },
  {
   "cell_type": "code",
   "execution_count": 7,
   "metadata": {},
   "outputs": [],
   "source": [
    "#(3)\n",
    "#Divido el dataset en 2 partes\n",
    "from sklearn.model_selection import train_test_split\n",
    "train, test = train_test_split(data, test_size=0.2)\n"
   ]
  },
  {
   "cell_type": "code",
   "execution_count": 9,
   "metadata": {},
   "outputs": [
    {
     "data": {
      "text/plain": [
       "(array([ 143., 1267., 3642., 1323.,  887., 2308., 5005., 1765.,  145.,\n",
       "          27.]),\n",
       " array([-124.35 , -123.346, -122.342, -121.338, -120.334, -119.33 ,\n",
       "        -118.326, -117.322, -116.318, -115.314, -114.31 ]),\n",
       " <BarContainer object of 10 artists>)"
      ]
     },
     "execution_count": 9,
     "metadata": {},
     "output_type": "execute_result"
    },
    {
     "data": {
      "image/png": "[encoded data removed]",
      "text/plain": [
       "<Figure size 432x288 with 1 Axes>"
      ]
     },
     "metadata": {
      "needs_background": "light"
     },
     "output_type": "display_data"
    }
   ],
   "source": [
    "#(4)\n",
    "#Hago un histograma de cada feature\n",
    "import matplotlib.pyplot as plt\n",
    "#train.plot.hist() #no funciona muy bien\n",
    "plt.hist(train[\"longitude\"])"
   ]
  },
  {
   "cell_type": "code",
   "execution_count": 16,
   "metadata": {},
   "outputs": [
    {
     "data": {
      "text/plain": [
       "<AxesSubplot:xlabel='longitude', ylabel='latitude'>"
      ]
     },
     "execution_count": 16,
     "metadata": {},
     "output_type": "execute_result"
    },
    {
     "data": {
      "image/png": "[encoded data removed]",
      "text/plain": [
       "<Figure size 432x288 with 2 Axes>"
      ]
     },
     "metadata": {
      "needs_background": "light"
     },
     "output_type": "display_data"
    }
   ],
   "source": [
    "#Scatterplot de los precios sobre un mapa\n",
    "#data.plot.scatter(x='longitude', y='latitude')\n",
    "train.plot.scatter(x='longitude', y='latitude', c='median_house_value', cmap='jet')\n"
   ]
  },
  {
   "cell_type": "code",
   "execution_count": 22,
   "metadata": {},
   "outputs": [
    {
     "data": {
      "text/html": [
       "<div>\n",
       "<style scoped>\n",
       "    .dataframe tbody tr th:only-of-type {\n",
       "        vertical-align: middle;\n",
       "    }\n",
       "\n",
       "    .dataframe tbody tr th {\n",
       "        vertical-align: top;\n",
       "    }\n",
       "\n",
       "    .dataframe thead th {\n",
       "        text-align: right;\n",
       "    }\n",
       "</style>\n",
       "<table border=\"1\" class=\"dataframe\">\n",
       "  <thead>\n",
       "    <tr style=\"text-align: right;\">\n",
       "      <th></th>\n",
       "      <th>longitude</th>\n",
       "      <th>latitude</th>\n",
       "      <th>housing_median_age</th>\n",
       "      <th>total_rooms</th>\n",
       "      <th>total_bedrooms</th>\n",
       "      <th>population</th>\n",
       "      <th>households</th>\n",
       "      <th>median_income</th>\n",
       "      <th>median_house_value</th>\n",
       "    </tr>\n",
       "  </thead>\n",
       "  <tbody>\n",
       "    <tr>\n",
       "      <th>longitude</th>\n",
       "      <td>1.000000</td>\n",
       "      <td>-0.925046</td>\n",
       "      <td>-0.110000</td>\n",
       "      <td>0.044722</td>\n",
       "      <td>0.070137</td>\n",
       "      <td>0.100935</td>\n",
       "      <td>0.056171</td>\n",
       "      <td>-0.015200</td>\n",
       "      <td>-0.046356</td>\n",
       "    </tr>\n",
       "    <tr>\n",
       "      <th>latitude</th>\n",
       "      <td>-0.925046</td>\n",
       "      <td>1.000000</td>\n",
       "      <td>0.012515</td>\n",
       "      <td>-0.037102</td>\n",
       "      <td>-0.068115</td>\n",
       "      <td>-0.110562</td>\n",
       "      <td>-0.072257</td>\n",
       "      <td>-0.079396</td>\n",
       "      <td>-0.142773</td>\n",
       "    </tr>\n",
       "    <tr>\n",
       "      <th>housing_median_age</th>\n",
       "      <td>-0.110000</td>\n",
       "      <td>0.012515</td>\n",
       "      <td>1.000000</td>\n",
       "      <td>-0.360041</td>\n",
       "      <td>-0.317807</td>\n",
       "      <td>-0.292608</td>\n",
       "      <td>-0.299791</td>\n",
       "      <td>-0.123689</td>\n",
       "      <td>0.105180</td>\n",
       "    </tr>\n",
       "    <tr>\n",
       "      <th>total_rooms</th>\n",
       "      <td>0.044722</td>\n",
       "      <td>-0.037102</td>\n",
       "      <td>-0.360041</td>\n",
       "      <td>1.000000</td>\n",
       "      <td>0.930172</td>\n",
       "      <td>0.857836</td>\n",
       "      <td>0.919282</td>\n",
       "      <td>0.203700</td>\n",
       "      <td>0.138871</td>\n",
       "    </tr>\n",
       "    <tr>\n",
       "      <th>total_bedrooms</th>\n",
       "      <td>0.070137</td>\n",
       "      <td>-0.068115</td>\n",
       "      <td>-0.317807</td>\n",
       "      <td>0.930172</td>\n",
       "      <td>1.000000</td>\n",
       "      <td>0.879730</td>\n",
       "      <td>0.981062</td>\n",
       "      <td>-0.003132</td>\n",
       "      <td>0.053928</td>\n",
       "    </tr>\n",
       "    <tr>\n",
       "      <th>population</th>\n",
       "      <td>0.100935</td>\n",
       "      <td>-0.110562</td>\n",
       "      <td>-0.292608</td>\n",
       "      <td>0.857836</td>\n",
       "      <td>0.879730</td>\n",
       "      <td>1.000000</td>\n",
       "      <td>0.907810</td>\n",
       "      <td>0.006964</td>\n",
       "      <td>-0.021847</td>\n",
       "    </tr>\n",
       "    <tr>\n",
       "      <th>households</th>\n",
       "      <td>0.056171</td>\n",
       "      <td>-0.072257</td>\n",
       "      <td>-0.299791</td>\n",
       "      <td>0.919282</td>\n",
       "      <td>0.981062</td>\n",
       "      <td>0.907810</td>\n",
       "      <td>1.000000</td>\n",
       "      <td>0.018490</td>\n",
       "      <td>0.070036</td>\n",
       "    </tr>\n",
       "    <tr>\n",
       "      <th>median_income</th>\n",
       "      <td>-0.015200</td>\n",
       "      <td>-0.079396</td>\n",
       "      <td>-0.123689</td>\n",
       "      <td>0.203700</td>\n",
       "      <td>-0.003132</td>\n",
       "      <td>0.006964</td>\n",
       "      <td>0.018490</td>\n",
       "      <td>1.000000</td>\n",
       "      <td>0.689192</td>\n",
       "    </tr>\n",
       "    <tr>\n",
       "      <th>median_house_value</th>\n",
       "      <td>-0.046356</td>\n",
       "      <td>-0.142773</td>\n",
       "      <td>0.105180</td>\n",
       "      <td>0.138871</td>\n",
       "      <td>0.053928</td>\n",
       "      <td>-0.021847</td>\n",
       "      <td>0.070036</td>\n",
       "      <td>0.689192</td>\n",
       "      <td>1.000000</td>\n",
       "    </tr>\n",
       "  </tbody>\n",
       "</table>\n",
       "</div>"
      ],
      "text/plain": [
       "                    longitude  latitude  housing_median_age  total_rooms  \\\n",
       "longitude            1.000000 -0.925046           -0.110000     0.044722   \n",
       "latitude            -0.925046  1.000000            0.012515    -0.037102   \n",
       "housing_median_age  -0.110000  0.012515            1.000000    -0.360041   \n",
       "total_rooms          0.044722 -0.037102           -0.360041     1.000000   \n",
       "total_bedrooms       0.070137 -0.068115           -0.317807     0.930172   \n",
       "population           0.100935 -0.110562           -0.292608     0.857836   \n",
       "households           0.056171 -0.072257           -0.299791     0.919282   \n",
       "median_income       -0.015200 -0.079396           -0.123689     0.203700   \n",
       "median_house_value  -0.046356 -0.142773            0.105180     0.138871   \n",
       "\n",
       "                    total_bedrooms  population  households  median_income  \\\n",
       "longitude                 0.070137    0.100935    0.056171      -0.015200   \n",
       "latitude                 -0.068115   -0.110562   -0.072257      -0.079396   \n",
       "housing_median_age       -0.317807   -0.292608   -0.299791      -0.123689   \n",
       "total_rooms               0.930172    0.857836    0.919282       0.203700   \n",
       "total_bedrooms            1.000000    0.879730    0.981062      -0.003132   \n",
       "population                0.879730    1.000000    0.907810       0.006964   \n",
       "households                0.981062    0.907810    1.000000       0.018490   \n",
       "median_income            -0.003132    0.006964    0.018490       1.000000   \n",
       "median_house_value        0.053928   -0.021847    0.070036       0.689192   \n",
       "\n",
       "                    median_house_value  \n",
       "longitude                    -0.046356  \n",
       "latitude                     -0.142773  \n",
       "housing_median_age            0.105180  \n",
       "total_rooms                   0.138871  \n",
       "total_bedrooms                0.053928  \n",
       "population                   -0.021847  \n",
       "households                    0.070036  \n",
       "median_income                 0.689192  \n",
       "median_house_value            1.000000  "
      ]
     },
     "execution_count": 22,
     "metadata": {},
     "output_type": "execute_result"
    }
   ],
   "source": [
    "#Matriz de correlaciones\n",
    "train.corr()"
   ]
  },
  {
   "cell_type": "code",
   "execution_count": 23,
   "metadata": {},
   "outputs": [
    {
     "data": {
      "text/plain": [
       "<matplotlib.image.AxesImage at 0x25f72e9eac0>"
      ]
     },
     "execution_count": 23,
     "metadata": {},
     "output_type": "execute_result"
    },
    {
     "data": {
      "image/png": "[encoded data removed]",
      "text/plain": [
       "<Figure size 288x288 with 1 Axes>"
      ]
     },
     "metadata": {
      "needs_background": "light"
     },
     "output_type": "display_data"
    }
   ],
   "source": [
    "plt.matshow(train.corr())"
   ]
  },
  {
   "cell_type": "code",
   "execution_count": 34,
   "metadata": {},
   "outputs": [
    {
     "name": "stderr",
     "output_type": "stream",
     "text": [
      "C:\\Users\\lupam\\AppData\\Local\\Temp\\ipykernel_10976\\3405544879.py:11: FutureWarning: Dropping of nuisance columns in DataFrame reductions (with 'numeric_only=None') is deprecated; in a future version this will raise TypeError.  Select only valid columns before calling the reduction.\n",
      "  train.mean()\n"
     ]
    },
    {
     "data": {
      "text/plain": [
       "longitude               -119.571607\n",
       "latitude                  35.632729\n",
       "housing_median_age        28.650678\n",
       "total_rooms             2633.302871\n",
       "total_bedrooms           536.868682\n",
       "population              1424.220082\n",
       "households               499.067163\n",
       "median_income              3.869687\n",
       "median_house_value    206877.463542\n",
       "dtype: float64"
      ]
     },
     "execution_count": 34,
     "metadata": {},
     "output_type": "execute_result"
    }
   ],
   "source": [
    "#(6)\n",
    "#Elimino los NaNs\n",
    "\n",
    "#opción 1: elimino las filas con NaNs\n",
    "#train.dropna() #Pasa de 16512 a 16342 filas\n",
    "\n",
    "#opción 2: elimino las columnas con NaNs\n",
    "#train.dropna(axis = 1) #Quita una columna\n",
    "\n",
    "#opción 3: reemplazo los NaNs por la media de la columna (podría ser tmb la moda, la mediana, algún valor random entre el 4to y 6to cuartil, etc.)\n",
    "train.fillna(train.mean()) #Creo que esto hacer lo que quiero: saca la media de cada columna, y reemplaza los NaNs por esa media.\n"
   ]
  }
 ],
 "metadata": {
  "kernelspec": {
   "display_name": "Python 3.9.12 ('Introduccion_al_ML_IB')",
   "language": "python",
   "name": "python3"
  },
  "language_info": {
   "codemirror_mode": {
    "name": "ipython",
    "version": 3
   },
   "file_extension": ".py",
   "mimetype": "text/x-python",
   "name": "python",
   "nbconvert_exporter": "python",
   "pygments_lexer": "ipython3",
   "version": "3.9.12"
  },
  "orig_nbformat": 4,
  "vscode": {
   "interpreter": {
    "hash": "0aa1956f6385f32f27cbf130d1061fb9b6a3751ba793bfb23dacf8373af4031e"
   }
  }
 },
 "nbformat": 4,
 "nbformat_minor": 2
}
