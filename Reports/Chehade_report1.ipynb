{
 "cells": [
  {
   "cell_type": "markdown",
   "metadata": {},
   "source": [
    "# Fundamentals of Machine Learning - 2022\n",
    "## Report 1 - Classification task\n",
    "Pablo Chehade  \n",
    "Última modificación: 13/09/2022\n"
   ]
  },
  {
   "cell_type": "markdown",
   "metadata": {},
   "source": [
    "### Introducción\n",
    "\n",
    "El objetivo es construir un modelo de machine learning que sea capaz de predecir el target de un problema lo mejor posible, utilizando en el camino las herramientas y conceptos enseñados en clase.  \n",
    "- TARGET: clase de árbol más frecuente en una celda de 30m por 30m que contiene distintos tipos de árboles\n",
    "- PREDICTOR VARIABLES: info. geográfica sobre tal celda, como por ejemplo pendiente del suelo, distacia a cuerpos de agua o posibles fire sports, etc.  \n",
    "\n",
    "Para tal fin se puede experimentar con solo dos modelos: random forests y xgboost  \n",
    "\n",
    "Además, como estimación del error se empleó solo el parámetro Accuracy definido como el nro de predicciones correctas sobre el nro total de predicciones. Formalmente, se deberían tener en cuenta otros estimadores del error, como Precision o Recall, pero se optó solo por Accuracy por simplicidad. Además, no se tiene suficiente información del problema como para evaluar la necesidad de hacer un trade off entre los estimadores de error nombrados. Esto es, no se sabe cuál es la relación entre positivos, falsos positivos, falsos negativos, ... que busca quien planteó el problema.\n",
    "\n",
    "En primer lugar, se realizó un análisis exploratorio de los datos. Un primer vistazo sobre todo el set de datos y un análisis más detallado sobre el set de training. Es necesario aclarar que se decidió hacer una separación entre training y test, de modo de cuantificar el error del modelo final. En segundo lugar, se implementaron los modelos mencionados. En cada uno de ellos se comenzó con un modelo primitivo con el objetivo de evaluar el overfitting del mismo. Luego, se implementó grid search y cross validation, de modo de obtener el mejor conjunto de hiperparámetros. Después, se analizó la importancia de los atributos, construyendo un modelo con menor error y a su ver menor cantidad de atributos. Por último, se eligió el modelo que tuviese menor error."
   ]
  },
  {
   "cell_type": "code",
   "execution_count": 9,
   "metadata": {},
   "outputs": [
    {
     "ename": "AttributeError",
     "evalue": "module 'numpy' has no attribute 'square'",
     "output_type": "error",
     "traceback": [
      "\u001b[1;31m---------------------------------------------------------------------------\u001b[0m",
      "\u001b[1;31mAttributeError\u001b[0m                            Traceback (most recent call last)",
      "\u001b[1;32mc:\\Users\\lupam\\OneDrive\\Escritorio\\MLFundamentals_ejercicios\\Reports\\Chehade_report1.ipynb Celda 3\u001b[0m in \u001b[0;36m<cell line: 2>\u001b[1;34m()\u001b[0m\n\u001b[0;32m      <a href='vscode-notebook-cell:/c%3A/Users/lupam/OneDrive/Escritorio/MLFundamentals_ejercicios/Reports/Chehade_report1.ipynb#W2sZmlsZQ%3D%3D?line=0'>1</a>\u001b[0m \u001b[39m#Importo librerías\u001b[39;00m\n\u001b[1;32m----> <a href='vscode-notebook-cell:/c%3A/Users/lupam/OneDrive/Escritorio/MLFundamentals_ejercicios/Reports/Chehade_report1.ipynb#W2sZmlsZQ%3D%3D?line=1'>2</a>\u001b[0m \u001b[39mimport\u001b[39;00m \u001b[39mmatplotlib\u001b[39;00m\u001b[39m.\u001b[39;00m\u001b[39mpyplot\u001b[39;00m \u001b[39mas\u001b[39;00m \u001b[39mplt\u001b[39;00m\n\u001b[0;32m      <a href='vscode-notebook-cell:/c%3A/Users/lupam/OneDrive/Escritorio/MLFundamentals_ejercicios/Reports/Chehade_report1.ipynb#W2sZmlsZQ%3D%3D?line=2'>3</a>\u001b[0m \u001b[39mimport\u001b[39;00m \u001b[39mnumpy\u001b[39;00m \u001b[39mas\u001b[39;00m \u001b[39mnp\u001b[39;00m\n\u001b[0;32m      <a href='vscode-notebook-cell:/c%3A/Users/lupam/OneDrive/Escritorio/MLFundamentals_ejercicios/Reports/Chehade_report1.ipynb#W2sZmlsZQ%3D%3D?line=3'>4</a>\u001b[0m \u001b[39mimport\u001b[39;00m \u001b[39mpandas\u001b[39;00m \u001b[39mas\u001b[39;00m \u001b[39mpd\u001b[39;00m\n",
      "File \u001b[1;32mc:\\ProgramData\\Anaconda3\\envs\\Introduccion_al_ML_IB\\lib\\site-packages\\matplotlib\\__init__.py:127\u001b[0m, in \u001b[0;36m<module>\u001b[1;34m\u001b[0m\n\u001b[0;32m    123\u001b[0m \u001b[39mimport\u001b[39;00m \u001b[39mwarnings\u001b[39;00m\n\u001b[0;32m    125\u001b[0m \u001b[39m# cbook must import matplotlib only within function\u001b[39;00m\n\u001b[0;32m    126\u001b[0m \u001b[39m# definitions, so it is safe to import from it here.\u001b[39;00m\n\u001b[1;32m--> 127\u001b[0m \u001b[39mfrom\u001b[39;00m \u001b[39m.\u001b[39;00m \u001b[39mimport\u001b[39;00m cbook\n\u001b[0;32m    128\u001b[0m \u001b[39mfrom\u001b[39;00m \u001b[39mmatplotlib\u001b[39;00m\u001b[39m.\u001b[39;00m\u001b[39mcbook\u001b[39;00m \u001b[39mimport\u001b[39;00m (\n\u001b[0;32m    129\u001b[0m     _backports, mplDeprecation, dedent, get_label, sanitize_sequence)\n\u001b[0;32m    130\u001b[0m \u001b[39mfrom\u001b[39;00m \u001b[39mmatplotlib\u001b[39;00m\u001b[39m.\u001b[39;00m\u001b[39mcompat\u001b[39;00m \u001b[39mimport\u001b[39;00m subprocess\n",
      "File \u001b[1;32mc:\\ProgramData\\Anaconda3\\envs\\Introduccion_al_ML_IB\\lib\\site-packages\\matplotlib\\cbook\\__init__.py:2640\u001b[0m, in \u001b[0;36m<module>\u001b[1;34m\u001b[0m\n\u001b[0;32m   2618\u001b[0m         \u001b[39m\"\"\"\u001b[39;00m\n\u001b[0;32m   2619\u001b[0m \u001b[39m        Returns a boolean indicating if the set of additional parameters is\u001b[39;00m\n\u001b[0;32m   2620\u001b[0m \u001b[39m        valid.\u001b[39;00m\n\u001b[1;32m   (...)\u001b[0m\n\u001b[0;32m   2634\u001b[0m \n\u001b[0;32m   2635\u001b[0m \u001b[39m        \"\"\"\u001b[39;00m\n\u001b[0;32m   2637\u001b[0m         \u001b[39mreturn\u001b[39;00m \u001b[39mself\u001b[39m\u001b[39m.\u001b[39m_check_params(params)\n\u001b[1;32m-> 2640\u001b[0m \u001b[39mclass\u001b[39;00m \u001b[39m_StringFuncParser\u001b[39;00m(\u001b[39mobject\u001b[39m):\n\u001b[0;32m   2641\u001b[0m     \u001b[39m\"\"\"\u001b[39;00m\n\u001b[0;32m   2642\u001b[0m \u001b[39m    A class used to convert predefined strings into\u001b[39;00m\n\u001b[0;32m   2643\u001b[0m \u001b[39m    _FuncInfo objects, or to directly obtain _FuncInfo\u001b[39;00m\n\u001b[0;32m   2644\u001b[0m \u001b[39m    properties.\u001b[39;00m\n\u001b[0;32m   2645\u001b[0m \n\u001b[0;32m   2646\u001b[0m \u001b[39m    \"\"\"\u001b[39;00m\n\u001b[0;32m   2648\u001b[0m     _funcs \u001b[39m=\u001b[39m {}\n",
      "File \u001b[1;32mc:\\ProgramData\\Anaconda3\\envs\\Introduccion_al_ML_IB\\lib\\site-packages\\matplotlib\\cbook\\__init__.py:2652\u001b[0m, in \u001b[0;36m_StringFuncParser\u001b[1;34m()\u001b[0m\n\u001b[0;32m   2648\u001b[0m _funcs \u001b[39m=\u001b[39m {}\n\u001b[0;32m   2649\u001b[0m _funcs[\u001b[39m'\u001b[39m\u001b[39mlinear\u001b[39m\u001b[39m'\u001b[39m] \u001b[39m=\u001b[39m _FuncInfo(\u001b[39mlambda\u001b[39;00m x: x,\n\u001b[0;32m   2650\u001b[0m                              \u001b[39mlambda\u001b[39;00m x: x,\n\u001b[0;32m   2651\u001b[0m                              \u001b[39mTrue\u001b[39;00m)\n\u001b[1;32m-> 2652\u001b[0m _funcs[\u001b[39m'\u001b[39m\u001b[39mquadratic\u001b[39m\u001b[39m'\u001b[39m] \u001b[39m=\u001b[39m _FuncInfo(np\u001b[39m.\u001b[39;49msquare,\n\u001b[0;32m   2653\u001b[0m                                 np\u001b[39m.\u001b[39msqrt,\n\u001b[0;32m   2654\u001b[0m                                 \u001b[39mTrue\u001b[39;00m)\n\u001b[0;32m   2655\u001b[0m _funcs[\u001b[39m'\u001b[39m\u001b[39mcubic\u001b[39m\u001b[39m'\u001b[39m] \u001b[39m=\u001b[39m _FuncInfo(\u001b[39mlambda\u001b[39;00m x: x\u001b[39m*\u001b[39m\u001b[39m*\u001b[39m\u001b[39m3\u001b[39m,\n\u001b[0;32m   2656\u001b[0m                             \u001b[39mlambda\u001b[39;00m x: x\u001b[39m*\u001b[39m\u001b[39m*\u001b[39m(\u001b[39m1.\u001b[39m \u001b[39m/\u001b[39m \u001b[39m3\u001b[39m),\n\u001b[0;32m   2657\u001b[0m                             \u001b[39mTrue\u001b[39;00m)\n\u001b[0;32m   2658\u001b[0m _funcs[\u001b[39m'\u001b[39m\u001b[39msqrt\u001b[39m\u001b[39m'\u001b[39m] \u001b[39m=\u001b[39m _FuncInfo(np\u001b[39m.\u001b[39msqrt,\n\u001b[0;32m   2659\u001b[0m                            np\u001b[39m.\u001b[39msquare,\n\u001b[0;32m   2660\u001b[0m                            \u001b[39mTrue\u001b[39;00m)\n",
      "\u001b[1;31mAttributeError\u001b[0m: module 'numpy' has no attribute 'square'"
     ]
    }
   ],
   "source": [
    "#Importo librerías\n",
    "import matplotlib.pyplot as plt\n",
    "import numpy as np\n",
    "import pandas as pd\n",
    "from sklearn.model_selection import train_test_split #Para dividir el dataset en 2 partes\n",
    "from sklearn.metrics import accuracy_score"
   ]
  },
  {
   "cell_type": "markdown",
   "metadata": {},
   "source": [
    "### Análisis Exploratorio de los Datos"
   ]
  },
  {
   "cell_type": "markdown",
   "metadata": {},
   "source": [
    "#### Primer vistazo a los datos"
   ]
  },
  {
   "cell_type": "code",
   "execution_count": 68,
   "metadata": {},
   "outputs": [],
   "source": [
    "#Importo el dataset con pandas\n",
    "data = pd.read_csv('datasets/train_r1.csv')"
   ]
  },
  {
   "cell_type": "code",
   "execution_count": 69,
   "metadata": {},
   "outputs": [
    {
     "data": {
      "text/html": [
       "<div>\n",
       "<style scoped>\n",
       "    .dataframe tbody tr th:only-of-type {\n",
       "        vertical-align: middle;\n",
       "    }\n",
       "\n",
       "    .dataframe tbody tr th {\n",
       "        vertical-align: top;\n",
       "    }\n",
       "\n",
       "    .dataframe thead th {\n",
       "        text-align: right;\n",
       "    }\n",
       "</style>\n",
       "<table border=\"1\" class=\"dataframe\">\n",
       "  <thead>\n",
       "    <tr style=\"text-align: right;\">\n",
       "      <th></th>\n",
       "      <th>altura</th>\n",
       "      <th>exposicion</th>\n",
       "      <th>inclinacion_suelo</th>\n",
       "      <th>distancia_agua</th>\n",
       "      <th>altura_agua</th>\n",
       "      <th>distancia_caminos</th>\n",
       "      <th>sombra_maniana</th>\n",
       "      <th>sombra_mediodia</th>\n",
       "      <th>sombra_tarde</th>\n",
       "      <th>distancia_fuego</th>\n",
       "      <th>clase_area_silvestre</th>\n",
       "      <th>clase_suelo</th>\n",
       "      <th>dosel_forestal</th>\n",
       "    </tr>\n",
       "  </thead>\n",
       "  <tbody>\n",
       "    <tr>\n",
       "      <th>0</th>\n",
       "      <td>2596</td>\n",
       "      <td>51</td>\n",
       "      <td>3</td>\n",
       "      <td>258</td>\n",
       "      <td>0</td>\n",
       "      <td>510</td>\n",
       "      <td>221</td>\n",
       "      <td>232</td>\n",
       "      <td>148</td>\n",
       "      <td>6279</td>\n",
       "      <td>1</td>\n",
       "      <td>29</td>\n",
       "      <td>5</td>\n",
       "    </tr>\n",
       "    <tr>\n",
       "      <th>1</th>\n",
       "      <td>2804</td>\n",
       "      <td>139</td>\n",
       "      <td>9</td>\n",
       "      <td>268</td>\n",
       "      <td>65</td>\n",
       "      <td>3180</td>\n",
       "      <td>234</td>\n",
       "      <td>238</td>\n",
       "      <td>135</td>\n",
       "      <td>6121</td>\n",
       "      <td>1</td>\n",
       "      <td>12</td>\n",
       "      <td>2</td>\n",
       "    </tr>\n",
       "    <tr>\n",
       "      <th>2</th>\n",
       "      <td>2785</td>\n",
       "      <td>155</td>\n",
       "      <td>18</td>\n",
       "      <td>242</td>\n",
       "      <td>118</td>\n",
       "      <td>3090</td>\n",
       "      <td>238</td>\n",
       "      <td>238</td>\n",
       "      <td>122</td>\n",
       "      <td>6211</td>\n",
       "      <td>1</td>\n",
       "      <td>30</td>\n",
       "      <td>2</td>\n",
       "    </tr>\n",
       "    <tr>\n",
       "      <th>3</th>\n",
       "      <td>2595</td>\n",
       "      <td>45</td>\n",
       "      <td>2</td>\n",
       "      <td>153</td>\n",
       "      <td>-1</td>\n",
       "      <td>391</td>\n",
       "      <td>220</td>\n",
       "      <td>234</td>\n",
       "      <td>150</td>\n",
       "      <td>6172</td>\n",
       "      <td>1</td>\n",
       "      <td>29</td>\n",
       "      <td>5</td>\n",
       "    </tr>\n",
       "    <tr>\n",
       "      <th>4</th>\n",
       "      <td>2579</td>\n",
       "      <td>132</td>\n",
       "      <td>6</td>\n",
       "      <td>300</td>\n",
       "      <td>-15</td>\n",
       "      <td>67</td>\n",
       "      <td>230</td>\n",
       "      <td>237</td>\n",
       "      <td>140</td>\n",
       "      <td>6031</td>\n",
       "      <td>1</td>\n",
       "      <td>29</td>\n",
       "      <td>2</td>\n",
       "    </tr>\n",
       "  </tbody>\n",
       "</table>\n",
       "</div>"
      ],
      "text/plain": [
       "   altura  exposicion  inclinacion_suelo  distancia_agua  altura_agua  \\\n",
       "0    2596          51                  3             258            0   \n",
       "1    2804         139                  9             268           65   \n",
       "2    2785         155                 18             242          118   \n",
       "3    2595          45                  2             153           -1   \n",
       "4    2579         132                  6             300          -15   \n",
       "\n",
       "   distancia_caminos  sombra_maniana  sombra_mediodia  sombra_tarde  \\\n",
       "0                510             221              232           148   \n",
       "1               3180             234              238           135   \n",
       "2               3090             238              238           122   \n",
       "3                391             220              234           150   \n",
       "4                 67             230              237           140   \n",
       "\n",
       "   distancia_fuego  clase_area_silvestre  clase_suelo  dosel_forestal  \n",
       "0             6279                     1           29               5  \n",
       "1             6121                     1           12               2  \n",
       "2             6211                     1           30               2  \n",
       "3             6172                     1           29               5  \n",
       "4             6031                     1           29               2  "
      ]
     },
     "execution_count": 69,
     "metadata": {},
     "output_type": "execute_result"
    }
   ],
   "source": [
    "#Imprimo las primeras columnas\n",
    "data.head()"
   ]
  },
  {
   "cell_type": "code",
   "execution_count": 70,
   "metadata": {},
   "outputs": [
    {
     "name": "stdout",
     "output_type": "stream",
     "text": [
      "<class 'pandas.core.frame.DataFrame'>\n",
      "RangeIndex: 464810 entries, 0 to 464809\n",
      "Data columns (total 13 columns):\n",
      " #   Column                Non-Null Count   Dtype\n",
      "---  ------                --------------   -----\n",
      " 0   altura                464810 non-null  int64\n",
      " 1   exposicion            464810 non-null  int64\n",
      " 2   inclinacion_suelo     464810 non-null  int64\n",
      " 3   distancia_agua        464810 non-null  int64\n",
      " 4   altura_agua           464810 non-null  int64\n",
      " 5   distancia_caminos     464810 non-null  int64\n",
      " 6   sombra_maniana        464810 non-null  int64\n",
      " 7   sombra_mediodia       464810 non-null  int64\n",
      " 8   sombra_tarde          464810 non-null  int64\n",
      " 9   distancia_fuego       464810 non-null  int64\n",
      " 10  clase_area_silvestre  464810 non-null  int64\n",
      " 11  clase_suelo           464810 non-null  int64\n",
      " 12  dosel_forestal        464810 non-null  int64\n",
      "dtypes: int64(13)\n",
      "memory usage: 46.1 MB\n"
     ]
    }
   ],
   "source": [
    "#Imprimo info gral del dataset\n",
    "data.info()"
   ]
  },
  {
   "cell_type": "code",
   "execution_count": null,
   "metadata": {},
   "outputs": [],
   "source": [
    "# <class 'pandas.core.frame.DataFrame'>\n",
    "# RangeIndex: 464810 entries, 0 to 464809\n",
    "# Data columns (total 13 columns):\n",
    "#  #   Column                Non-Null Count   Dtype\n",
    "# ---  ------                --------------   -----\n",
    "#  0   altura                464810 non-null  int64\n",
    "#  1   exposicion            464810 non-null  int64\n",
    "#  2   inclinacion_suelo     464810 non-null  int64\n",
    "#  3   distancia_agua        464810 non-null  int64\n",
    "#  4   altura_agua           464810 non-null  int64\n",
    "#  5   distancia_caminos     464810 non-null  int64\n",
    "#  6   sombra_maniana        464810 non-null  int64\n",
    "#  7   sombra_mediodia       464810 non-null  int64\n",
    "#  8   sombra_tarde          464810 non-null  int64\n",
    "#  9   distancia_fuego       464810 non-null  int64\n",
    "#  10  clase_area_silvestre  464810 non-null  int64\n",
    "#  11  clase_suelo           464810 non-null  int64\n",
    "#  12  dosel_forestal        464810 non-null  int64\n",
    "# dtypes: int64(13)\n",
    "# memory usage: 46.1 MB"
   ]
  },
  {
   "cell_type": "code",
   "execution_count": 71,
   "metadata": {},
   "outputs": [
    {
     "data": {
      "text/plain": [
       "2    226596\n",
       "1    169395\n",
       "3     28602\n",
       "7     16406\n",
       "6     13993\n",
       "5      7614\n",
       "4      2204\n",
       "Name: dosel_forestal, dtype: int64"
      ]
     },
     "execution_count": 71,
     "metadata": {},
     "output_type": "execute_result"
    }
   ],
   "source": [
    "#Veo las categorías de las variables categóricas y la frecuencia de cada una:\n",
    "#data[\"clase_area_silvestre\"].value_counts()\n",
    "#data[\"clase_suelo\"].value_counts()\n",
    "data[\"dosel_forestal\"].value_counts()"
   ]
  },
  {
   "cell_type": "code",
   "execution_count": null,
   "metadata": {},
   "outputs": [],
   "source": [
    "# 2    226596\n",
    "# 1    169395\n",
    "# 3     28602\n",
    "# 7     16406\n",
    "# 6     13993\n",
    "# 5      7614\n",
    "# 4      2204\n",
    "# Name: dosel_forestal, dtype: int64"
   ]
  },
  {
   "cell_type": "markdown",
   "metadata": {},
   "source": [
    "##### Observaciones\n",
    "\n",
    "Se tienen 12 variables predictoras y 1 target (clase_forestal). Tipos de variables:\n",
    "- Las variables exposicion (columna 2) e inclinacion_suelo (columna 3) se encuentran en grados.\n",
    "- Las variables sombra_maniana (columna 7), sombra_mediodia (columna 8) y sombra_tarde (columna 9) son enteros en el intervalo [0,255].\n",
    "- Las variables clase_area_silvestre (columna 11), clase_suelo (columna 12) y dosel_forestal (columna 13) son categóricas. La primera tiene 4 categorías, la 2da, 40 y la 3ra, 7. Los nros enteros representan clases.  \n",
    "- El resto de variables son distancias en metro  \n",
    "\n",
    "Datos nulos: No hay datos nulos en el dataset."
   ]
  },
  {
   "cell_type": "markdown",
   "metadata": {},
   "source": [
    "#### Separo entre Train y Test\n",
    "\n",
    "Tengo que poner en test_size al menos un nro bien pequeño cosa de que haga el random sobre el train_set"
   ]
  },
  {
   "cell_type": "code",
   "execution_count": 72,
   "metadata": {},
   "outputs": [],
   "source": [
    "#Divido el dataset entre train y test. A partir de ahora no utilizaré test\n",
    "train_set, test_set = train_test_split(data, test_size=0.2, random_state=42) ### Fijamos 20% para test y 42 es el random state para poder reproducir los resultados.\n",
    "\n",
    "#Guardo el test set en un archivo pickle\n",
    "test_set.to_pickle(\"datasets/data_test.pkl\")"
   ]
  },
  {
   "cell_type": "markdown",
   "metadata": {},
   "source": [
    "#### Análisis Exploratorio sobre el set de Train"
   ]
  },
  {
   "cell_type": "markdown",
   "metadata": {},
   "source": [
    "Analizo las distribuciones marginales de cada atributo y las correlaciones entre los mismos. Como norma general, es bueno que haya variables correlacionadas con el target, pero no que haya atributos correlacionados entre sí.\n",
    "\n",
    "ELIMINAR PARA EL INFORME FINAL:\n",
    "Uno necesita variables correlacionadas con el target porque justamente es lo que queremos predecir. Pero no está bueno que haya correlación entre variables porque en un espacio de dimensión n, harían que vivan n un espacio n-1. Eso para hacer ajustes de regresión trae problemas, pero para clasificación no.\n"
   ]
  },
  {
   "cell_type": "code",
   "execution_count": 73,
   "metadata": {},
   "outputs": [
    {
     "data": {
      "image/png": "[encoded data removed]",
      "text/plain": [
       "<Figure size 1440x1080 with 16 Axes>"
      ]
     },
     "metadata": {},
     "output_type": "display_data"
    }
   ],
   "source": [
    "#Hago un histograma de cada atributo\n",
    "train_set.hist(bins=50, figsize=(20,15));\n"
   ]
  },
  {
   "cell_type": "code",
   "execution_count": 74,
   "metadata": {},
   "outputs": [
    {
     "name": "stdout",
     "output_type": "stream",
     "text": [
      "altura                 -0.268298\n",
      "clase_suelo            -0.163547\n",
      "distancia_caminos      -0.152848\n",
      "distancia_fuego        -0.108455\n",
      "sombra_mediodia        -0.095722\n",
      "sombra_tarde           -0.048833\n",
      "sombra_maniana         -0.034310\n",
      "distancia_agua         -0.021745\n",
      "exposicion              0.017364\n",
      "altura_agua             0.080170\n",
      "inclinacion_suelo       0.147542\n",
      "clase_area_silvestre    0.276400\n",
      "dosel_forestal          1.000000\n",
      "Name: dosel_forestal, dtype: float64\n"
     ]
    }
   ],
   "source": [
    "#Analizo correlaciones entre atributos\n",
    "corr_matrix = train_set.corr()\n",
    "#plt.matshow(corr_matrix) #No aporta mucha info. la matriz de correlaciones\n",
    "\n",
    "corr_matrix = train_set.corr()\n",
    "print(corr_matrix[\"dosel_forestal\"].sort_values(ascending=True))"
   ]
  },
  {
   "cell_type": "code",
   "execution_count": null,
   "metadata": {},
   "outputs": [],
   "source": [
    "# altura                 -0.268298\n",
    "# clase_suelo            -0.163547\n",
    "# distancia_caminos      -0.152848\n",
    "# distancia_fuego        -0.108455\n",
    "# sombra_mediodia        -0.095722\n",
    "# sombra_tarde           -0.048833\n",
    "# sombra_maniana         -0.034310\n",
    "# distancia_agua         -0.021745\n",
    "# exposicion              0.017364\n",
    "# altura_agua             0.080170\n",
    "# inclinacion_suelo       0.147542\n",
    "# clase_area_silvestre    0.276400\n",
    "# dosel_forestal          1.000000\n",
    "# Name: dosel_forestal, dtype: float64"
   ]
  },
  {
   "cell_type": "code",
   "execution_count": 75,
   "metadata": {},
   "outputs": [
    {
     "data": {
      "image/png": "[encoded data removed]",
      "text/plain": [
       "<Figure size 1152x648 with 25 Axes>"
      ]
     },
     "metadata": {},
     "output_type": "display_data"
    }
   ],
   "source": [
    "#Las correlaciones de mayor módulo son clase_area_silvestre, altura, clase_suelo, distancia_caminos e inclinacion_suelo.\n",
    "\n",
    "feat_corr = [\"dosel_forestal\",\"clase_area_silvestre\", \"altura\", \"clase_suelo\", \"distancia_caminos\"]\n",
    "pd.plotting.scatter_matrix(train_set[feat_corr], figsize=(16, 9));"
   ]
  },
  {
   "cell_type": "code",
   "execution_count": 76,
   "metadata": {},
   "outputs": [
    {
     "data": {
      "image/png": "[encoded data removed]",
      "text/plain": [
       "<Figure size 1152x648 with 25 Axes>"
      ]
     },
     "metadata": {},
     "output_type": "display_data"
    }
   ],
   "source": [
    "#Intuitivamente, también esperaría que las variables altura, las tres de sombra e inclinacion_suelo estén correlacionadas. Me fijo si realmente es así\n",
    "feat_corr = [\"altura\", \"sombra_maniana\", \"sombra_mediodia\", \"sombra_tarde\", \"inclinacion_suelo\"]\n",
    "pd.plotting.scatter_matrix(train_set[feat_corr], figsize=(16, 9));"
   ]
  },
  {
   "cell_type": "markdown",
   "metadata": {},
   "source": [
    "##### Observaciones\n",
    "\n",
    "1. De los histogramas se obtiene que hay variables con distribución sesgada, tal como inclinacion_suelo, distancia_agua, entre otras. Pero también existen otras simétricas, como sombra_tarde. Por otro lado, no son de gran utilidad los histogramas de las variables categóricas, salvo para ver la proporción de datos para cada categoría. Por ejemplo, en el caso de la variable target dosel_forestal la clase 2 está en mayor proporción que las demás, mientras que la clase 4 es la de menor proporción.\n",
    "2. De la matriz de correlación se obtiene que\n",
    "* Las comparaciones entre variables categóricas no son muy útiles. La única info. que se obtiene es que existen datos que pertenecen a una determinada categoría de una variable pero nunca pertenecen a una determinada categoría de otra variable. Por ej, parece no haber datos en la categoría 3 de dosel_forestal y categoría 2 de clase_area_silvestre. Quizás podríamos obtener mayor información si supiéramos qué significa cada categoría.\n",
    "* Altura y clase_suelo parecen estar correlacionadas. En base a lo mencionado anteriormente, esto puede traer problemas en un futuro.\n",
    "* Altura y distancia_caminos también parecen estar correlacionadas. Podríamos crear una nueva variable que sea el cociente entre la variable distancia_caminos y altura.\n",
    "* Las variables de sombra tienen correlación entre sí, pero no se observa una clara correlación de las mismas con altura. Podría crear una variable que sea media de sombra_maniana, sombra_mediodia y sombra_tarde para ver si ayuda en algo al modelo.\n"
   ]
  },
  {
   "cell_type": "markdown",
   "metadata": {},
   "source": [
    "#### Creación de nuevos features\n",
    "\n",
    "En base a lo observado en el análisis exploratorio de los datos, podría ser útil crear las variables\n",
    "* sombra_mean: media de sombra_maniana, sombra_mediodia y sombra_tarde}\n",
    "* razon_distcaminos_altura: razón entre las variables distancia_caminos y altura."
   ]
  },
  {
   "cell_type": "code",
   "execution_count": 77,
   "metadata": {},
   "outputs": [
    {
     "name": "stdout",
     "output_type": "stream",
     "text": [
      "altura                     -0.268298\n",
      "clase_suelo                -0.163547\n",
      "distancia_caminos          -0.152848\n",
      "razon_distcaminos_altura   -0.142516\n",
      "distancia_fuego            -0.108455\n",
      "sombra_mean                -0.107742\n",
      "sombra_mediodia            -0.095722\n",
      "sombra_tarde               -0.048833\n",
      "sombra_maniana             -0.034310\n",
      "distancia_agua             -0.021745\n",
      "exposicion                  0.017364\n",
      "altura_agua                 0.080170\n",
      "inclinacion_suelo           0.147542\n",
      "clase_area_silvestre        0.276400\n",
      "dosel_forestal              1.000000\n",
      "Name: dosel_forestal, dtype: float64\n"
     ]
    }
   ],
   "source": [
    "#Creo nuevas variables\n",
    "sombra_mean = (train_set[\"sombra_maniana\"] + train_set[\"sombra_mediodia\"] + train_set[\"sombra_tarde\"])/3\n",
    "train_set[\"sombra_mean\"] = sombra_mean\n",
    "\n",
    "razon_distcaminos_altura = train_set[\"distancia_caminos\"]/train_set[\"altura\"]\n",
    "train_set[\"razon_distcaminos_altura\"] = razon_distcaminos_altura\n",
    "\n",
    "#Analizo nuevamente las correlaciones\n",
    "corr_matrix = train_set.corr()\n",
    "print(corr_matrix[\"dosel_forestal\"].sort_values(ascending=True))"
   ]
  },
  {
   "cell_type": "code",
   "execution_count": null,
   "metadata": {},
   "outputs": [],
   "source": [
    "# altura                     -0.268298\n",
    "# clase_suelo                -0.163547\n",
    "# distancia_caminos          -0.152848\n",
    "# razon_distcaminos_altura   -0.142516\n",
    "# distancia_fuego            -0.108455\n",
    "# sombra_mean                -0.107742\n",
    "# sombra_mediodia            -0.095722\n",
    "# sombra_tarde               -0.048833\n",
    "# sombra_maniana             -0.034310\n",
    "# distancia_agua             -0.021745\n",
    "# exposicion                  0.017364\n",
    "# altura_agua                 0.080170\n",
    "# inclinacion_suelo           0.147542\n",
    "# clase_area_silvestre        0.276400\n",
    "# dosel_forestal              1.000000\n",
    "# Name: dosel_forestal, dtype: float64"
   ]
  },
  {
   "cell_type": "markdown",
   "metadata": {},
   "source": [
    "##### Observaciones\n",
    "\n",
    "La nueva variable sombra_mean tiene ligeramente mayor correlación que las variables sombra_maniana, sombra_mediodia y sombra_tarde por separado\n",
    "La nueva variable razon_distcaminos_altura tiene menor correlación en módulo que distancia_caminos."
   ]
  },
  {
   "cell_type": "code",
   "execution_count": 78,
   "metadata": {},
   "outputs": [],
   "source": [
    "#Guardo los datos\n",
    "train_set.to_pickle(\"datasets/data_train.pkl\")"
   ]
  },
  {
   "cell_type": "markdown",
   "metadata": {},
   "source": [
    "### Random Forest\n",
    "\n",
    "Los árboles son robustos a la no normalización, por lo que no es necesario hacer standarización. Además, no hay missing values en los datos, por lo que no hay que trabajar con NaNs."
   ]
  },
  {
   "cell_type": "code",
   "execution_count": 79,
   "metadata": {},
   "outputs": [],
   "source": [
    "#Divido el train_set entre train_predictors y train_target\n",
    "train_predictors = train_set.drop(\"dosel_forestal\", axis=1)\n",
    "train_target = train_set[\"dosel_forestal\"].copy()\n"
   ]
  },
  {
   "cell_type": "markdown",
   "metadata": {},
   "source": [
    "#### Modelo simple con parámetros por default"
   ]
  },
  {
   "cell_type": "code",
   "execution_count": 80,
   "metadata": {},
   "outputs": [
    {
     "data": {
      "text/plain": [
       "RandomForestClassifier(max_depth=10, n_jobs=-1, random_state=42)"
      ]
     },
     "execution_count": 80,
     "metadata": {},
     "output_type": "execute_result"
    }
   ],
   "source": [
    "from sklearn.ensemble import RandomForestClassifier\n",
    "#Creo el modelo\n",
    "RFmodel = RandomForestClassifier(n_jobs = -1, random_state = 42, n_estimators = 100, max_depth = 10, min_samples_split = 2, min_samples_leaf = 1)\n",
    "#Lo entreno\n",
    "RFmodel.fit(train_predictors, train_target)"
   ]
  },
  {
   "cell_type": "markdown",
   "metadata": {},
   "source": [
    "##### Gráficos y cálculo de error\n",
    "\n",
    "El objetivo es ver cuán bien ajusta el modelo a los datos de train. Esto puede llegar a no ser tan visible porque muchas variables son categóricas. De hecho, las variables con mayor correlación con el target son clase_area_silvestre (categórica) y altura (continua).\n",
    "\n"
   ]
  },
  {
   "cell_type": "code",
   "execution_count": 81,
   "metadata": {},
   "outputs": [],
   "source": [
    "# import seaborn as sns\n",
    "\n",
    "# # Apply the default theme\n",
    "# sns.set_theme()\n",
    "# #El siguiente gráfico está bueno pero es poco representativo porque no se pueden ver bien los datos (son muchos)\n",
    "# sns.catplot(data=train_set, x=\"dosel_forestal\", y=\"altura\", jitter=0.25);\n",
    "# #Podemos hacer el mismo gráfico pero con una porción más pequeña del train set:\n",
    "# train_set_small = train_set.iloc[:1000] #Si bien los índices van de 0 a 1000, son aleatorios porque en la división entre train y test se mezclaron los datos.\n",
    "\n",
    "# #En el siguiente gráfico, la separación respecto a la vertical sólo se emplea para separar los puntos, no está asignado a ninguna variable\n",
    "# sns.catplot(data=train_set_small, x=\"dosel_forestal\", y=\"altura\", jitter=0.25);\n",
    "# #En el siguiente gráfico, la separación es tal que intenta no superponer puntos. Está buena pero no es útil para muchos datos.\n",
    "# sns.catplot(data=train_set_small, x=\"dosel_forestal\", y=\"altura\", kind=\"swarm\");\n",
    "\n",
    "# #Me quedo con el primer gráfico. Pero para que sea representativo voy a hacerlo sobre varios conjuntos de train_set_small. La diferencia es enorme de todos modos. En los gráficos tomo solo 1.000 datos, cuando en la práctica hay cerca de 370.000.\n"
   ]
  },
  {
   "cell_type": "code",
   "execution_count": 82,
   "metadata": {},
   "outputs": [
    {
     "name": "stdout",
     "output_type": "stream",
     "text": [
      "ORDEN: \n",
      "1er gráfico: Altura vs clase_forestal: \n",
      "2do gráfico: Altura vs las predicciones de clase_forestal: \n"
     ]
    },
    {
     "data": {
      "image/png": "[encoded data removed]",
      "text/plain": [
       "<Figure size 360x360 with 1 Axes>"
      ]
     },
     "metadata": {},
     "output_type": "display_data"
    },
    {
     "data": {
      "image/png": "[encoded data removed]",
      "text/plain": [
       "<Figure size 360x360 with 1 Axes>"
      ]
     },
     "metadata": {},
     "output_type": "display_data"
    }
   ],
   "source": [
    "import seaborn as sns\n",
    "\n",
    "# Apply the default theme\n",
    "sns.set_theme()\n",
    "\n",
    "#Hago las predicciones con el modelo\n",
    "train_predictions = RFmodel.predict(train_predictors)\n",
    "#Las junto en una nueva columna del train_set\n",
    "plot_set = train_set.copy()\n",
    "plot_set[\"predictions\"] = train_predictions\n",
    "\n",
    "for i in range(1):\n",
    "    #Divido el set en sets más pequeños\n",
    "    plot_set_small = plot_set.iloc[10000*i:10000*(1+i)]\n",
    "    print(\"ORDEN: \\n1er gráfico: Altura vs clase_forestal: \\n2do gráfico: Altura vs las predicciones de clase_forestal: \")\n",
    "    sns.catplot(data=plot_set_small, x=\"dosel_forestal\", y=\"altura\", jitter=0.25, size = 1);\n",
    "    sns.catplot(data=plot_set_small, x=\"predictions\", y=\"altura\", jitter=0.25, size = 1, color=\"orange\");\n"
   ]
  },
  {
   "cell_type": "code",
   "execution_count": 83,
   "metadata": {},
   "outputs": [
    {
     "name": "stdout",
     "output_type": "stream",
     "text": [
      "Accuracy:  79.04573911921  %\n"
     ]
    }
   ],
   "source": [
    "#Error sobre el train set\n",
    "RFmodel_error = accuracy_score(train_target, RFmodel.predict(train_predictors))\n",
    "print(\"Accuracy: \", RFmodel_error*100, \" %\" )\n"
   ]
  },
  {
   "cell_type": "code",
   "execution_count": null,
   "metadata": {},
   "outputs": [],
   "source": [
    "# Accuracy:  79.04573911921  %"
   ]
  },
  {
   "cell_type": "markdown",
   "metadata": {},
   "source": [
    "##### Observaciones\n",
    "* Con los parámetros por default el modelo tiene error nulo (accuracy de 100%) está overfitteando. Cambiando el parámetro max_depth a 10, el modelo tiene un error asociado y por lo tanto no overfittea (al menos no tanto como antes). Por default la variable max_depth está en None, es decir, los nodos se expanden hasta que las leaves sean puras, de ahí el overfitting quizás.\n",
    "* Ambos gráficos presentados son similares. Quizás la diferencia más notable sea que las clases 5 y 6 predichas tienen menos datos en comparación a los datos. Esto se refleja en un accuracy del 79%."
   ]
  },
  {
   "cell_type": "markdown",
   "metadata": {},
   "source": [
    "#### Cross Validation\n",
    "\n",
    "Para evaluar el desempeño del modelo sin utilizar la partición de test se puede emplear cross validation. Se tendrán en cuenta solo 5 subconjuntos de modo de disminuir el tiempo de ejecución del código"
   ]
  },
  {
   "cell_type": "code",
   "execution_count": 84,
   "metadata": {},
   "outputs": [],
   "source": [
    "from sklearn.model_selection import cross_val_score\n",
    "\n",
    "### definamos una función para presentar los resultados \n",
    "def display_scores(scores):\n",
    "    print(\"Scores:\", scores) #Score de cada partición\n",
    "    print(\"Mean:\", scores.mean())\n",
    "    print(\"Standard deviation:\", scores.std())\n",
    "    "
   ]
  },
  {
   "cell_type": "code",
   "execution_count": 85,
   "metadata": {},
   "outputs": [
    {
     "name": "stdout",
     "output_type": "stream",
     "text": [
      "Scores: [0.78612344 0.78242571 0.78450988 0.78398257 0.78368675]\n",
      "Mean: 0.7841456707525201\n",
      "Standard deviation: 0.0012033025158397727\n"
     ]
    }
   ],
   "source": [
    "scores = cross_val_score(RFmodel, train_predictors, train_target,scoring=\"accuracy\", cv=5) #cv es la cantidad de particiones\n",
    "display_scores(scores)\n"
   ]
  },
  {
   "cell_type": "code",
   "execution_count": null,
   "metadata": {},
   "outputs": [],
   "source": [
    "# Scores: [0.78612344 0.78242571 0.78450988 0.78398257 0.78368675]\n",
    "# Mean: 0.7841456707525201\n",
    "# Standard deviation: 0.0012033025158397727"
   ]
  },
  {
   "cell_type": "markdown",
   "metadata": {},
   "source": [
    "##### Observaciones\n",
    "\n",
    "Los scores son similares, es decir, la desviación estándard es pequeña. Si no lo fueran, significaría que en algún caso está haciendo overfitting."
   ]
  },
  {
   "cell_type": "markdown",
   "metadata": {},
   "source": [
    "#### Grid search\n",
    "\n",
    "Los parámetros utilizados fueron por default (salvo max_depth). Para mejorar el modelo es necesario encontrar la óptima configuración de hiperparámetros. El primer acercamiento consiste en definir una grilla de hiperparámetros, hacer cross validation sobre cada configuración y comparar el valor medio del score. La mejor configuración de hiperparámetros sería aquella con mejor score.\n",
    "\n",
    "Es necesario aclarar que quizás lo mejor sea hacer grid search sobre el \"mejor modelo\", es decir, sobre Radom Forest o XgBoost. Pero como a priori no se tiene en claro \"la mejor elección de parámetros\", es preferible hacer un mini grid search en cada uno de los modelos y luego comparo entre los mejores modelos, para luego hacer un grid seach más grande. De todos modos, este último paso no realizará.\n",
    "\n",
    "¿Qué parámetros se pueden variar del RandomForest? Hago una lista de los parámetros, junto a una breve explicación, el valor por default y el rango en el que voy a variar cada uno de ellos al hacer grid search\n",
    "\n",
    "1. n_estimators: nro de trees en el forest  \n",
    "* Default: 100  \n",
    "* Variación: [50,100,200]\n",
    "2. criterion: función para medir el error en el split\n",
    "* Default: \"gini\"  \n",
    "* Variación: [\"gini\", \"entropy\", \"log_loss\"]  \n",
    "3. max_depth: máxima depth en el tree\n",
    "* Default = None, es decir, los nodos se expanden hasta que todas las leaves sean puras  \n",
    "* Variación: [2, 5, 10]\n",
    "4. min_samples_split: nro minimo de samples necesarios para hacer un split en un nodo interno\n",
    "* Default: 2\n",
    "* Variación: [2,4]\n",
    "5. min:samples_leaf: nro mínimo de samples necesario para estar en un leaf node.\n",
    "* Default: 1\n",
    "* Variación: [1,2]\n",
    "6. max_features: nro de atributos considerados al buscar el mejor split. Sea p la cantidad total de variables.\n",
    "* Default: sqrt(p)\n",
    "* Variación: [\"sqrt\", \"log2\"]\n",
    "7. boostrap (bool): usar o no boostraped samples?\n",
    "* Default: True\n",
    "* Variación: True\n",
    "8. oob_score (bool): usar o no out-of-bag samples para estimar el score de generalización\n",
    "* Default: False\n",
    "* Variación: True. La mejor opción para evitar overfitting sería elegir el mejor modelo como aquel que sea capaz de generalizar y, por lo tanto, capaz de predecir datos con los que no fue entrenado. En out-of-bag error, se estima el error a partir de los datos que no cayaron en cada boostraped sample en particular.\n",
    "9. n_jobs: nro de jobs que se pueden hacer en paralelo. Por defecto tengo que poner -1 para que se usen todos los procesadores. Para dar una idea del orden de magnitud, la primera vez que hice el fit le tomó 1:41 s usando un procesador y 21 s usando todos los procesadores.\n",
    "* Default: None\n",
    "* Variación: -1\n",
    "10. random_state: controla la aleatoriedad del boostraping de los samples. Es útil, entiendo, para poder tener reproducibilidad de los resultados\n",
    "* Default: None\n",
    "* Variación: 42"
   ]
  },
  {
   "cell_type": "code",
   "execution_count": 86,
   "metadata": {},
   "outputs": [
    {
     "name": "stdout",
     "output_type": "stream",
     "text": [
      "Fitting 5 folds for each of 16 candidates, totalling 80 fits\n",
      "[CV 1/5] END criterion=entropy, max_depth=20, max_features=sqrt, min_samples_leaf=1, min_samples_split=2, n_estimators=100, oob_score=True;, score=(train=0.991, test=0.946) total time=  25.9s\n",
      "[CV 2/5] END criterion=entropy, max_depth=20, max_features=sqrt, min_samples_leaf=1, min_samples_split=2, n_estimators=100, oob_score=True;, score=(train=0.990, test=0.944) total time=  27.0s\n",
      "[CV 3/5] END criterion=entropy, max_depth=20, max_features=sqrt, min_samples_leaf=1, min_samples_split=2, n_estimators=100, oob_score=True;, score=(train=0.990, test=0.947) total time=  27.1s\n",
      "[CV 4/5] END criterion=entropy, max_depth=20, max_features=sqrt, min_samples_leaf=1, min_samples_split=2, n_estimators=100, oob_score=True;, score=(train=0.991, test=0.947) total time=  26.4s\n",
      "[CV 5/5] END criterion=entropy, max_depth=20, max_features=sqrt, min_samples_leaf=1, min_samples_split=2, n_estimators=100, oob_score=True;, score=(train=0.990, test=0.944) total time=  26.6s\n",
      "[CV 1/5] END criterion=entropy, max_depth=20, max_features=sqrt, min_samples_leaf=1, min_samples_split=8, n_estimators=100, oob_score=True;, score=(train=0.983, test=0.943) total time=  25.7s\n",
      "[CV 2/5] END criterion=entropy, max_depth=20, max_features=sqrt, min_samples_leaf=1, min_samples_split=8, n_estimators=100, oob_score=True;, score=(train=0.983, test=0.941) total time=  26.0s\n",
      "[CV 3/5] END criterion=entropy, max_depth=20, max_features=sqrt, min_samples_leaf=1, min_samples_split=8, n_estimators=100, oob_score=True;, score=(train=0.983, test=0.944) total time=  26.1s\n",
      "[CV 4/5] END criterion=entropy, max_depth=20, max_features=sqrt, min_samples_leaf=1, min_samples_split=8, n_estimators=100, oob_score=True;, score=(train=0.983, test=0.943) total time=  25.9s\n",
      "[CV 5/5] END criterion=entropy, max_depth=20, max_features=sqrt, min_samples_leaf=1, min_samples_split=8, n_estimators=100, oob_score=True;, score=(train=0.983, test=0.941) total time=  24.9s\n",
      "[CV 1/5] END criterion=entropy, max_depth=20, max_features=sqrt, min_samples_leaf=4, min_samples_split=2, n_estimators=100, oob_score=True;, score=(train=0.976, test=0.940) total time=  24.0s\n",
      "[CV 2/5] END criterion=entropy, max_depth=20, max_features=sqrt, min_samples_leaf=4, min_samples_split=2, n_estimators=100, oob_score=True;, score=(train=0.975, test=0.936) total time=  24.8s\n",
      "[CV 3/5] END criterion=entropy, max_depth=20, max_features=sqrt, min_samples_leaf=4, min_samples_split=2, n_estimators=100, oob_score=True;, score=(train=0.976, test=0.940) total time=  24.0s\n",
      "[CV 4/5] END criterion=entropy, max_depth=20, max_features=sqrt, min_samples_leaf=4, min_samples_split=2, n_estimators=100, oob_score=True;, score=(train=0.976, test=0.939) total time=  24.1s\n",
      "[CV 5/5] END criterion=entropy, max_depth=20, max_features=sqrt, min_samples_leaf=4, min_samples_split=2, n_estimators=100, oob_score=True;, score=(train=0.977, test=0.937) total time=  24.0s\n",
      "[CV 1/5] END criterion=entropy, max_depth=20, max_features=sqrt, min_samples_leaf=4, min_samples_split=8, n_estimators=100, oob_score=True;, score=(train=0.976, test=0.940) total time=  23.8s\n",
      "[CV 2/5] END criterion=entropy, max_depth=20, max_features=sqrt, min_samples_leaf=4, min_samples_split=8, n_estimators=100, oob_score=True;, score=(train=0.975, test=0.936) total time=  24.0s\n",
      "[CV 3/5] END criterion=entropy, max_depth=20, max_features=sqrt, min_samples_leaf=4, min_samples_split=8, n_estimators=100, oob_score=True;, score=(train=0.976, test=0.940) total time=  24.1s\n",
      "[CV 4/5] END criterion=entropy, max_depth=20, max_features=sqrt, min_samples_leaf=4, min_samples_split=8, n_estimators=100, oob_score=True;, score=(train=0.976, test=0.939) total time=  24.2s\n",
      "[CV 5/5] END criterion=entropy, max_depth=20, max_features=sqrt, min_samples_leaf=4, min_samples_split=8, n_estimators=100, oob_score=True;, score=(train=0.977, test=0.937) total time=  24.0s\n",
      "[CV 1/5] END criterion=entropy, max_depth=40, max_features=sqrt, min_samples_leaf=1, min_samples_split=2, n_estimators=100, oob_score=True;, score=(train=1.000, test=0.958) total time=  26.2s\n",
      "[CV 2/5] END criterion=entropy, max_depth=40, max_features=sqrt, min_samples_leaf=1, min_samples_split=2, n_estimators=100, oob_score=True;, score=(train=1.000, test=0.957) total time=  26.5s\n",
      "[CV 3/5] END criterion=entropy, max_depth=40, max_features=sqrt, min_samples_leaf=1, min_samples_split=2, n_estimators=100, oob_score=True;, score=(train=1.000, test=0.959) total time=  25.6s\n",
      "[CV 4/5] END criterion=entropy, max_depth=40, max_features=sqrt, min_samples_leaf=1, min_samples_split=2, n_estimators=100, oob_score=True;, score=(train=1.000, test=0.958) total time=  25.9s\n",
      "[CV 5/5] END criterion=entropy, max_depth=40, max_features=sqrt, min_samples_leaf=1, min_samples_split=2, n_estimators=100, oob_score=True;, score=(train=1.000, test=0.957) total time=  25.7s\n",
      "[CV 1/5] END criterion=entropy, max_depth=40, max_features=sqrt, min_samples_leaf=1, min_samples_split=8, n_estimators=100, oob_score=True;, score=(train=0.997, test=0.954) total time=  25.4s\n",
      "[CV 2/5] END criterion=entropy, max_depth=40, max_features=sqrt, min_samples_leaf=1, min_samples_split=8, n_estimators=100, oob_score=True;, score=(train=0.997, test=0.953) total time=  25.4s\n",
      "[CV 3/5] END criterion=entropy, max_depth=40, max_features=sqrt, min_samples_leaf=1, min_samples_split=8, n_estimators=100, oob_score=True;, score=(train=0.997, test=0.955) total time=  25.1s\n",
      "[CV 4/5] END criterion=entropy, max_depth=40, max_features=sqrt, min_samples_leaf=1, min_samples_split=8, n_estimators=100, oob_score=True;, score=(train=0.997, test=0.955) total time=  25.1s\n",
      "[CV 5/5] END criterion=entropy, max_depth=40, max_features=sqrt, min_samples_leaf=1, min_samples_split=8, n_estimators=100, oob_score=True;, score=(train=0.997, test=0.952) total time=  25.4s\n",
      "[CV 1/5] END criterion=entropy, max_depth=40, max_features=sqrt, min_samples_leaf=4, min_samples_split=2, n_estimators=100, oob_score=True;, score=(train=0.989, test=0.949) total time=  24.9s\n",
      "[CV 2/5] END criterion=entropy, max_depth=40, max_features=sqrt, min_samples_leaf=4, min_samples_split=2, n_estimators=100, oob_score=True;, score=(train=0.989, test=0.949) total time=  24.8s\n",
      "[CV 3/5] END criterion=entropy, max_depth=40, max_features=sqrt, min_samples_leaf=4, min_samples_split=2, n_estimators=100, oob_score=True;, score=(train=0.990, test=0.950) total time=  24.7s\n",
      "[CV 4/5] END criterion=entropy, max_depth=40, max_features=sqrt, min_samples_leaf=4, min_samples_split=2, n_estimators=100, oob_score=True;, score=(train=0.989, test=0.950) total time=  25.1s\n",
      "[CV 5/5] END criterion=entropy, max_depth=40, max_features=sqrt, min_samples_leaf=4, min_samples_split=2, n_estimators=100, oob_score=True;, score=(train=0.989, test=0.948) total time=  24.7s\n",
      "[CV 1/5] END criterion=entropy, max_depth=40, max_features=sqrt, min_samples_leaf=4, min_samples_split=8, n_estimators=100, oob_score=True;, score=(train=0.989, test=0.949) total time=  25.1s\n",
      "[CV 2/5] END criterion=entropy, max_depth=40, max_features=sqrt, min_samples_leaf=4, min_samples_split=8, n_estimators=100, oob_score=True;, score=(train=0.989, test=0.949) total time=  25.0s\n",
      "[CV 3/5] END criterion=entropy, max_depth=40, max_features=sqrt, min_samples_leaf=4, min_samples_split=8, n_estimators=100, oob_score=True;, score=(train=0.990, test=0.950) total time=  24.6s\n",
      "[CV 4/5] END criterion=entropy, max_depth=40, max_features=sqrt, min_samples_leaf=4, min_samples_split=8, n_estimators=100, oob_score=True;, score=(train=0.989, test=0.950) total time=  25.0s\n",
      "[CV 5/5] END criterion=entropy, max_depth=40, max_features=sqrt, min_samples_leaf=4, min_samples_split=8, n_estimators=100, oob_score=True;, score=(train=0.989, test=0.948) total time=  24.8s\n",
      "[CV 1/5] END criterion=entropy, max_depth=60, max_features=sqrt, min_samples_leaf=1, min_samples_split=2, n_estimators=100, oob_score=True;, score=(train=1.000, test=0.958) total time=  25.9s\n",
      "[CV 2/5] END criterion=entropy, max_depth=60, max_features=sqrt, min_samples_leaf=1, min_samples_split=2, n_estimators=100, oob_score=True;, score=(train=1.000, test=0.957) total time=  25.8s\n",
      "[CV 3/5] END criterion=entropy, max_depth=60, max_features=sqrt, min_samples_leaf=1, min_samples_split=2, n_estimators=100, oob_score=True;, score=(train=1.000, test=0.959) total time=  25.5s\n",
      "[CV 4/5] END criterion=entropy, max_depth=60, max_features=sqrt, min_samples_leaf=1, min_samples_split=2, n_estimators=100, oob_score=True;, score=(train=1.000, test=0.959) total time=  25.9s\n",
      "[CV 5/5] END criterion=entropy, max_depth=60, max_features=sqrt, min_samples_leaf=1, min_samples_split=2, n_estimators=100, oob_score=True;, score=(train=1.000, test=0.957) total time=  25.7s\n",
      "[CV 1/5] END criterion=entropy, max_depth=60, max_features=sqrt, min_samples_leaf=1, min_samples_split=8, n_estimators=100, oob_score=True;, score=(train=0.997, test=0.955) total time=  25.5s\n",
      "[CV 2/5] END criterion=entropy, max_depth=60, max_features=sqrt, min_samples_leaf=1, min_samples_split=8, n_estimators=100, oob_score=True;, score=(train=0.997, test=0.953) total time=  25.3s\n",
      "[CV 3/5] END criterion=entropy, max_depth=60, max_features=sqrt, min_samples_leaf=1, min_samples_split=8, n_estimators=100, oob_score=True;, score=(train=0.997, test=0.955) total time=  25.0s\n",
      "[CV 4/5] END criterion=entropy, max_depth=60, max_features=sqrt, min_samples_leaf=1, min_samples_split=8, n_estimators=100, oob_score=True;, score=(train=0.997, test=0.955) total time=  25.1s\n",
      "[CV 5/5] END criterion=entropy, max_depth=60, max_features=sqrt, min_samples_leaf=1, min_samples_split=8, n_estimators=100, oob_score=True;, score=(train=0.997, test=0.952) total time=  25.3s\n",
      "[CV 1/5] END criterion=entropy, max_depth=60, max_features=sqrt, min_samples_leaf=4, min_samples_split=2, n_estimators=100, oob_score=True;, score=(train=0.989, test=0.949) total time=  24.8s\n",
      "[CV 2/5] END criterion=entropy, max_depth=60, max_features=sqrt, min_samples_leaf=4, min_samples_split=2, n_estimators=100, oob_score=True;, score=(train=0.989, test=0.949) total time=  24.8s\n",
      "[CV 3/5] END criterion=entropy, max_depth=60, max_features=sqrt, min_samples_leaf=4, min_samples_split=2, n_estimators=100, oob_score=True;, score=(train=0.990, test=0.950) total time=  24.7s\n",
      "[CV 4/5] END criterion=entropy, max_depth=60, max_features=sqrt, min_samples_leaf=4, min_samples_split=2, n_estimators=100, oob_score=True;, score=(train=0.989, test=0.950) total time=  24.8s\n",
      "[CV 5/5] END criterion=entropy, max_depth=60, max_features=sqrt, min_samples_leaf=4, min_samples_split=2, n_estimators=100, oob_score=True;, score=(train=0.989, test=0.948) total time=  25.0s\n",
      "[CV 1/5] END criterion=entropy, max_depth=60, max_features=sqrt, min_samples_leaf=4, min_samples_split=8, n_estimators=100, oob_score=True;, score=(train=0.989, test=0.949) total time=  24.6s\n",
      "[CV 2/5] END criterion=entropy, max_depth=60, max_features=sqrt, min_samples_leaf=4, min_samples_split=8, n_estimators=100, oob_score=True;, score=(train=0.989, test=0.949) total time=  24.8s\n",
      "[CV 3/5] END criterion=entropy, max_depth=60, max_features=sqrt, min_samples_leaf=4, min_samples_split=8, n_estimators=100, oob_score=True;, score=(train=0.990, test=0.950) total time=  24.7s\n",
      "[CV 4/5] END criterion=entropy, max_depth=60, max_features=sqrt, min_samples_leaf=4, min_samples_split=8, n_estimators=100, oob_score=True;, score=(train=0.989, test=0.950) total time=  24.9s\n",
      "[CV 5/5] END criterion=entropy, max_depth=60, max_features=sqrt, min_samples_leaf=4, min_samples_split=8, n_estimators=100, oob_score=True;, score=(train=0.989, test=0.948) total time=  25.2s\n",
      "[CV 1/5] END criterion=entropy, max_depth=100, max_features=sqrt, min_samples_leaf=1, min_samples_split=2, n_estimators=100, oob_score=True;, score=(train=1.000, test=0.958) total time=  26.0s\n",
      "[CV 2/5] END criterion=entropy, max_depth=100, max_features=sqrt, min_samples_leaf=1, min_samples_split=2, n_estimators=100, oob_score=True;, score=(train=1.000, test=0.957) total time=  25.6s\n",
      "[CV 3/5] END criterion=entropy, max_depth=100, max_features=sqrt, min_samples_leaf=1, min_samples_split=2, n_estimators=100, oob_score=True;, score=(train=1.000, test=0.959) total time=  25.6s\n",
      "[CV 4/5] END criterion=entropy, max_depth=100, max_features=sqrt, min_samples_leaf=1, min_samples_split=2, n_estimators=100, oob_score=True;, score=(train=1.000, test=0.959) total time=  25.9s\n",
      "[CV 5/5] END criterion=entropy, max_depth=100, max_features=sqrt, min_samples_leaf=1, min_samples_split=2, n_estimators=100, oob_score=True;, score=(train=1.000, test=0.957) total time=  25.6s\n",
      "[CV 1/5] END criterion=entropy, max_depth=100, max_features=sqrt, min_samples_leaf=1, min_samples_split=8, n_estimators=100, oob_score=True;, score=(train=0.997, test=0.955) total time=  25.4s\n",
      "[CV 2/5] END criterion=entropy, max_depth=100, max_features=sqrt, min_samples_leaf=1, min_samples_split=8, n_estimators=100, oob_score=True;, score=(train=0.997, test=0.953) total time=  25.1s\n",
      "[CV 3/5] END criterion=entropy, max_depth=100, max_features=sqrt, min_samples_leaf=1, min_samples_split=8, n_estimators=100, oob_score=True;, score=(train=0.997, test=0.955) total time=  25.1s\n",
      "[CV 4/5] END criterion=entropy, max_depth=100, max_features=sqrt, min_samples_leaf=1, min_samples_split=8, n_estimators=100, oob_score=True;, score=(train=0.997, test=0.955) total time=  25.1s\n",
      "[CV 5/5] END criterion=entropy, max_depth=100, max_features=sqrt, min_samples_leaf=1, min_samples_split=8, n_estimators=100, oob_score=True;, score=(train=0.997, test=0.952) total time=  25.2s\n",
      "[CV 1/5] END criterion=entropy, max_depth=100, max_features=sqrt, min_samples_leaf=4, min_samples_split=2, n_estimators=100, oob_score=True;, score=(train=0.989, test=0.949) total time=  24.7s\n",
      "[CV 2/5] END criterion=entropy, max_depth=100, max_features=sqrt, min_samples_leaf=4, min_samples_split=2, n_estimators=100, oob_score=True;, score=(train=0.989, test=0.949) total time=  24.9s\n",
      "[CV 3/5] END criterion=entropy, max_depth=100, max_features=sqrt, min_samples_leaf=4, min_samples_split=2, n_estimators=100, oob_score=True;, score=(train=0.990, test=0.950) total time=  24.8s\n",
      "[CV 4/5] END criterion=entropy, max_depth=100, max_features=sqrt, min_samples_leaf=4, min_samples_split=2, n_estimators=100, oob_score=True;, score=(train=0.989, test=0.950) total time=  24.9s\n",
      "[CV 5/5] END criterion=entropy, max_depth=100, max_features=sqrt, min_samples_leaf=4, min_samples_split=2, n_estimators=100, oob_score=True;, score=(train=0.989, test=0.948) total time=  24.8s\n",
      "[CV 1/5] END criterion=entropy, max_depth=100, max_features=sqrt, min_samples_leaf=4, min_samples_split=8, n_estimators=100, oob_score=True;, score=(train=0.989, test=0.949) total time=  24.8s\n",
      "[CV 2/5] END criterion=entropy, max_depth=100, max_features=sqrt, min_samples_leaf=4, min_samples_split=8, n_estimators=100, oob_score=True;, score=(train=0.989, test=0.949) total time=  25.2s\n",
      "[CV 3/5] END criterion=entropy, max_depth=100, max_features=sqrt, min_samples_leaf=4, min_samples_split=8, n_estimators=100, oob_score=True;, score=(train=0.990, test=0.950) total time=  24.6s\n",
      "[CV 4/5] END criterion=entropy, max_depth=100, max_features=sqrt, min_samples_leaf=4, min_samples_split=8, n_estimators=100, oob_score=True;, score=(train=0.989, test=0.950) total time=  24.8s\n",
      "[CV 5/5] END criterion=entropy, max_depth=100, max_features=sqrt, min_samples_leaf=4, min_samples_split=8, n_estimators=100, oob_score=True;, score=(train=0.989, test=0.948) total time=  26.1s\n"
     ]
    },
    {
     "data": {
      "text/plain": [
       "GridSearchCV(cv=5,\n",
       "             estimator=RandomForestClassifier(n_jobs=-1, oob_score=True,\n",
       "                                              random_state=42),\n",
       "             param_grid=[{'criterion': ['entropy'],\n",
       "                          'max_depth': [20, 40, 60, 100],\n",
       "                          'max_features': ['sqrt'], 'min_samples_leaf': [1, 4],\n",
       "                          'min_samples_split': [2, 8], 'n_estimators': [100],\n",
       "                          'oob_score': [True]}],\n",
       "             return_train_score=True, scoring='accuracy', verbose=3)"
      ]
     },
     "execution_count": 86,
     "metadata": {},
     "output_type": "execute_result"
    }
   ],
   "source": [
    "from sklearn.model_selection import GridSearchCV\n",
    "\n",
    "#Defino los parámetros a variar:\n",
    "\n",
    "\n",
    "\n",
    "\n",
    "\n",
    "param_grid = [\n",
    "    {'n_estimators': [100], 'criterion':[\"entropy\"],  'max_depth':[20, 40, 60, 100], 'min_samples_split':[2, 8], 'min_samples_leaf':[1, 4], 'max_features':[\"sqrt\"], 'oob_score':[True]},\n",
    "  ]\n",
    "\n",
    "\n",
    "#Defino el modelo\n",
    "RFmodel_GS = RandomForestClassifier(n_jobs = -1, random_state=42, oob_score = True)\n",
    "\n",
    "#Test 1: entrena sobre 5 folds, un total de 5*4*3 = 60 trainings. Le tomó a mi computadora 12 minutos.\n",
    "#Test 2: entrena sobre 5 folds, un total de 5*6*4*2*2 = 480 trainings. Le tomó a mi computadora más de 2 horas (no terminó de correr)\n",
    "\n",
    "grid_search = GridSearchCV(RFmodel_GS, param_grid, cv=5, scoring='accuracy', return_train_score=True, verbose = 3); #verbose muestra el progreso a medida que se hace el gridsearch. A mayor valor, más info da. El máximo es 3. Es útil cuando tengo que hacer corridas largas.\n",
    "grid_search.fit(train_predictors, train_target)\n"
   ]
  },
  {
   "cell_type": "code",
   "execution_count": 88,
   "metadata": {},
   "outputs": [
    {
     "name": "stdout",
     "output_type": "stream",
     "text": [
      "Los mejores parámetros son: {'criterion': 'entropy', 'max_depth': 60, 'max_features': 'sqrt', 'min_samples_leaf': 1, 'min_samples_split': 2, 'n_estimators': 100, 'oob_score': True}\n",
      "El score de cada combinación de hiperparámetros es:\n",
      "0.9457654731149002 {'criterion': 'entropy', 'max_depth': 20, 'max_features': 'sqrt', 'min_samples_leaf': 1, 'min_samples_split': 2, 'n_estimators': 100, 'oob_score': True}\n",
      "0.9423339615997406 {'criterion': 'entropy', 'max_depth': 20, 'max_features': 'sqrt', 'min_samples_leaf': 1, 'min_samples_split': 8, 'n_estimators': 100, 'oob_score': True}\n",
      "0.9384829277102117 {'criterion': 'entropy', 'max_depth': 20, 'max_features': 'sqrt', 'min_samples_leaf': 4, 'min_samples_split': 2, 'n_estimators': 100, 'oob_score': True}\n",
      "0.9384829277102117 {'criterion': 'entropy', 'max_depth': 20, 'max_features': 'sqrt', 'min_samples_leaf': 4, 'min_samples_split': 8, 'n_estimators': 100, 'oob_score': True}\n",
      "0.9577918921220565 {'criterion': 'entropy', 'max_depth': 40, 'max_features': 'sqrt', 'min_samples_leaf': 1, 'min_samples_split': 2, 'n_estimators': 100, 'oob_score': True}\n",
      "0.9537015109758006 {'criterion': 'entropy', 'max_depth': 40, 'max_features': 'sqrt', 'min_samples_leaf': 1, 'min_samples_split': 8, 'n_estimators': 100, 'oob_score': True}\n",
      "0.9490678975013143 {'criterion': 'entropy', 'max_depth': 40, 'max_features': 'sqrt', 'min_samples_leaf': 4, 'min_samples_split': 2, 'n_estimators': 100, 'oob_score': True}\n",
      "0.9490678975013143 {'criterion': 'entropy', 'max_depth': 40, 'max_features': 'sqrt', 'min_samples_leaf': 4, 'min_samples_split': 8, 'n_estimators': 100, 'oob_score': True}\n",
      "0.9580043448618843 {'criterion': 'entropy', 'max_depth': 60, 'max_features': 'sqrt', 'min_samples_leaf': 1, 'min_samples_split': 2, 'n_estimators': 100, 'oob_score': True}\n",
      "0.9538736240376167 {'criterion': 'entropy', 'max_depth': 60, 'max_features': 'sqrt', 'min_samples_leaf': 1, 'min_samples_split': 8, 'n_estimators': 100, 'oob_score': True}\n",
      "0.9490921009537436 {'criterion': 'entropy', 'max_depth': 60, 'max_features': 'sqrt', 'min_samples_leaf': 4, 'min_samples_split': 2, 'n_estimators': 100, 'oob_score': True}\n",
      "0.9490921009537436 {'criterion': 'entropy', 'max_depth': 60, 'max_features': 'sqrt', 'min_samples_leaf': 4, 'min_samples_split': 8, 'n_estimators': 100, 'oob_score': True}\n",
      "0.9580043448618843 {'criterion': 'entropy', 'max_depth': 100, 'max_features': 'sqrt', 'min_samples_leaf': 1, 'min_samples_split': 2, 'n_estimators': 100, 'oob_score': True}\n",
      "0.9538736240376167 {'criterion': 'entropy', 'max_depth': 100, 'max_features': 'sqrt', 'min_samples_leaf': 1, 'min_samples_split': 8, 'n_estimators': 100, 'oob_score': True}\n",
      "0.9490921009537436 {'criterion': 'entropy', 'max_depth': 100, 'max_features': 'sqrt', 'min_samples_leaf': 4, 'min_samples_split': 2, 'n_estimators': 100, 'oob_score': True}\n",
      "0.9490921009537436 {'criterion': 'entropy', 'max_depth': 100, 'max_features': 'sqrt', 'min_samples_leaf': 4, 'min_samples_split': 8, 'n_estimators': 100, 'oob_score': True}\n"
     ]
    }
   ],
   "source": [
    "print(\"Los mejores parámetros son:\",grid_search.best_params_)\n",
    "\n",
    "#Resultados de cada combinación de hiperparámetros\n",
    "print(\"El score de cada combinación de hiperparámetros es:\")\n",
    "cvres = grid_search.cv_results_\n",
    "for mean_score, params in zip(cvres[\"mean_test_score\"], cvres[\"params\"]):\n",
    "    print(mean_score, params)"
   ]
  },
  {
   "cell_type": "code",
   "execution_count": null,
   "metadata": {},
   "outputs": [],
   "source": [
    "# Los mejores parámetros son: {'criterion': 'entropy', 'max_depth': 60, 'max_features': 'sqrt', 'min_samples_leaf': 1, 'min_samples_split': 2, 'n_estimators': 100, 'oob_score': True}\n",
    "# El score de cada combinación de hiperparámetros es:\n",
    "# 0.9457654731149002 {'criterion': 'entropy', 'max_depth': 20, 'max_features': 'sqrt', 'min_samples_leaf': 1, 'min_samples_split': 2, 'n_estimators': 100, 'oob_score': True}\n",
    "# 0.9423339615997406 {'criterion': 'entropy', 'max_depth': 20, 'max_features': 'sqrt', 'min_samples_leaf': 1, 'min_samples_split': 8, 'n_estimators': 100, 'oob_score': True}\n",
    "# 0.9384829277102117 {'criterion': 'entropy', 'max_depth': 20, 'max_features': 'sqrt', 'min_samples_leaf': 4, 'min_samples_split': 2, 'n_estimators': 100, 'oob_score': True}\n",
    "# 0.9384829277102117 {'criterion': 'entropy', 'max_depth': 20, 'max_features': 'sqrt', 'min_samples_leaf': 4, 'min_samples_split': 8, 'n_estimators': 100, 'oob_score': True}\n",
    "# 0.9577918921220565 {'criterion': 'entropy', 'max_depth': 40, 'max_features': 'sqrt', 'min_samples_leaf': 1, 'min_samples_split': 2, 'n_estimators': 100, 'oob_score': True}\n",
    "# 0.9537015109758006 {'criterion': 'entropy', 'max_depth': 40, 'max_features': 'sqrt', 'min_samples_leaf': 1, 'min_samples_split': 8, 'n_estimators': 100, 'oob_score': True}\n",
    "# 0.9490678975013143 {'criterion': 'entropy', 'max_depth': 40, 'max_features': 'sqrt', 'min_samples_leaf': 4, 'min_samples_split': 2, 'n_estimators': 100, 'oob_score': True}\n",
    "# 0.9490678975013143 {'criterion': 'entropy', 'max_depth': 40, 'max_features': 'sqrt', 'min_samples_leaf': 4, 'min_samples_split': 8, 'n_estimators': 100, 'oob_score': True}\n",
    "# 0.9580043448618843 {'criterion': 'entropy', 'max_depth': 60, 'max_features': 'sqrt', 'min_samples_leaf': 1, 'min_samples_split': 2, 'n_estimators': 100, 'oob_score': True}\n",
    "# 0.9538736240376167 {'criterion': 'entropy', 'max_depth': 60, 'max_features': 'sqrt', 'min_samples_leaf': 1, 'min_samples_split': 8, 'n_estimators': 100, 'oob_score': True}\n",
    "# 0.9490921009537436 {'criterion': 'entropy', 'max_depth': 60, 'max_features': 'sqrt', 'min_samples_leaf': 4, 'min_samples_split': 2, 'n_estimators': 100, 'oob_score': True}\n",
    "# 0.9490921009537436 {'criterion': 'entropy', 'max_depth': 60, 'max_features': 'sqrt', 'min_samples_leaf': 4, 'min_samples_split': 8, 'n_estimators': 100, 'oob_score': True}\n",
    "# 0.9580043448618843 {'criterion': 'entropy', 'max_depth': 100, 'max_features': 'sqrt', 'min_samples_leaf': 1, 'min_samples_split': 2, 'n_estimators': 100, 'oob_score': True}\n",
    "# 0.9538736240376167 {'criterion': 'entropy', 'max_depth': 100, 'max_features': 'sqrt', 'min_samples_leaf': 1, 'min_samples_split': 8, 'n_estimators': 100, 'oob_score': True}\n",
    "# 0.9490921009537436 {'criterion': 'entropy', 'max_depth': 100, 'max_features': 'sqrt', 'min_samples_leaf': 4, 'min_samples_split': 2, 'n_estimators': 100, 'oob_score': True}\n",
    "# 0.9490921009537436 {'criterion': 'entropy', 'max_depth': 100, 'max_features': 'sqrt', 'min_samples_leaf': 4, 'min_samples_split': 8, 'n_estimators': 100, 'oob_score': True}"
   ]
  },
  {
   "cell_type": "markdown",
   "metadata": {},
   "source": [
    "##### Observaciones\n",
    "\n",
    "Experimentos sobre grid search  \n",
    "La ventaja de hacer grid search es que se puede barrer sobre el espacio de hiperparámetros distintas configuraciones para encontrar automáticamente la óptima. Este proceso puede tomar mucho tiempo, especialmente para problemas con gran cantidad de parámetros libres o para computadoras con bajo rendimiento (como mi caso). En este caso, se decidió no optar por barrer sobre todo el espacio de parámetros en una única ejecución, sino hacer grid search de distintas formas, variando pocos parámetros en cada ejecución. Esto permitiría entender mejor la relación entre los hiperparámetros que están en juego, para luego hacer un grid search más general pero con poca variación en los hiperparámetros. Este procedimiento, si bien disminuye considerablemente el tiempo de ejecución, podría dar lugar a mínimos locales en el espacio de hiperparámetros.\n",
    "\n",
    "Conclusiones sobre grid search en distintos rangos de parámetros\n",
    "En el rango de parámetros en el que se hizo el grid search:  \n",
    "* Tomar max_features con sqrt es mejor que log2. Esto a priori no es obvio.\n",
    "* A mayor max_depth, mejor es el rendimiento del modelo. Es lógico que a mayor max_depth el modelo mejore debido a que cada árbol tiene mayor profundidad y, por lo tanto, es capaz de adaptarse mejor a los datos de training. Sin embargo se esperaría que llegado un valor alto el modelo tenga peor rendimiento debido al overfit.\n",
    "* A priori se esperaría que a mayor n_estimators, es decir a mayor nro de árboles (bagging), el error disminuya. En este caso no fue así y con 100 árboles se obtuvo un mayor rendimiento que con 150.\n",
    "* Los parámetros max_depth, min_samples_split y min_samples_leaf son criterios para detener el split en la construcción de un árbol. Se observó que el que tiene mayor importancia es max_depth, debido a que a max_depth = 10 constante , la diferencia de score debido a la variación de los demás parámetros fue en torno a 0.0056. Mientras que a min_samples_split y min_samples_leaf constantes, la diferencia de score debido a la variación de max_depth fue mayor. Es necesario aclarar que se debería estudiar con cuidado esta hipótesis debido a que podría ocurrir que a max_depth constante y grande, ocurra que los demás parámetros produzcan una gran variación del score. Este comportamiento no se vería a max_depth pequeño debido a la gran cantidad de datos con los que se cuenta.\n",
    "* No existe gran variación al modificar criterion, es decir, la función para medir el error en el split. La mejor opción es 'entropy'\n",
    "\n",
    "##### CROSS VALIDATION FINAL\n",
    "En base a lo aprendido se buscó el mejor modelo ante la variación de parámetros\n",
    "<!-- param_grid = [\n",
    "    {'n_estimators': [100], 'criterion':[\"entropy\"],  'max_depth':[20, 40, 60, 100], 'min_samples_split':[2, 8], 'min_samples_leaf':[1, 4], 'max_features':[\"sqrt\"], 'oob_score':[True]},\n",
    "  ] -->\n",
    "* n_estimators: 100\n",
    "* criterion: \"entropy\"\n",
    "* max_depth: [20, 40, 60, 100]\n",
    "* max_features: \"sqrt\"\n",
    "* min_samples_split: [2, 8]\n",
    "* min_samples_leaf: [1, 4]\n",
    "\n",
    "El mejor modelo fue aquel con los parámetros\n",
    "* n_estimators: 100\n",
    "* criterion: \"entropy\"\n",
    "* max_depth: 60\n",
    "* max_features: \"sqrt\"\n",
    "* min_samples_split: 2\n",
    "* min_samples_leaf: 1\n",
    "con un score de 0.9580043448618843\n",
    "\n"
   ]
  },
  {
   "cell_type": "markdown",
   "metadata": {},
   "source": [
    "##### Observaciones (ELIMINAR PARA EL INFORME)\n",
    "\n",
    "Experimentos sobre grid search  \n",
    "La ventaja de hacer grid search es que se puede barrer sobre el espacio de hiperparámetros distintas configuraciones para encontrar automáticamente la óptima. Este proceso puede tomar mucho tiempo, especialmente para problemas con gran cantidad de parámetros libres o para computadoras con bajo rendimiento. En este caso, se decidió no optar por barrer sobre todo el espacio de parámetros en una única ejecución, sino hacer grid search de distintas formas, variando pocos parámetros en cada ejecución. Esto permitiría entender mejor la relación entre los hiperparámetros que están en juego.\n",
    "\n",
    "1. Experimento 01:  \n",
    "\n",
    "Bajo la variación de parámetros:\n",
    "<!-- param_grid = [\n",
    "    {'n_estimators': [50,100,150], 'criterion':[\"gini\"],  'max_depth':[2, 5, 10], 'min_samples_split':[2,4], 'min_samples_leaf':[1], 'max_features':[\"sqrt\", \"log2\"], 'oob_score':[True]},\n",
    "  ] -->\n",
    "* n_estimators: [50,100,150]\n",
    "* criterion: \"gini\"\n",
    "* max_depth: [2, 5, 10]\n",
    "* max_features: [\"sqrt\", \"log2\"]\n",
    "\n",
    "se encontró que los mejores parámetros son\n",
    "* n_estimators: 100\n",
    "* criterion: \"gini\"\n",
    "* max_depth: 10\n",
    "* max_features: \"sqrt\"\n",
    "con un score de ~ 0.994 (ESTO ESTÁ MAL. ESTE ESCORE ES DE MEAN SQUARE ERROR)\n",
    "\n",
    "\n",
    "2. Experimento 02:\n",
    "\n",
    "Bajo la variación de parámetros\n",
    "<!-- param_grid = [\n",
    "    {'n_estimators': [100], 'criterion':[\"gini\"],  'max_depth':[10, 15, 20], 'min_samples_split':[2], 'min_samples_leaf':[1], 'max_features':[\"sqrt\"]},\n",
    "  ] -->\n",
    "* n_estimators: 100\n",
    "* criterion: \"gini\"\n",
    "* max_depth: [10, 15, 20]\n",
    "* max_features: \"sqrt\"\n",
    "\n",
    "se encontró que el mejor parámetro es max_depth: 20 con un score de ~ 0.54. El score máximo fue de ~0.99 correspondiente a max_depth: 10\n",
    "(ESTO ESTÁ MAL. ESTE ESCORE ES DE MEAN SQUARE ERROR)\n",
    "\n",
    "3. Experimento 03:\n",
    "\n",
    "Bajo la variación de parámetros\n",
    "<!-- param_grid = [\n",
    "    {'n_estimators': [100], 'criterion':[\"gini\"],  'max_depth':[10], 'min_samples_split':[2, 4, 8], 'min_samples_leaf':[1,2,4], 'max_features':[\"sqrt\"]},\n",
    "  ] -->\n",
    "* n_estimators: 100\n",
    "* criterion: \"gini\"\n",
    "* max_depth: 10\n",
    "* max_features: \"sqrt\"\n",
    "* min_samples_split:[2, 4, 8]\n",
    "* min_samples_leaf: [1, 2, 4]\n",
    "(ESTO ESTÁ MAL. ESTE ESCORE ES DE MEAN SQUARE ERROR)\n",
    "se encontró que los mejores parámetros son min_samples_split: 2 y min_samples_leaf: 2 con un score de ~ 0.9921. El score máximo fue de ~ 0.9977 correspondiente a min_samples_leaf: 2 y min_samples_split: 8. Nótese que la elección de parámetros min_samples_split: 2 y min_samples_leaf: 2 no tiene mucho sentido debido a que implicaría que cuando un nodo tenga 2 elementos, debería hacer un split pero también debería no hacer split y convertirse en un nodo hoja. Esto quizás se justifique en el hecho de que no hay tanta variación entre distinta elección de hiperparámetros y que el mínimo score se deba solo a la aleatoriedad.\n",
    "\n",
    "4. Experimento 04:\n",
    "\n",
    "Bajo la variación de parámetros\n",
    "* n_estimators: 100\n",
    "* criterion: [\"gini\", \"entropy\", \"log_loss\"]\n",
    "* max_depth: 10\n",
    "* max_features: \"sqrt\"\n",
    "* min_samples_split: 2\n",
    "* min_samples_leaf: 1\n",
    "(ESTO ESTÁ MAL. ESTE ESCORE ES DE MEAN SQUARE ERROR)\n",
    "se encontró que el mejor parámetro es criterion: 'entropy' con un score de ~ 0.497. El score máximo fue de ~ 0.547 correspondiente a 'gini'. Para 'log_loss' el score dio nan. Debería estudiarse con cuidado el último resultado.\n",
    "\n",
    "Conclusiones\n",
    "En el rango de parámetros en el que se hizo el grid search:  \n",
    "* Tomar max_features con sqrt es mejor que log2. Esto a priori no es obvio.\n",
    "* A mayor max_depth, mejor es el rendimiento del modelo. Es lógico que a mayor max_depth el modelo mejore debido a que cada árbol tiene mayor profundidad y, por lo tanto, es capaz de adaptarse mejor a los datos de training. Sin embargo se esperaría que llegado un valor alto el modelo tenga peor rendimiento debido al overfit.\n",
    "* A priori se esperaría que a mayor n_estimators, es decir a mayor nro de árboles (bagging), el error disminuya. En este caso no fue así y con 100 árboles se obtuvo un mayor rendimiento que con 150.\n",
    "* Los parámetros max_depth, min_samples_split y min_samples_leaf son criterios para detener el split en la construcción de un árbol. Se observó que el que tiene mayor importancia es max_depth, debido a que a max_depth constante, la diferencia de score debido a la variación de los demás parámetros fue en torno a 0.0056. Mientras que a min_samples_split y min_samples_leaf constantes, la diferencia de score debido a la variación de max_depth fue en torno a 0.45. Es necesario aclarar que se debería estudiar con cuidado esta hipótesis debido a que podría ocurrir que a max_depth constante y grande, ocurra que los demás parámetros produzcan una gran variación del score. Este comportamiento no se vería a max_depth pequeño debido a la gran cantidad de datos con los que se cuenta.\n",
    "* No existe gran variación al modificar criterion, es decir, la función para medir el error en el split. La mejor opción es 'entropy'\n",
    "\n",
    "5. Experimento 05: CROSS VALIDATION FINAL\n",
    "(ESTO ESTÁ MAL. ESTE ESCORE ES DE MEAN SQUARE ERROR)\n",
    "En base a lo aprendido se buscó el mejor modelo ante la variación de parámetros\n",
    "<!-- param_grid = [\n",
    "    {'n_estimators': [100], 'criterion':[\"entropy\"],  'max_depth':[20, 40, 60, 100], 'min_samples_split':[2, 8], 'min_samples_leaf':[1, 4], 'max_features':[\"sqrt\"], 'oob_score':[True]},\n",
    "  ] -->\n",
    "* n_estimators: 100\n",
    "* criterion: \"entropy\"\n",
    "* max_depth: [20, 40, 60, 100]\n",
    "* max_features: \"sqrt\"\n",
    "* min_samples_split: [2, 8]\n",
    "* min_samples_leaf: [1, 4]\n",
    "\n",
    "El mejor modelo fue aquel con los parámetros\n"
   ]
  },
  {
   "cell_type": "markdown",
   "metadata": {},
   "source": [
    "#### Feature importances\n",
    "\n",
    "En el caso de Desicion Trees o Random Forest, existe una métrica los features que determina cuáles son los más importantes en definir una categoría en el caso de clasificación"
   ]
  },
  {
   "cell_type": "code",
   "execution_count": 89,
   "metadata": {},
   "outputs": [
    {
     "data": {
      "image/png": "[encoded data removed]",
      "text/plain": [
       "<Figure size 720x360 with 1 Axes>"
      ]
     },
     "metadata": {},
     "output_type": "display_data"
    }
   ],
   "source": [
    "feature_importances = grid_search.best_estimator_.feature_importances_\n",
    "features = list(train_predictors.columns)\n",
    "\n",
    "fig = plt.figure(figsize = (10, 5))\n",
    " \n",
    "#Gráfico de barras\n",
    "plt.barh(features, feature_importances)\n",
    "plt.xlabel(\"Feature importance\")\n",
    "plt.ylabel(\"Features\")\n",
    "plt.show()\n"
   ]
  },
  {
   "cell_type": "markdown",
   "metadata": {},
   "source": [
    "##### Observaciones \n",
    "Las variables con mayor feature importance son altura y clase_suelo, dos de las features con mayor correlación con el target. La variable clase_area_silvestre no tiene mucha importancia a pesar de ser la más correlacionada con el target. Sorpresivamente, la variable razon_distcaminos_alturas resultó con una buena importancia relativa, pero no es el caso de sombra_mean.\n",
    "\n",
    "En base al histograma, se podría eliminar directamente las variables que tienen menor feature importance. Sin embargo, antes hay que tener en cuenta que el método para calcular feature importance utilizado puede tener un bias, especialmente para atributos con \"gran cardinalidad\" (gran cantidad de valores únicos). Tal es el caso de clase_suelo que tiene 40 valores únicos correspondientes a 40 categorías distintas. Se intentó emplear permutation_importance pero no se pudo utilizar debido al gran tiempo de ejecución. En función de esto, se decidió eliminar las variables con feature importancia menor a un threshold y entrenar el modelo con los mejores parámetros encontrados anteriormente."
   ]
  },
  {
   "cell_type": "markdown",
   "metadata": {},
   "source": [
    "##### Observaciones (ELIMINAR PARA EL INFORME)\n",
    "Las variables con mayor feature importance son altura y clase_suelo, dos de las features con mayor correlación con el target.\n",
    "\n",
    "¿Por qué clase_area_silvestre no tiene mucha importancia a pesar de ser la más correlacionada con el target?\n",
    "\n",
    "Sorpresivamente, la variable razon_distcaminos_alturas resultó con una relativa importancia. Pero no es el caso de sombra_mean.\n",
    "\n",
    "En base al histograma, podría eliminar directamente las variables que tienen menor feature importance. Sin embargo, antes hay que tener en cuenta que el método para calcular feature importance se basa en calcular the mean and standard deviation of accumulation of the impurity decrease within each tree. Warning: Impurity-based feature importances can be misleading for high cardinality features (many unique values). Tal es el caso de clase_suelo que tiene 40 valores únicos correspondientes a 40 categorías distintas.\n"
   ]
  },
  {
   "cell_type": "code",
   "execution_count": 90,
   "metadata": {},
   "outputs": [],
   "source": [
    "#Al final no pude usar permutation_importance debido a que le tomó mucho tiempo correr:\n",
    "# from sklearn.inspection import permutation_importance\n",
    "\n",
    "# r = permutation_importance(grid_search.best_estimator_, train_predictors, train_target, n_repeats=30, random_state=0)\n",
    "\n",
    "# for i in r.importances_mean.argsort()[::-1]:\n",
    "#     if r.importances_mean[i] - 2 * r.importances_std[i] > 0:\n",
    "#         print(f\"{data.feature_names[i]:<8}\"\n",
    "#               f\"{r.importances_mean[i]:.3f}\"\n",
    "#               f\" +/- {r.importances_std[i]:.3f}\")\n"
   ]
  },
  {
   "cell_type": "markdown",
   "metadata": {},
   "source": [
    "###### Observaciones\n"
   ]
  },
  {
   "cell_type": "code",
   "execution_count": 91,
   "metadata": {},
   "outputs": [
    {
     "name": "stdout",
     "output_type": "stream",
     "text": [
      "Eliminé la feature:  inclinacion_suelo  con una feature importance de  0.021634939042769075\n",
      "Eliminé la feature:  sombra_mediodia  con una feature importance de  0.02557963479052168\n",
      "Eliminé la feature:  sombra_tarde  con una feature importance de  0.026910084631911607\n",
      "Eliminé la feature:  sombra_mean  con una feature importance de  0.024776694182760423\n"
     ]
    }
   ],
   "source": [
    "threshold = 0.03\n",
    "\n",
    "train_predictors_reduced = train_predictors.copy()\n",
    "for feature, importance in zip(features, feature_importances):\n",
    "    if(importance < threshold):\n",
    "        print(\"Eliminé la feature: \", feature, \" con una feature importance de \", importance)\n",
    "        train_predictors_reduced = train_predictors_reduced.drop(columns = [feature])\n",
    "\n"
   ]
  },
  {
   "cell_type": "code",
   "execution_count": null,
   "metadata": {},
   "outputs": [],
   "source": [
    "# Eliminé la feature:  inclinacion_suelo  con una feature importance de  0.021634939042769075\n",
    "# Eliminé la feature:  sombra_mediodia  con una feature importance de  0.02557963479052168\n",
    "# Eliminé la feature:  sombra_tarde  con una feature importance de  0.026910084631911607\n",
    "# Eliminé la feature:  sombra_mean  con una feature importance de  0.024776694182760423"
   ]
  },
  {
   "cell_type": "code",
   "execution_count": 92,
   "metadata": {},
   "outputs": [
    {
     "name": "stdout",
     "output_type": "stream",
     "text": [
      "Scores: [0.95788624 0.9573215  0.95917709 0.95871936 0.95691753]\n",
      "Mean: 0.9580043448618843\n",
      "Standard deviation: 0.0008423722174410649\n"
     ]
    }
   ],
   "source": [
    "#Evalúo el score del modelo con los mejores parámetros\n",
    "RFmodel_score = cross_val_score(grid_search.best_estimator_, train_predictors, train_target,scoring=\"accuracy\", cv=5)\n",
    "display_scores(RFmodel_score)"
   ]
  },
  {
   "cell_type": "code",
   "execution_count": null,
   "metadata": {},
   "outputs": [],
   "source": [
    "# Scores: [0.95788624 0.9573215  0.95917709 0.95871936 0.95691753]\n",
    "# Mean: 0.9580043448618843\n",
    "# Standard deviation: 0.0008423722174410649"
   ]
  },
  {
   "cell_type": "code",
   "execution_count": 93,
   "metadata": {},
   "outputs": [
    {
     "name": "stdout",
     "output_type": "stream",
     "text": [
      "Scores: [0.96599435 0.96450182 0.96451526 0.96450134 0.96374834]\n",
      "Mean: 0.9646522206526124\n",
      "Standard deviation: 0.0007324576043352895\n"
     ]
    }
   ],
   "source": [
    "#Fiteo el modelo con una menor cantidad de variables\n",
    "#Mejores parámetros\n",
    "RF_best_params = grid_search.best_estimator_.get_params()\n",
    "\n",
    "#Modelo reducido\n",
    "RFmodel_reduced = RandomForestClassifier()\n",
    "RFmodel_reduced.set_params(**RF_best_params);\n",
    "\n",
    "#RFmodel_reduced.fit(train_predictors_reduced, train_target)\n",
    "\n",
    "#Evalúo el score del modelo con los mejores parámetros y una menor cantidad de variables\n",
    "RFmodel_reduced_score = cross_val_score(RFmodel_reduced, train_predictors_reduced, train_target,scoring=\"accuracy\", cv=5)\n",
    "display_scores(RFmodel_reduced_score)\n"
   ]
  },
  {
   "cell_type": "code",
   "execution_count": null,
   "metadata": {},
   "outputs": [],
   "source": [
    "# Scores: [0.96599435 0.96450182 0.96451526 0.96450134 0.96374834]\n",
    "# Mean: 0.9646522206526124\n",
    "# Standard deviation: 0.0007324576043352895"
   ]
  },
  {
   "cell_type": "markdown",
   "metadata": {},
   "source": [
    "##### Observaciones\n",
    "\n",
    "Se obtuvo un mejor rendimiento (menor score mean pero ligeramente mayor standard deviation) empleando una menor cantidad de variables. Para proceder formalmente, la variable threshold, que indica el límite de feature importance debajo del cual se elimina determinada feature, debería ser considerada un hiperparámetro y hacer grid search nuevamente."
   ]
  },
  {
   "cell_type": "markdown",
   "metadata": {},
   "source": [
    "#### Mejor modelo de Random Forest\n",
    "El Accuracy del modelo con menor cantidad de features es ligeramente mayor que el modelo anterior. En base a esto, me quedo con el nuevo modelo y lo entreno"
   ]
  },
  {
   "cell_type": "code",
   "execution_count": 94,
   "metadata": {},
   "outputs": [],
   "source": [
    "#El mejor modelo de Random Forest es\n",
    "RFmodel_final = RFmodel_reduced.fit(train_predictors_reduced, train_target)"
   ]
  },
  {
   "cell_type": "markdown",
   "metadata": {},
   "source": [
    "### XGBoost\n",
    "\n",
    "Como se emplearán árboles para realizar las estimaciones, tampoco es necesario standarizar las features."
   ]
  },
  {
   "cell_type": "code",
   "execution_count": null,
   "metadata": {},
   "outputs": [],
   "source": [
    "#Divido el train_set entre train_predictors y train_target\n",
    "train_predictors = train_set.drop(\"dosel_forestal\", axis=1)\n",
    "train_target = train_set[\"dosel_forestal\"].copy()"
   ]
  },
  {
   "cell_type": "markdown",
   "metadata": {},
   "source": [
    "##### Modelo simple con parámetros por default"
   ]
  },
  {
   "cell_type": "code",
   "execution_count": 7,
   "metadata": {},
   "outputs": [
    {
     "name": "stderr",
     "output_type": "stream",
     "text": [
      "c:\\ProgramData\\Anaconda3\\envs\\Introduccion_al_ML_IB\\lib\\site-packages\\numpy\\__init__.py:148: UserWarning: mkl-service package failed to import, therefore Intel(R) MKL initialization ensuring its correct out-of-the box operation under condition when Gnu OpenMP had already been loaded by Python process is not assured. Please install mkl-service package, see http://github.com/IntelPython/mkl-service\n",
      "  from . import _distributor_init\n"
     ]
    },
    {
     "ename": "ImportError",
     "evalue": "\n\nIMPORTANT: PLEASE READ THIS FOR ADVICE ON HOW TO SOLVE THIS ISSUE!\n\nImporting the numpy C-extensions failed. This error can happen for\nmany reasons, often due to issues with your setup or how NumPy was\ninstalled.\n\nWe have compiled some common reasons and troubleshooting tips at:\n\n    https://numpy.org/devdocs/user/troubleshooting-importerror.html\n\nPlease note and check the following:\n\n  * The Python version is: Python3.9 from \"c:\\ProgramData\\Anaconda3\\envs\\Introduccion_al_ML_IB\\python.exe\"\n  * The NumPy version is: \"1.21.5\"\n\nand make sure that they are the versions you expect.\nPlease carefully study the documentation linked above for further help.\n\nOriginal error was: No module named 'numpy.core._multiarray_umath'\n",
     "output_type": "error",
     "traceback": [
      "\u001b[1;31m---------------------------------------------------------------------------\u001b[0m",
      "\u001b[1;31mModuleNotFoundError\u001b[0m                       Traceback (most recent call last)",
      "File \u001b[1;32mc:\\ProgramData\\Anaconda3\\envs\\Introduccion_al_ML_IB\\lib\\site-packages\\numpy\\core\\__init__.py:22\u001b[0m, in \u001b[0;36m<module>\u001b[1;34m\u001b[0m\n\u001b[0;32m     21\u001b[0m \u001b[39mtry\u001b[39;00m:\n\u001b[1;32m---> 22\u001b[0m     \u001b[39mfrom\u001b[39;00m \u001b[39m.\u001b[39;00m \u001b[39mimport\u001b[39;00m multiarray\n\u001b[0;32m     23\u001b[0m \u001b[39mexcept\u001b[39;00m \u001b[39mImportError\u001b[39;00m \u001b[39mas\u001b[39;00m exc:\n",
      "File \u001b[1;32mc:\\ProgramData\\Anaconda3\\envs\\Introduccion_al_ML_IB\\lib\\site-packages\\numpy\\core\\multiarray.py:12\u001b[0m, in \u001b[0;36m<module>\u001b[1;34m\u001b[0m\n\u001b[0;32m     10\u001b[0m \u001b[39mimport\u001b[39;00m \u001b[39mwarnings\u001b[39;00m\n\u001b[1;32m---> 12\u001b[0m \u001b[39mfrom\u001b[39;00m \u001b[39m.\u001b[39;00m \u001b[39mimport\u001b[39;00m overrides\n\u001b[0;32m     13\u001b[0m \u001b[39mfrom\u001b[39;00m \u001b[39m.\u001b[39;00m \u001b[39mimport\u001b[39;00m _multiarray_umath\n",
      "File \u001b[1;32mc:\\ProgramData\\Anaconda3\\envs\\Introduccion_al_ML_IB\\lib\\site-packages\\numpy\\core\\overrides.py:7\u001b[0m, in \u001b[0;36m<module>\u001b[1;34m\u001b[0m\n\u001b[0;32m      5\u001b[0m \u001b[39mimport\u001b[39;00m \u001b[39mtextwrap\u001b[39;00m\n\u001b[1;32m----> 7\u001b[0m \u001b[39mfrom\u001b[39;00m \u001b[39mnumpy\u001b[39;00m\u001b[39m.\u001b[39;00m\u001b[39mcore\u001b[39;00m\u001b[39m.\u001b[39;00m\u001b[39m_multiarray_umath\u001b[39;00m \u001b[39mimport\u001b[39;00m (\n\u001b[0;32m      8\u001b[0m     add_docstring, implement_array_function, _get_implementing_args)\n\u001b[0;32m      9\u001b[0m \u001b[39mfrom\u001b[39;00m \u001b[39mnumpy\u001b[39;00m\u001b[39m.\u001b[39;00m\u001b[39mcompat\u001b[39;00m\u001b[39m.\u001b[39;00m\u001b[39m_inspect\u001b[39;00m \u001b[39mimport\u001b[39;00m getargspec\n",
      "\u001b[1;31mModuleNotFoundError\u001b[0m: No module named 'numpy.core._multiarray_umath'",
      "\nDuring handling of the above exception, another exception occurred:\n",
      "\u001b[1;31mImportError\u001b[0m                               Traceback (most recent call last)",
      "\u001b[1;32mc:\\Users\\lupam\\OneDrive\\Escritorio\\MLFundamentals_ejercicios\\Reports\\Chehade_report1.ipynb Celda 67\u001b[0m in \u001b[0;36m<cell line: 1>\u001b[1;34m()\u001b[0m\n\u001b[1;32m----> <a href='vscode-notebook-cell:/c%3A/Users/lupam/OneDrive/Escritorio/MLFundamentals_ejercicios/Reports/Chehade_report1.ipynb#Y122sZmlsZQ%3D%3D?line=0'>1</a>\u001b[0m \u001b[39mfrom\u001b[39;00m \u001b[39mxgboost\u001b[39;00m \u001b[39mimport\u001b[39;00m XGBClassifier\n\u001b[0;32m      <a href='vscode-notebook-cell:/c%3A/Users/lupam/OneDrive/Escritorio/MLFundamentals_ejercicios/Reports/Chehade_report1.ipynb#Y122sZmlsZQ%3D%3D?line=2'>3</a>\u001b[0m XGBmodel \u001b[39m=\u001b[39m XGBClassifier()\n",
      "File \u001b[1;32mc:\\ProgramData\\Anaconda3\\envs\\Introduccion_al_ML_IB\\lib\\site-packages\\xgboost\\__init__.py:9\u001b[0m, in \u001b[0;36m<module>\u001b[1;34m\u001b[0m\n\u001b[0;32m      2\u001b[0m \u001b[39m\"\"\"XGBoost: eXtreme Gradient Boosting library.\u001b[39;00m\n\u001b[0;32m      3\u001b[0m \n\u001b[0;32m      4\u001b[0m \u001b[39mContributors: https://github.com/dmlc/xgboost/blob/master/CONTRIBUTORS.md\u001b[39;00m\n\u001b[0;32m      5\u001b[0m \u001b[39m\"\"\"\u001b[39;00m\n\u001b[0;32m      7\u001b[0m \u001b[39mimport\u001b[39;00m \u001b[39mos\u001b[39;00m\n\u001b[1;32m----> 9\u001b[0m \u001b[39mfrom\u001b[39;00m \u001b[39m.\u001b[39;00m\u001b[39mcore\u001b[39;00m \u001b[39mimport\u001b[39;00m DMatrix, DeviceQuantileDMatrix, Booster, DataIter\n\u001b[0;32m     10\u001b[0m \u001b[39mfrom\u001b[39;00m \u001b[39m.\u001b[39;00m\u001b[39mtraining\u001b[39;00m \u001b[39mimport\u001b[39;00m train, cv\n\u001b[0;32m     11\u001b[0m \u001b[39mfrom\u001b[39;00m \u001b[39m.\u001b[39;00m \u001b[39mimport\u001b[39;00m rabit  \u001b[39m# noqa\u001b[39;00m\n",
      "File \u001b[1;32mc:\\ProgramData\\Anaconda3\\envs\\Introduccion_al_ML_IB\\lib\\site-packages\\xgboost\\core.py:20\u001b[0m, in \u001b[0;36m<module>\u001b[1;34m\u001b[0m\n\u001b[0;32m     17\u001b[0m \u001b[39mfrom\u001b[39;00m \u001b[39mfunctools\u001b[39;00m \u001b[39mimport\u001b[39;00m wraps\n\u001b[0;32m     18\u001b[0m \u001b[39mfrom\u001b[39;00m \u001b[39minspect\u001b[39;00m \u001b[39mimport\u001b[39;00m signature, Parameter\n\u001b[1;32m---> 20\u001b[0m \u001b[39mimport\u001b[39;00m \u001b[39mnumpy\u001b[39;00m \u001b[39mas\u001b[39;00m \u001b[39mnp\u001b[39;00m\n\u001b[0;32m     21\u001b[0m \u001b[39mimport\u001b[39;00m \u001b[39mscipy\u001b[39;00m\u001b[39m.\u001b[39;00m\u001b[39msparse\u001b[39;00m\n\u001b[0;32m     23\u001b[0m \u001b[39mfrom\u001b[39;00m \u001b[39m.\u001b[39;00m\u001b[39mcompat\u001b[39;00m \u001b[39mimport\u001b[39;00m (STRING_TYPES, DataFrame, py_str, PANDAS_INSTALLED,\n\u001b[0;32m     24\u001b[0m                      lazy_isinstance)\n",
      "File \u001b[1;32mc:\\ProgramData\\Anaconda3\\envs\\Introduccion_al_ML_IB\\lib\\site-packages\\numpy\\__init__.py:150\u001b[0m, in \u001b[0;36m<module>\u001b[1;34m\u001b[0m\n\u001b[0;32m    147\u001b[0m \u001b[39m# Allow distributors to run custom init code\u001b[39;00m\n\u001b[0;32m    148\u001b[0m \u001b[39mfrom\u001b[39;00m \u001b[39m.\u001b[39;00m \u001b[39mimport\u001b[39;00m _distributor_init\n\u001b[1;32m--> 150\u001b[0m \u001b[39mfrom\u001b[39;00m \u001b[39m.\u001b[39;00m \u001b[39mimport\u001b[39;00m core\n\u001b[0;32m    151\u001b[0m \u001b[39mfrom\u001b[39;00m \u001b[39m.\u001b[39;00m\u001b[39mcore\u001b[39;00m \u001b[39mimport\u001b[39;00m \u001b[39m*\u001b[39m\n\u001b[0;32m    152\u001b[0m \u001b[39mfrom\u001b[39;00m \u001b[39m.\u001b[39;00m \u001b[39mimport\u001b[39;00m compat\n",
      "File \u001b[1;32mc:\\ProgramData\\Anaconda3\\envs\\Introduccion_al_ML_IB\\lib\\site-packages\\numpy\\core\\__init__.py:48\u001b[0m, in \u001b[0;36m<module>\u001b[1;34m\u001b[0m\n\u001b[0;32m     24\u001b[0m     \u001b[39mimport\u001b[39;00m \u001b[39msys\u001b[39;00m\n\u001b[0;32m     25\u001b[0m     msg \u001b[39m=\u001b[39m \u001b[39m\"\"\"\u001b[39m\n\u001b[0;32m     26\u001b[0m \n\u001b[0;32m     27\u001b[0m \u001b[39mIMPORTANT: PLEASE READ THIS FOR ADVICE ON HOW TO SOLVE THIS ISSUE!\u001b[39m\n\u001b[1;32m   (...)\u001b[0m\n\u001b[0;32m     46\u001b[0m \u001b[39m\"\"\"\u001b[39m \u001b[39m%\u001b[39m (sys\u001b[39m.\u001b[39mversion_info[\u001b[39m0\u001b[39m], sys\u001b[39m.\u001b[39mversion_info[\u001b[39m1\u001b[39m], sys\u001b[39m.\u001b[39mexecutable,\n\u001b[0;32m     47\u001b[0m         __version__, exc)\n\u001b[1;32m---> 48\u001b[0m     \u001b[39mraise\u001b[39;00m \u001b[39mImportError\u001b[39;00m(msg)\n\u001b[0;32m     49\u001b[0m \u001b[39mfinally\u001b[39;00m:\n\u001b[0;32m     50\u001b[0m     \u001b[39mfor\u001b[39;00m envkey \u001b[39min\u001b[39;00m env_added:\n",
      "\u001b[1;31mImportError\u001b[0m: \n\nIMPORTANT: PLEASE READ THIS FOR ADVICE ON HOW TO SOLVE THIS ISSUE!\n\nImporting the numpy C-extensions failed. This error can happen for\nmany reasons, often due to issues with your setup or how NumPy was\ninstalled.\n\nWe have compiled some common reasons and troubleshooting tips at:\n\n    https://numpy.org/devdocs/user/troubleshooting-importerror.html\n\nPlease note and check the following:\n\n  * The Python version is: Python3.9 from \"c:\\ProgramData\\Anaconda3\\envs\\Introduccion_al_ML_IB\\python.exe\"\n  * The NumPy version is: \"1.21.5\"\n\nand make sure that they are the versions you expect.\nPlease carefully study the documentation linked above for further help.\n\nOriginal error was: No module named 'numpy.core._multiarray_umath'\n"
     ]
    }
   ],
   "source": [
    "from xgboost import XGBClassifier\n",
    "\n",
    "XGBmodel = XGBClassifier()\n",
    "XGBmodel.fit(train_predictors, train_target);"
   ]
  },
  {
   "cell_type": "markdown",
   "metadata": {},
   "source": [
    "##### Métricas del modelo"
   ]
  },
  {
   "cell_type": "code",
   "execution_count": 96,
   "metadata": {},
   "outputs": [
    {
     "name": "stdout",
     "output_type": "stream",
     "text": [
      "Accuracy:  88.8962694434285  %\n"
     ]
    }
   ],
   "source": [
    "#Error sobre el train set\n",
    "from sklearn.metrics import accuracy_score\n",
    "\n",
    "RFmodel_error = accuracy_score(train_target, XGBmodel.predict(train_predictors))\n",
    "print(\"Accuracy: \", RFmodel_error*100, \" %\" )"
   ]
  },
  {
   "cell_type": "code",
   "execution_count": null,
   "metadata": {},
   "outputs": [],
   "source": [
    "# Accuracy:  88.8962694434285  %"
   ]
  },
  {
   "cell_type": "markdown",
   "metadata": {},
   "source": [
    "##### Observaciones\n",
    "A priori este modelo tarda mucho más tiempo en ejecutar que Random Forest"
   ]
  },
  {
   "cell_type": "markdown",
   "metadata": {},
   "source": [
    "#### Cross Validation\n",
    "\n",
    "Al igual que en Random Forest, se determina un score del modelo por default empleando cross validation\n"
   ]
  },
  {
   "cell_type": "code",
   "execution_count": 97,
   "metadata": {},
   "outputs": [
    {
     "name": "stderr",
     "output_type": "stream",
     "text": [
      "c:\\ProgramData\\Anaconda3\\envs\\Introduccion_al_ML_IB\\lib\\site-packages\\xgboost\\sklearn.py:1224: UserWarning: The use of label encoder in XGBClassifier is deprecated and will be removed in a future release. To remove this warning, do the following: 1) Pass option use_label_encoder=False when constructing XGBClassifier object; and 2) Encode your labels (y) as integers starting with 0, i.e. 0, 1, 2, ..., [num_class - 1].\n",
      "  warnings.warn(label_encoder_deprecation_msg, UserWarning)\n",
      "c:\\ProgramData\\Anaconda3\\envs\\Introduccion_al_ML_IB\\lib\\site-packages\\xgboost\\data.py:250: FutureWarning: pandas.Int64Index is deprecated and will be removed from pandas in a future version. Use pandas.Index with the appropriate dtype instead.\n",
      "  elif isinstance(data.columns, (pd.Int64Index, pd.RangeIndex)):\n"
     ]
    },
    {
     "name": "stdout",
     "output_type": "stream",
     "text": [
      "[13:17:41] WARNING: C:\\Windows\\Temp\\abs_557yfx631l\\croots\\recipe\\xgboost-split_1659548953302\\work\\src\\learner.cc:1115: Starting in XGBoost 1.3.0, the default evaluation metric used with the objective 'multi:softprob' was changed from 'merror' to 'mlogloss'. Explicitly set eval_metric if you'd like to restore the old behavior.\n"
     ]
    },
    {
     "name": "stderr",
     "output_type": "stream",
     "text": [
      "c:\\ProgramData\\Anaconda3\\envs\\Introduccion_al_ML_IB\\lib\\site-packages\\xgboost\\sklearn.py:1224: UserWarning: The use of label encoder in XGBClassifier is deprecated and will be removed in a future release. To remove this warning, do the following: 1) Pass option use_label_encoder=False when constructing XGBClassifier object; and 2) Encode your labels (y) as integers starting with 0, i.e. 0, 1, 2, ..., [num_class - 1].\n",
      "  warnings.warn(label_encoder_deprecation_msg, UserWarning)\n",
      "c:\\ProgramData\\Anaconda3\\envs\\Introduccion_al_ML_IB\\lib\\site-packages\\xgboost\\data.py:250: FutureWarning: pandas.Int64Index is deprecated and will be removed from pandas in a future version. Use pandas.Index with the appropriate dtype instead.\n",
      "  elif isinstance(data.columns, (pd.Int64Index, pd.RangeIndex)):\n"
     ]
    },
    {
     "name": "stdout",
     "output_type": "stream",
     "text": [
      "[13:19:07] WARNING: C:\\Windows\\Temp\\abs_557yfx631l\\croots\\recipe\\xgboost-split_1659548953302\\work\\src\\learner.cc:1115: Starting in XGBoost 1.3.0, the default evaluation metric used with the objective 'multi:softprob' was changed from 'merror' to 'mlogloss'. Explicitly set eval_metric if you'd like to restore the old behavior.\n"
     ]
    },
    {
     "name": "stderr",
     "output_type": "stream",
     "text": [
      "c:\\ProgramData\\Anaconda3\\envs\\Introduccion_al_ML_IB\\lib\\site-packages\\xgboost\\sklearn.py:1224: UserWarning: The use of label encoder in XGBClassifier is deprecated and will be removed in a future release. To remove this warning, do the following: 1) Pass option use_label_encoder=False when constructing XGBClassifier object; and 2) Encode your labels (y) as integers starting with 0, i.e. 0, 1, 2, ..., [num_class - 1].\n",
      "  warnings.warn(label_encoder_deprecation_msg, UserWarning)\n",
      "c:\\ProgramData\\Anaconda3\\envs\\Introduccion_al_ML_IB\\lib\\site-packages\\xgboost\\data.py:250: FutureWarning: pandas.Int64Index is deprecated and will be removed from pandas in a future version. Use pandas.Index with the appropriate dtype instead.\n",
      "  elif isinstance(data.columns, (pd.Int64Index, pd.RangeIndex)):\n"
     ]
    },
    {
     "name": "stdout",
     "output_type": "stream",
     "text": [
      "[13:20:33] WARNING: C:\\Windows\\Temp\\abs_557yfx631l\\croots\\recipe\\xgboost-split_1659548953302\\work\\src\\learner.cc:1115: Starting in XGBoost 1.3.0, the default evaluation metric used with the objective 'multi:softprob' was changed from 'merror' to 'mlogloss'. Explicitly set eval_metric if you'd like to restore the old behavior.\n"
     ]
    },
    {
     "name": "stderr",
     "output_type": "stream",
     "text": [
      "c:\\ProgramData\\Anaconda3\\envs\\Introduccion_al_ML_IB\\lib\\site-packages\\xgboost\\sklearn.py:1224: UserWarning: The use of label encoder in XGBClassifier is deprecated and will be removed in a future release. To remove this warning, do the following: 1) Pass option use_label_encoder=False when constructing XGBClassifier object; and 2) Encode your labels (y) as integers starting with 0, i.e. 0, 1, 2, ..., [num_class - 1].\n",
      "  warnings.warn(label_encoder_deprecation_msg, UserWarning)\n",
      "c:\\ProgramData\\Anaconda3\\envs\\Introduccion_al_ML_IB\\lib\\site-packages\\xgboost\\data.py:250: FutureWarning: pandas.Int64Index is deprecated and will be removed from pandas in a future version. Use pandas.Index with the appropriate dtype instead.\n",
      "  elif isinstance(data.columns, (pd.Int64Index, pd.RangeIndex)):\n"
     ]
    },
    {
     "name": "stdout",
     "output_type": "stream",
     "text": [
      "[13:21:58] WARNING: C:\\Windows\\Temp\\abs_557yfx631l\\croots\\recipe\\xgboost-split_1659548953302\\work\\src\\learner.cc:1115: Starting in XGBoost 1.3.0, the default evaluation metric used with the objective 'multi:softprob' was changed from 'merror' to 'mlogloss'. Explicitly set eval_metric if you'd like to restore the old behavior.\n"
     ]
    },
    {
     "name": "stderr",
     "output_type": "stream",
     "text": [
      "c:\\ProgramData\\Anaconda3\\envs\\Introduccion_al_ML_IB\\lib\\site-packages\\xgboost\\sklearn.py:1224: UserWarning: The use of label encoder in XGBClassifier is deprecated and will be removed in a future release. To remove this warning, do the following: 1) Pass option use_label_encoder=False when constructing XGBClassifier object; and 2) Encode your labels (y) as integers starting with 0, i.e. 0, 1, 2, ..., [num_class - 1].\n",
      "  warnings.warn(label_encoder_deprecation_msg, UserWarning)\n",
      "c:\\ProgramData\\Anaconda3\\envs\\Introduccion_al_ML_IB\\lib\\site-packages\\xgboost\\data.py:250: FutureWarning: pandas.Int64Index is deprecated and will be removed from pandas in a future version. Use pandas.Index with the appropriate dtype instead.\n",
      "  elif isinstance(data.columns, (pd.Int64Index, pd.RangeIndex)):\n"
     ]
    },
    {
     "name": "stdout",
     "output_type": "stream",
     "text": [
      "[13:23:28] WARNING: C:\\Windows\\Temp\\abs_557yfx631l\\croots\\recipe\\xgboost-split_1659548953302\\work\\src\\learner.cc:1115: Starting in XGBoost 1.3.0, the default evaluation metric used with the objective 'multi:softprob' was changed from 'merror' to 'mlogloss'. Explicitly set eval_metric if you'd like to restore the old behavior.\n"
     ]
    }
   ],
   "source": [
    "train_predictions = XGBmodel.predict(train_predictors)\n",
    "XGBmodel_scores = cross_val_score(XGBmodel, train_predictors, train_target,scoring=\"accuracy\", cv=5) #cv es la cantidad de particiones\n"
   ]
  },
  {
   "cell_type": "code",
   "execution_count": 98,
   "metadata": {},
   "outputs": [
    {
     "name": "stdout",
     "output_type": "stream",
     "text": [
      "Scores: [0.87905069 0.87172247 0.87312088 0.87077949 0.87211069]\n",
      "Mean: 0.8733568452068919\n",
      "Standard deviation: 0.002944228721388459\n"
     ]
    }
   ],
   "source": [
    "display_scores(XGBmodel_scores)"
   ]
  },
  {
   "cell_type": "code",
   "execution_count": null,
   "metadata": {},
   "outputs": [],
   "source": [
    "# Scores: [0.87905069 0.87172247 0.87312088 0.87077949 0.87211069]\n",
    "# Mean: 0.8733568452068919\n",
    "# Standard deviation: 0.002944228721388459"
   ]
  },
  {
   "cell_type": "markdown",
   "metadata": {},
   "source": [
    "##### Observaciones\n",
    "A priori se observa que el modelo de XGBoost por default es bueno en comparación a Random Forest (con accuracy de ~78%), obteniendo mayor accuracy. De todos modos, para hacer una comparación justa es necesario buscar la mejor combinación de hiperparámetros de forma de obtener el \"mejor modelo\" de XGBoost posible"
   ]
  },
  {
   "cell_type": "markdown",
   "metadata": {},
   "source": [
    "#### Grid Search\n",
    "\n",
    "¿Qué parámetros se pueden variar en XGBoost? Hago una lista de los parámetros, junto a una breve explicación, el valor por default y el rango en el que voy a variar cada uno de ellos al hacer grid search\n",
    "1. n_estimators = 100 (number of trees) (target 500-1000)\n",
    "* Default: 100\n",
    "* Variación: 100\n",
    "2. eta (a.k.a. learning rate)\n",
    "* Default: 0.3\n",
    "* Variación: [0.1, 0.3, 0.5, 0.8]\n",
    "3. max_depth: max depth del tree\n",
    "* Default: 6\n",
    "* Variación: [3, 6, 12, 24] \n",
    "4. min_samples_split = 2\n",
    "* Default: 2\n",
    "* Variación: 2\n",
    "5. min_samples_leaf = 1\n",
    "* Default: 1\n",
    "* Variación: 1\n",
    "6. subsample: Subsample ratio of the training instances. Entiendo que en cada instancia de training no usa todos los datos de train, sino una parte de ellos. Esto previene el overfitting.\n",
    "* Default: 1\n",
    "* Variación: [0.5, 0.75, 1.0]\n",
    "7. colsample_bytree: subsample ratio of columns when constructing each tree. Entiendo que es el subsample de features que considera para hacer splits en el entrenamiento de un árbol. Si esto es así significaría que estaría haciendo un random forest?\n",
    "* Default: 1  \n",
    "* Variación: 1 \n",
    "8. gamma: Minimum loss reduction required to make a further partition on a leaf node of the tree. The larger gamma is, the more conservative the algorithm will be.\n",
    "* Default: 0\n",
    "* Variación: [0.1, 0.5, 1]  \n",
    "\n",
    "Los siguientes parámetros son útiles para XGB pero solo para modelos de regresión, no para classifier.\n",
    "9. alpha: L1 regularization term on weights. Un aumento de este valor produce un modelo más conservativo. A diferencia de L2, le da menor peso a los outliers\n",
    "* Default: 0\n",
    "* Variación: [0, 0.5, 1]\n",
    "10. lambda: L2 regularization term on weights. Un aumento de este valor produce un modelo más conservativo. Pesa mucho los outliers.\n",
    "* Default: 0\n",
    "* Variación: [0, 0.5, 1]"
   ]
  },
  {
   "cell_type": "code",
   "execution_count": 99,
   "metadata": {},
   "outputs": [
    {
     "name": "stdout",
     "output_type": "stream",
     "text": [
      "Fitting 5 folds for each of 24 candidates, totalling 120 fits\n"
     ]
    },
    {
     "name": "stderr",
     "output_type": "stream",
     "text": [
      "c:\\ProgramData\\Anaconda3\\envs\\Introduccion_al_ML_IB\\lib\\site-packages\\xgboost\\sklearn.py:1224: UserWarning: The use of label encoder in XGBClassifier is deprecated and will be removed in a future release. To remove this warning, do the following: 1) Pass option use_label_encoder=False when constructing XGBClassifier object; and 2) Encode your labels (y) as integers starting with 0, i.e. 0, 1, 2, ..., [num_class - 1].\n",
      "  warnings.warn(label_encoder_deprecation_msg, UserWarning)\n",
      "c:\\ProgramData\\Anaconda3\\envs\\Introduccion_al_ML_IB\\lib\\site-packages\\xgboost\\data.py:250: FutureWarning: pandas.Int64Index is deprecated and will be removed from pandas in a future version. Use pandas.Index with the appropriate dtype instead.\n",
      "  elif isinstance(data.columns, (pd.Int64Index, pd.RangeIndex)):\n"
     ]
    },
    {
     "name": "stdout",
     "output_type": "stream",
     "text": [
      "[13:24:58] WARNING: C:\\Windows\\Temp\\abs_557yfx631l\\croots\\recipe\\xgboost-split_1659548953302\\work\\src\\learner.cc:1115: Starting in XGBoost 1.3.0, the default evaluation metric used with the objective 'multi:softprob' was changed from 'merror' to 'mlogloss'. Explicitly set eval_metric if you'd like to restore the old behavior.\n",
      "[CV 1/5] END eta=0.3, gamma=0, max_depth=20, subsample=0.75;, score=(train=1.000, test=0.968) total time= 3.9min\n"
     ]
    },
    {
     "name": "stderr",
     "output_type": "stream",
     "text": [
      "c:\\ProgramData\\Anaconda3\\envs\\Introduccion_al_ML_IB\\lib\\site-packages\\xgboost\\sklearn.py:1224: UserWarning: The use of label encoder in XGBClassifier is deprecated and will be removed in a future release. To remove this warning, do the following: 1) Pass option use_label_encoder=False when constructing XGBClassifier object; and 2) Encode your labels (y) as integers starting with 0, i.e. 0, 1, 2, ..., [num_class - 1].\n",
      "  warnings.warn(label_encoder_deprecation_msg, UserWarning)\n",
      "c:\\ProgramData\\Anaconda3\\envs\\Introduccion_al_ML_IB\\lib\\site-packages\\xgboost\\data.py:250: FutureWarning: pandas.Int64Index is deprecated and will be removed from pandas in a future version. Use pandas.Index with the appropriate dtype instead.\n",
      "  elif isinstance(data.columns, (pd.Int64Index, pd.RangeIndex)):\n"
     ]
    },
    {
     "name": "stdout",
     "output_type": "stream",
     "text": [
      "[13:28:53] WARNING: C:\\Windows\\Temp\\abs_557yfx631l\\croots\\recipe\\xgboost-split_1659548953302\\work\\src\\learner.cc:1115: Starting in XGBoost 1.3.0, the default evaluation metric used with the objective 'multi:softprob' was changed from 'merror' to 'mlogloss'. Explicitly set eval_metric if you'd like to restore the old behavior.\n",
      "[CV 2/5] END eta=0.3, gamma=0, max_depth=20, subsample=0.75;, score=(train=1.000, test=0.966) total time= 4.6min\n"
     ]
    },
    {
     "name": "stderr",
     "output_type": "stream",
     "text": [
      "c:\\ProgramData\\Anaconda3\\envs\\Introduccion_al_ML_IB\\lib\\site-packages\\xgboost\\sklearn.py:1224: UserWarning: The use of label encoder in XGBClassifier is deprecated and will be removed in a future release. To remove this warning, do the following: 1) Pass option use_label_encoder=False when constructing XGBClassifier object; and 2) Encode your labels (y) as integers starting with 0, i.e. 0, 1, 2, ..., [num_class - 1].\n",
      "  warnings.warn(label_encoder_deprecation_msg, UserWarning)\n",
      "c:\\ProgramData\\Anaconda3\\envs\\Introduccion_al_ML_IB\\lib\\site-packages\\xgboost\\data.py:250: FutureWarning: pandas.Int64Index is deprecated and will be removed from pandas in a future version. Use pandas.Index with the appropriate dtype instead.\n",
      "  elif isinstance(data.columns, (pd.Int64Index, pd.RangeIndex)):\n"
     ]
    },
    {
     "name": "stdout",
     "output_type": "stream",
     "text": [
      "[13:33:34] WARNING: C:\\Windows\\Temp\\abs_557yfx631l\\croots\\recipe\\xgboost-split_1659548953302\\work\\src\\learner.cc:1115: Starting in XGBoost 1.3.0, the default evaluation metric used with the objective 'multi:softprob' was changed from 'merror' to 'mlogloss'. Explicitly set eval_metric if you'd like to restore the old behavior.\n",
      "[CV 3/5] END eta=0.3, gamma=0, max_depth=20, subsample=0.75;, score=(train=1.000, test=0.967) total time= 3.8min\n"
     ]
    },
    {
     "name": "stderr",
     "output_type": "stream",
     "text": [
      "c:\\ProgramData\\Anaconda3\\envs\\Introduccion_al_ML_IB\\lib\\site-packages\\xgboost\\sklearn.py:1224: UserWarning: The use of label encoder in XGBClassifier is deprecated and will be removed in a future release. To remove this warning, do the following: 1) Pass option use_label_encoder=False when constructing XGBClassifier object; and 2) Encode your labels (y) as integers starting with 0, i.e. 0, 1, 2, ..., [num_class - 1].\n",
      "  warnings.warn(label_encoder_deprecation_msg, UserWarning)\n",
      "c:\\ProgramData\\Anaconda3\\envs\\Introduccion_al_ML_IB\\lib\\site-packages\\xgboost\\data.py:250: FutureWarning: pandas.Int64Index is deprecated and will be removed from pandas in a future version. Use pandas.Index with the appropriate dtype instead.\n",
      "  elif isinstance(data.columns, (pd.Int64Index, pd.RangeIndex)):\n"
     ]
    },
    {
     "name": "stdout",
     "output_type": "stream",
     "text": [
      "[13:37:28] WARNING: C:\\Windows\\Temp\\abs_557yfx631l\\croots\\recipe\\xgboost-split_1659548953302\\work\\src\\learner.cc:1115: Starting in XGBoost 1.3.0, the default evaluation metric used with the objective 'multi:softprob' was changed from 'merror' to 'mlogloss'. Explicitly set eval_metric if you'd like to restore the old behavior.\n",
      "[CV 4/5] END eta=0.3, gamma=0, max_depth=20, subsample=0.75;, score=(train=1.000, test=0.967) total time= 3.8min\n"
     ]
    },
    {
     "name": "stderr",
     "output_type": "stream",
     "text": [
      "c:\\ProgramData\\Anaconda3\\envs\\Introduccion_al_ML_IB\\lib\\site-packages\\xgboost\\sklearn.py:1224: UserWarning: The use of label encoder in XGBClassifier is deprecated and will be removed in a future release. To remove this warning, do the following: 1) Pass option use_label_encoder=False when constructing XGBClassifier object; and 2) Encode your labels (y) as integers starting with 0, i.e. 0, 1, 2, ..., [num_class - 1].\n",
      "  warnings.warn(label_encoder_deprecation_msg, UserWarning)\n",
      "c:\\ProgramData\\Anaconda3\\envs\\Introduccion_al_ML_IB\\lib\\site-packages\\xgboost\\data.py:250: FutureWarning: pandas.Int64Index is deprecated and will be removed from pandas in a future version. Use pandas.Index with the appropriate dtype instead.\n",
      "  elif isinstance(data.columns, (pd.Int64Index, pd.RangeIndex)):\n"
     ]
    },
    {
     "name": "stdout",
     "output_type": "stream",
     "text": [
      "[13:41:20] WARNING: C:\\Windows\\Temp\\abs_557yfx631l\\croots\\recipe\\xgboost-split_1659548953302\\work\\src\\learner.cc:1115: Starting in XGBoost 1.3.0, the default evaluation metric used with the objective 'multi:softprob' was changed from 'merror' to 'mlogloss'. Explicitly set eval_metric if you'd like to restore the old behavior.\n",
      "[CV 5/5] END eta=0.3, gamma=0, max_depth=20, subsample=0.75;, score=(train=1.000, test=0.966) total time= 3.8min\n"
     ]
    },
    {
     "name": "stderr",
     "output_type": "stream",
     "text": [
      "c:\\ProgramData\\Anaconda3\\envs\\Introduccion_al_ML_IB\\lib\\site-packages\\xgboost\\sklearn.py:1224: UserWarning: The use of label encoder in XGBClassifier is deprecated and will be removed in a future release. To remove this warning, do the following: 1) Pass option use_label_encoder=False when constructing XGBClassifier object; and 2) Encode your labels (y) as integers starting with 0, i.e. 0, 1, 2, ..., [num_class - 1].\n",
      "  warnings.warn(label_encoder_deprecation_msg, UserWarning)\n",
      "c:\\ProgramData\\Anaconda3\\envs\\Introduccion_al_ML_IB\\lib\\site-packages\\xgboost\\data.py:250: FutureWarning: pandas.Int64Index is deprecated and will be removed from pandas in a future version. Use pandas.Index with the appropriate dtype instead.\n",
      "  elif isinstance(data.columns, (pd.Int64Index, pd.RangeIndex)):\n"
     ]
    },
    {
     "name": "stdout",
     "output_type": "stream",
     "text": [
      "[13:45:13] WARNING: C:\\Windows\\Temp\\abs_557yfx631l\\croots\\recipe\\xgboost-split_1659548953302\\work\\src\\learner.cc:1115: Starting in XGBoost 1.3.0, the default evaluation metric used with the objective 'multi:softprob' was changed from 'merror' to 'mlogloss'. Explicitly set eval_metric if you'd like to restore the old behavior.\n",
      "[CV 1/5] END eta=0.3, gamma=0, max_depth=20, subsample=1.0;, score=(train=1.000, test=0.968) total time= 3.8min\n"
     ]
    },
    {
     "name": "stderr",
     "output_type": "stream",
     "text": [
      "c:\\ProgramData\\Anaconda3\\envs\\Introduccion_al_ML_IB\\lib\\site-packages\\xgboost\\sklearn.py:1224: UserWarning: The use of label encoder in XGBClassifier is deprecated and will be removed in a future release. To remove this warning, do the following: 1) Pass option use_label_encoder=False when constructing XGBClassifier object; and 2) Encode your labels (y) as integers starting with 0, i.e. 0, 1, 2, ..., [num_class - 1].\n",
      "  warnings.warn(label_encoder_deprecation_msg, UserWarning)\n",
      "c:\\ProgramData\\Anaconda3\\envs\\Introduccion_al_ML_IB\\lib\\site-packages\\xgboost\\data.py:250: FutureWarning: pandas.Int64Index is deprecated and will be removed from pandas in a future version. Use pandas.Index with the appropriate dtype instead.\n",
      "  elif isinstance(data.columns, (pd.Int64Index, pd.RangeIndex)):\n"
     ]
    },
    {
     "name": "stdout",
     "output_type": "stream",
     "text": [
      "[13:49:07] WARNING: C:\\Windows\\Temp\\abs_557yfx631l\\croots\\recipe\\xgboost-split_1659548953302\\work\\src\\learner.cc:1115: Starting in XGBoost 1.3.0, the default evaluation metric used with the objective 'multi:softprob' was changed from 'merror' to 'mlogloss'. Explicitly set eval_metric if you'd like to restore the old behavior.\n",
      "[CV 2/5] END eta=0.3, gamma=0, max_depth=20, subsample=1.0;, score=(train=1.000, test=0.967) total time= 3.8min\n"
     ]
    },
    {
     "name": "stderr",
     "output_type": "stream",
     "text": [
      "c:\\ProgramData\\Anaconda3\\envs\\Introduccion_al_ML_IB\\lib\\site-packages\\xgboost\\sklearn.py:1224: UserWarning: The use of label encoder in XGBClassifier is deprecated and will be removed in a future release. To remove this warning, do the following: 1) Pass option use_label_encoder=False when constructing XGBClassifier object; and 2) Encode your labels (y) as integers starting with 0, i.e. 0, 1, 2, ..., [num_class - 1].\n",
      "  warnings.warn(label_encoder_deprecation_msg, UserWarning)\n",
      "c:\\ProgramData\\Anaconda3\\envs\\Introduccion_al_ML_IB\\lib\\site-packages\\xgboost\\data.py:250: FutureWarning: pandas.Int64Index is deprecated and will be removed from pandas in a future version. Use pandas.Index with the appropriate dtype instead.\n",
      "  elif isinstance(data.columns, (pd.Int64Index, pd.RangeIndex)):\n"
     ]
    },
    {
     "name": "stdout",
     "output_type": "stream",
     "text": [
      "[13:53:00] WARNING: C:\\Windows\\Temp\\abs_557yfx631l\\croots\\recipe\\xgboost-split_1659548953302\\work\\src\\learner.cc:1115: Starting in XGBoost 1.3.0, the default evaluation metric used with the objective 'multi:softprob' was changed from 'merror' to 'mlogloss'. Explicitly set eval_metric if you'd like to restore the old behavior.\n",
      "[CV 3/5] END eta=0.3, gamma=0, max_depth=20, subsample=1.0;, score=(train=1.000, test=0.968) total time= 3.8min\n"
     ]
    },
    {
     "name": "stderr",
     "output_type": "stream",
     "text": [
      "c:\\ProgramData\\Anaconda3\\envs\\Introduccion_al_ML_IB\\lib\\site-packages\\xgboost\\sklearn.py:1224: UserWarning: The use of label encoder in XGBClassifier is deprecated and will be removed in a future release. To remove this warning, do the following: 1) Pass option use_label_encoder=False when constructing XGBClassifier object; and 2) Encode your labels (y) as integers starting with 0, i.e. 0, 1, 2, ..., [num_class - 1].\n",
      "  warnings.warn(label_encoder_deprecation_msg, UserWarning)\n",
      "c:\\ProgramData\\Anaconda3\\envs\\Introduccion_al_ML_IB\\lib\\site-packages\\xgboost\\data.py:250: FutureWarning: pandas.Int64Index is deprecated and will be removed from pandas in a future version. Use pandas.Index with the appropriate dtype instead.\n",
      "  elif isinstance(data.columns, (pd.Int64Index, pd.RangeIndex)):\n"
     ]
    },
    {
     "name": "stdout",
     "output_type": "stream",
     "text": [
      "[13:56:53] WARNING: C:\\Windows\\Temp\\abs_557yfx631l\\croots\\recipe\\xgboost-split_1659548953302\\work\\src\\learner.cc:1115: Starting in XGBoost 1.3.0, the default evaluation metric used with the objective 'multi:softprob' was changed from 'merror' to 'mlogloss'. Explicitly set eval_metric if you'd like to restore the old behavior.\n",
      "[CV 4/5] END eta=0.3, gamma=0, max_depth=20, subsample=1.0;, score=(train=1.000, test=0.967) total time= 3.8min\n"
     ]
    },
    {
     "name": "stderr",
     "output_type": "stream",
     "text": [
      "c:\\ProgramData\\Anaconda3\\envs\\Introduccion_al_ML_IB\\lib\\site-packages\\xgboost\\sklearn.py:1224: UserWarning: The use of label encoder in XGBClassifier is deprecated and will be removed in a future release. To remove this warning, do the following: 1) Pass option use_label_encoder=False when constructing XGBClassifier object; and 2) Encode your labels (y) as integers starting with 0, i.e. 0, 1, 2, ..., [num_class - 1].\n",
      "  warnings.warn(label_encoder_deprecation_msg, UserWarning)\n",
      "c:\\ProgramData\\Anaconda3\\envs\\Introduccion_al_ML_IB\\lib\\site-packages\\xgboost\\data.py:250: FutureWarning: pandas.Int64Index is deprecated and will be removed from pandas in a future version. Use pandas.Index with the appropriate dtype instead.\n",
      "  elif isinstance(data.columns, (pd.Int64Index, pd.RangeIndex)):\n"
     ]
    },
    {
     "name": "stdout",
     "output_type": "stream",
     "text": [
      "[14:00:46] WARNING: C:\\Windows\\Temp\\abs_557yfx631l\\croots\\recipe\\xgboost-split_1659548953302\\work\\src\\learner.cc:1115: Starting in XGBoost 1.3.0, the default evaluation metric used with the objective 'multi:softprob' was changed from 'merror' to 'mlogloss'. Explicitly set eval_metric if you'd like to restore the old behavior.\n",
      "[CV 5/5] END eta=0.3, gamma=0, max_depth=20, subsample=1.0;, score=(train=1.000, test=0.966) total time= 3.8min\n"
     ]
    },
    {
     "name": "stderr",
     "output_type": "stream",
     "text": [
      "c:\\ProgramData\\Anaconda3\\envs\\Introduccion_al_ML_IB\\lib\\site-packages\\xgboost\\sklearn.py:1224: UserWarning: The use of label encoder in XGBClassifier is deprecated and will be removed in a future release. To remove this warning, do the following: 1) Pass option use_label_encoder=False when constructing XGBClassifier object; and 2) Encode your labels (y) as integers starting with 0, i.e. 0, 1, 2, ..., [num_class - 1].\n",
      "  warnings.warn(label_encoder_deprecation_msg, UserWarning)\n",
      "c:\\ProgramData\\Anaconda3\\envs\\Introduccion_al_ML_IB\\lib\\site-packages\\xgboost\\data.py:250: FutureWarning: pandas.Int64Index is deprecated and will be removed from pandas in a future version. Use pandas.Index with the appropriate dtype instead.\n",
      "  elif isinstance(data.columns, (pd.Int64Index, pd.RangeIndex)):\n"
     ]
    },
    {
     "name": "stdout",
     "output_type": "stream",
     "text": [
      "[14:04:39] WARNING: C:\\Windows\\Temp\\abs_557yfx631l\\croots\\recipe\\xgboost-split_1659548953302\\work\\src\\learner.cc:1115: Starting in XGBoost 1.3.0, the default evaluation metric used with the objective 'multi:softprob' was changed from 'merror' to 'mlogloss'. Explicitly set eval_metric if you'd like to restore the old behavior.\n",
      "[CV 1/5] END eta=0.3, gamma=0, max_depth=40, subsample=0.75;, score=(train=1.000, test=0.968) total time= 4.7min\n"
     ]
    },
    {
     "name": "stderr",
     "output_type": "stream",
     "text": [
      "c:\\ProgramData\\Anaconda3\\envs\\Introduccion_al_ML_IB\\lib\\site-packages\\xgboost\\sklearn.py:1224: UserWarning: The use of label encoder in XGBClassifier is deprecated and will be removed in a future release. To remove this warning, do the following: 1) Pass option use_label_encoder=False when constructing XGBClassifier object; and 2) Encode your labels (y) as integers starting with 0, i.e. 0, 1, 2, ..., [num_class - 1].\n",
      "  warnings.warn(label_encoder_deprecation_msg, UserWarning)\n",
      "c:\\ProgramData\\Anaconda3\\envs\\Introduccion_al_ML_IB\\lib\\site-packages\\xgboost\\data.py:250: FutureWarning: pandas.Int64Index is deprecated and will be removed from pandas in a future version. Use pandas.Index with the appropriate dtype instead.\n",
      "  elif isinstance(data.columns, (pd.Int64Index, pd.RangeIndex)):\n"
     ]
    },
    {
     "name": "stdout",
     "output_type": "stream",
     "text": [
      "[14:09:25] WARNING: C:\\Windows\\Temp\\abs_557yfx631l\\croots\\recipe\\xgboost-split_1659548953302\\work\\src\\learner.cc:1115: Starting in XGBoost 1.3.0, the default evaluation metric used with the objective 'multi:softprob' was changed from 'merror' to 'mlogloss'. Explicitly set eval_metric if you'd like to restore the old behavior.\n",
      "[CV 2/5] END eta=0.3, gamma=0, max_depth=40, subsample=0.75;, score=(train=1.000, test=0.967) total time= 4.8min\n"
     ]
    },
    {
     "name": "stderr",
     "output_type": "stream",
     "text": [
      "c:\\ProgramData\\Anaconda3\\envs\\Introduccion_al_ML_IB\\lib\\site-packages\\xgboost\\sklearn.py:1224: UserWarning: The use of label encoder in XGBClassifier is deprecated and will be removed in a future release. To remove this warning, do the following: 1) Pass option use_label_encoder=False when constructing XGBClassifier object; and 2) Encode your labels (y) as integers starting with 0, i.e. 0, 1, 2, ..., [num_class - 1].\n",
      "  warnings.warn(label_encoder_deprecation_msg, UserWarning)\n",
      "c:\\ProgramData\\Anaconda3\\envs\\Introduccion_al_ML_IB\\lib\\site-packages\\xgboost\\data.py:250: FutureWarning: pandas.Int64Index is deprecated and will be removed from pandas in a future version. Use pandas.Index with the appropriate dtype instead.\n",
      "  elif isinstance(data.columns, (pd.Int64Index, pd.RangeIndex)):\n"
     ]
    },
    {
     "name": "stdout",
     "output_type": "stream",
     "text": [
      "[14:14:19] WARNING: C:\\Windows\\Temp\\abs_557yfx631l\\croots\\recipe\\xgboost-split_1659548953302\\work\\src\\learner.cc:1115: Starting in XGBoost 1.3.0, the default evaluation metric used with the objective 'multi:softprob' was changed from 'merror' to 'mlogloss'. Explicitly set eval_metric if you'd like to restore the old behavior.\n",
      "[CV 3/5] END eta=0.3, gamma=0, max_depth=40, subsample=0.75;, score=(train=1.000, test=0.967) total time= 4.7min\n"
     ]
    },
    {
     "name": "stderr",
     "output_type": "stream",
     "text": [
      "c:\\ProgramData\\Anaconda3\\envs\\Introduccion_al_ML_IB\\lib\\site-packages\\xgboost\\sklearn.py:1224: UserWarning: The use of label encoder in XGBClassifier is deprecated and will be removed in a future release. To remove this warning, do the following: 1) Pass option use_label_encoder=False when constructing XGBClassifier object; and 2) Encode your labels (y) as integers starting with 0, i.e. 0, 1, 2, ..., [num_class - 1].\n",
      "  warnings.warn(label_encoder_deprecation_msg, UserWarning)\n",
      "c:\\ProgramData\\Anaconda3\\envs\\Introduccion_al_ML_IB\\lib\\site-packages\\xgboost\\data.py:250: FutureWarning: pandas.Int64Index is deprecated and will be removed from pandas in a future version. Use pandas.Index with the appropriate dtype instead.\n",
      "  elif isinstance(data.columns, (pd.Int64Index, pd.RangeIndex)):\n"
     ]
    },
    {
     "name": "stdout",
     "output_type": "stream",
     "text": [
      "[14:19:06] WARNING: C:\\Windows\\Temp\\abs_557yfx631l\\croots\\recipe\\xgboost-split_1659548953302\\work\\src\\learner.cc:1115: Starting in XGBoost 1.3.0, the default evaluation metric used with the objective 'multi:softprob' was changed from 'merror' to 'mlogloss'. Explicitly set eval_metric if you'd like to restore the old behavior.\n",
      "[CV 4/5] END eta=0.3, gamma=0, max_depth=40, subsample=0.75;, score=(train=1.000, test=0.968) total time= 4.7min\n"
     ]
    },
    {
     "name": "stderr",
     "output_type": "stream",
     "text": [
      "c:\\ProgramData\\Anaconda3\\envs\\Introduccion_al_ML_IB\\lib\\site-packages\\xgboost\\sklearn.py:1224: UserWarning: The use of label encoder in XGBClassifier is deprecated and will be removed in a future release. To remove this warning, do the following: 1) Pass option use_label_encoder=False when constructing XGBClassifier object; and 2) Encode your labels (y) as integers starting with 0, i.e. 0, 1, 2, ..., [num_class - 1].\n",
      "  warnings.warn(label_encoder_deprecation_msg, UserWarning)\n",
      "c:\\ProgramData\\Anaconda3\\envs\\Introduccion_al_ML_IB\\lib\\site-packages\\xgboost\\data.py:250: FutureWarning: pandas.Int64Index is deprecated and will be removed from pandas in a future version. Use pandas.Index with the appropriate dtype instead.\n",
      "  elif isinstance(data.columns, (pd.Int64Index, pd.RangeIndex)):\n"
     ]
    },
    {
     "name": "stdout",
     "output_type": "stream",
     "text": [
      "[14:23:53] WARNING: C:\\Windows\\Temp\\abs_557yfx631l\\croots\\recipe\\xgboost-split_1659548953302\\work\\src\\learner.cc:1115: Starting in XGBoost 1.3.0, the default evaluation metric used with the objective 'multi:softprob' was changed from 'merror' to 'mlogloss'. Explicitly set eval_metric if you'd like to restore the old behavior.\n",
      "[CV 5/5] END eta=0.3, gamma=0, max_depth=40, subsample=0.75;, score=(train=1.000, test=0.966) total time= 4.7min\n"
     ]
    },
    {
     "name": "stderr",
     "output_type": "stream",
     "text": [
      "c:\\ProgramData\\Anaconda3\\envs\\Introduccion_al_ML_IB\\lib\\site-packages\\xgboost\\sklearn.py:1224: UserWarning: The use of label encoder in XGBClassifier is deprecated and will be removed in a future release. To remove this warning, do the following: 1) Pass option use_label_encoder=False when constructing XGBClassifier object; and 2) Encode your labels (y) as integers starting with 0, i.e. 0, 1, 2, ..., [num_class - 1].\n",
      "  warnings.warn(label_encoder_deprecation_msg, UserWarning)\n",
      "c:\\ProgramData\\Anaconda3\\envs\\Introduccion_al_ML_IB\\lib\\site-packages\\xgboost\\data.py:250: FutureWarning: pandas.Int64Index is deprecated and will be removed from pandas in a future version. Use pandas.Index with the appropriate dtype instead.\n",
      "  elif isinstance(data.columns, (pd.Int64Index, pd.RangeIndex)):\n"
     ]
    },
    {
     "name": "stdout",
     "output_type": "stream",
     "text": [
      "[14:28:38] WARNING: C:\\Windows\\Temp\\abs_557yfx631l\\croots\\recipe\\xgboost-split_1659548953302\\work\\src\\learner.cc:1115: Starting in XGBoost 1.3.0, the default evaluation metric used with the objective 'multi:softprob' was changed from 'merror' to 'mlogloss'. Explicitly set eval_metric if you'd like to restore the old behavior.\n",
      "[CV 1/5] END eta=0.3, gamma=0, max_depth=40, subsample=1.0;, score=(train=1.000, test=0.968) total time= 4.9min\n"
     ]
    },
    {
     "name": "stderr",
     "output_type": "stream",
     "text": [
      "c:\\ProgramData\\Anaconda3\\envs\\Introduccion_al_ML_IB\\lib\\site-packages\\xgboost\\sklearn.py:1224: UserWarning: The use of label encoder in XGBClassifier is deprecated and will be removed in a future release. To remove this warning, do the following: 1) Pass option use_label_encoder=False when constructing XGBClassifier object; and 2) Encode your labels (y) as integers starting with 0, i.e. 0, 1, 2, ..., [num_class - 1].\n",
      "  warnings.warn(label_encoder_deprecation_msg, UserWarning)\n",
      "c:\\ProgramData\\Anaconda3\\envs\\Introduccion_al_ML_IB\\lib\\site-packages\\xgboost\\data.py:250: FutureWarning: pandas.Int64Index is deprecated and will be removed from pandas in a future version. Use pandas.Index with the appropriate dtype instead.\n",
      "  elif isinstance(data.columns, (pd.Int64Index, pd.RangeIndex)):\n"
     ]
    },
    {
     "name": "stdout",
     "output_type": "stream",
     "text": [
      "[14:33:38] WARNING: C:\\Windows\\Temp\\abs_557yfx631l\\croots\\recipe\\xgboost-split_1659548953302\\work\\src\\learner.cc:1115: Starting in XGBoost 1.3.0, the default evaluation metric used with the objective 'multi:softprob' was changed from 'merror' to 'mlogloss'. Explicitly set eval_metric if you'd like to restore the old behavior.\n",
      "[CV 2/5] END eta=0.3, gamma=0, max_depth=40, subsample=1.0;, score=(train=1.000, test=0.967) total time= 5.2min\n"
     ]
    },
    {
     "name": "stderr",
     "output_type": "stream",
     "text": [
      "c:\\ProgramData\\Anaconda3\\envs\\Introduccion_al_ML_IB\\lib\\site-packages\\xgboost\\sklearn.py:1224: UserWarning: The use of label encoder in XGBClassifier is deprecated and will be removed in a future release. To remove this warning, do the following: 1) Pass option use_label_encoder=False when constructing XGBClassifier object; and 2) Encode your labels (y) as integers starting with 0, i.e. 0, 1, 2, ..., [num_class - 1].\n",
      "  warnings.warn(label_encoder_deprecation_msg, UserWarning)\n",
      "c:\\ProgramData\\Anaconda3\\envs\\Introduccion_al_ML_IB\\lib\\site-packages\\xgboost\\data.py:250: FutureWarning: pandas.Int64Index is deprecated and will be removed from pandas in a future version. Use pandas.Index with the appropriate dtype instead.\n",
      "  elif isinstance(data.columns, (pd.Int64Index, pd.RangeIndex)):\n"
     ]
    },
    {
     "name": "stdout",
     "output_type": "stream",
     "text": [
      "[14:38:53] WARNING: C:\\Windows\\Temp\\abs_557yfx631l\\croots\\recipe\\xgboost-split_1659548953302\\work\\src\\learner.cc:1115: Starting in XGBoost 1.3.0, the default evaluation metric used with the objective 'multi:softprob' was changed from 'merror' to 'mlogloss'. Explicitly set eval_metric if you'd like to restore the old behavior.\n",
      "[CV 3/5] END eta=0.3, gamma=0, max_depth=40, subsample=1.0;, score=(train=1.000, test=0.968) total time= 4.9min\n"
     ]
    },
    {
     "name": "stderr",
     "output_type": "stream",
     "text": [
      "c:\\ProgramData\\Anaconda3\\envs\\Introduccion_al_ML_IB\\lib\\site-packages\\xgboost\\sklearn.py:1224: UserWarning: The use of label encoder in XGBClassifier is deprecated and will be removed in a future release. To remove this warning, do the following: 1) Pass option use_label_encoder=False when constructing XGBClassifier object; and 2) Encode your labels (y) as integers starting with 0, i.e. 0, 1, 2, ..., [num_class - 1].\n",
      "  warnings.warn(label_encoder_deprecation_msg, UserWarning)\n",
      "c:\\ProgramData\\Anaconda3\\envs\\Introduccion_al_ML_IB\\lib\\site-packages\\xgboost\\data.py:250: FutureWarning: pandas.Int64Index is deprecated and will be removed from pandas in a future version. Use pandas.Index with the appropriate dtype instead.\n",
      "  elif isinstance(data.columns, (pd.Int64Index, pd.RangeIndex)):\n"
     ]
    },
    {
     "name": "stdout",
     "output_type": "stream",
     "text": [
      "[14:43:53] WARNING: C:\\Windows\\Temp\\abs_557yfx631l\\croots\\recipe\\xgboost-split_1659548953302\\work\\src\\learner.cc:1115: Starting in XGBoost 1.3.0, the default evaluation metric used with the objective 'multi:softprob' was changed from 'merror' to 'mlogloss'. Explicitly set eval_metric if you'd like to restore the old behavior.\n",
      "[CV 4/5] END eta=0.3, gamma=0, max_depth=40, subsample=1.0;, score=(train=1.000, test=0.968) total time= 4.9min\n"
     ]
    },
    {
     "name": "stderr",
     "output_type": "stream",
     "text": [
      "c:\\ProgramData\\Anaconda3\\envs\\Introduccion_al_ML_IB\\lib\\site-packages\\xgboost\\sklearn.py:1224: UserWarning: The use of label encoder in XGBClassifier is deprecated and will be removed in a future release. To remove this warning, do the following: 1) Pass option use_label_encoder=False when constructing XGBClassifier object; and 2) Encode your labels (y) as integers starting with 0, i.e. 0, 1, 2, ..., [num_class - 1].\n",
      "  warnings.warn(label_encoder_deprecation_msg, UserWarning)\n",
      "c:\\ProgramData\\Anaconda3\\envs\\Introduccion_al_ML_IB\\lib\\site-packages\\xgboost\\data.py:250: FutureWarning: pandas.Int64Index is deprecated and will be removed from pandas in a future version. Use pandas.Index with the appropriate dtype instead.\n",
      "  elif isinstance(data.columns, (pd.Int64Index, pd.RangeIndex)):\n"
     ]
    },
    {
     "name": "stdout",
     "output_type": "stream",
     "text": [
      "[14:48:54] WARNING: C:\\Windows\\Temp\\abs_557yfx631l\\croots\\recipe\\xgboost-split_1659548953302\\work\\src\\learner.cc:1115: Starting in XGBoost 1.3.0, the default evaluation metric used with the objective 'multi:softprob' was changed from 'merror' to 'mlogloss'. Explicitly set eval_metric if you'd like to restore the old behavior.\n",
      "[CV 5/5] END eta=0.3, gamma=0, max_depth=40, subsample=1.0;, score=(train=1.000, test=0.967) total time= 4.9min\n"
     ]
    },
    {
     "name": "stderr",
     "output_type": "stream",
     "text": [
      "c:\\ProgramData\\Anaconda3\\envs\\Introduccion_al_ML_IB\\lib\\site-packages\\xgboost\\sklearn.py:1224: UserWarning: The use of label encoder in XGBClassifier is deprecated and will be removed in a future release. To remove this warning, do the following: 1) Pass option use_label_encoder=False when constructing XGBClassifier object; and 2) Encode your labels (y) as integers starting with 0, i.e. 0, 1, 2, ..., [num_class - 1].\n",
      "  warnings.warn(label_encoder_deprecation_msg, UserWarning)\n",
      "c:\\ProgramData\\Anaconda3\\envs\\Introduccion_al_ML_IB\\lib\\site-packages\\xgboost\\data.py:250: FutureWarning: pandas.Int64Index is deprecated and will be removed from pandas in a future version. Use pandas.Index with the appropriate dtype instead.\n",
      "  elif isinstance(data.columns, (pd.Int64Index, pd.RangeIndex)):\n"
     ]
    },
    {
     "name": "stdout",
     "output_type": "stream",
     "text": [
      "[14:53:54] WARNING: C:\\Windows\\Temp\\abs_557yfx631l\\croots\\recipe\\xgboost-split_1659548953302\\work\\src\\learner.cc:1115: Starting in XGBoost 1.3.0, the default evaluation metric used with the objective 'multi:softprob' was changed from 'merror' to 'mlogloss'. Explicitly set eval_metric if you'd like to restore the old behavior.\n",
      "[CV 1/5] END eta=0.3, gamma=0, max_depth=60, subsample=0.75;, score=(train=1.000, test=0.967) total time= 4.9min\n"
     ]
    },
    {
     "name": "stderr",
     "output_type": "stream",
     "text": [
      "c:\\ProgramData\\Anaconda3\\envs\\Introduccion_al_ML_IB\\lib\\site-packages\\xgboost\\sklearn.py:1224: UserWarning: The use of label encoder in XGBClassifier is deprecated and will be removed in a future release. To remove this warning, do the following: 1) Pass option use_label_encoder=False when constructing XGBClassifier object; and 2) Encode your labels (y) as integers starting with 0, i.e. 0, 1, 2, ..., [num_class - 1].\n",
      "  warnings.warn(label_encoder_deprecation_msg, UserWarning)\n",
      "c:\\ProgramData\\Anaconda3\\envs\\Introduccion_al_ML_IB\\lib\\site-packages\\xgboost\\data.py:250: FutureWarning: pandas.Int64Index is deprecated and will be removed from pandas in a future version. Use pandas.Index with the appropriate dtype instead.\n",
      "  elif isinstance(data.columns, (pd.Int64Index, pd.RangeIndex)):\n"
     ]
    },
    {
     "name": "stdout",
     "output_type": "stream",
     "text": [
      "[14:58:51] WARNING: C:\\Windows\\Temp\\abs_557yfx631l\\croots\\recipe\\xgboost-split_1659548953302\\work\\src\\learner.cc:1115: Starting in XGBoost 1.3.0, the default evaluation metric used with the objective 'multi:softprob' was changed from 'merror' to 'mlogloss'. Explicitly set eval_metric if you'd like to restore the old behavior.\n",
      "[CV 2/5] END eta=0.3, gamma=0, max_depth=60, subsample=0.75;, score=(train=1.000, test=0.967) total time= 5.0min\n"
     ]
    },
    {
     "name": "stderr",
     "output_type": "stream",
     "text": [
      "c:\\ProgramData\\Anaconda3\\envs\\Introduccion_al_ML_IB\\lib\\site-packages\\xgboost\\sklearn.py:1224: UserWarning: The use of label encoder in XGBClassifier is deprecated and will be removed in a future release. To remove this warning, do the following: 1) Pass option use_label_encoder=False when constructing XGBClassifier object; and 2) Encode your labels (y) as integers starting with 0, i.e. 0, 1, 2, ..., [num_class - 1].\n",
      "  warnings.warn(label_encoder_deprecation_msg, UserWarning)\n",
      "c:\\ProgramData\\Anaconda3\\envs\\Introduccion_al_ML_IB\\lib\\site-packages\\xgboost\\data.py:250: FutureWarning: pandas.Int64Index is deprecated and will be removed from pandas in a future version. Use pandas.Index with the appropriate dtype instead.\n",
      "  elif isinstance(data.columns, (pd.Int64Index, pd.RangeIndex)):\n"
     ]
    },
    {
     "name": "stdout",
     "output_type": "stream",
     "text": [
      "[15:03:55] WARNING: C:\\Windows\\Temp\\abs_557yfx631l\\croots\\recipe\\xgboost-split_1659548953302\\work\\src\\learner.cc:1115: Starting in XGBoost 1.3.0, the default evaluation metric used with the objective 'multi:softprob' was changed from 'merror' to 'mlogloss'. Explicitly set eval_metric if you'd like to restore the old behavior.\n",
      "[CV 3/5] END eta=0.3, gamma=0, max_depth=60, subsample=0.75;, score=(train=1.000, test=0.967) total time= 5.0min\n"
     ]
    },
    {
     "name": "stderr",
     "output_type": "stream",
     "text": [
      "c:\\ProgramData\\Anaconda3\\envs\\Introduccion_al_ML_IB\\lib\\site-packages\\xgboost\\sklearn.py:1224: UserWarning: The use of label encoder in XGBClassifier is deprecated and will be removed in a future release. To remove this warning, do the following: 1) Pass option use_label_encoder=False when constructing XGBClassifier object; and 2) Encode your labels (y) as integers starting with 0, i.e. 0, 1, 2, ..., [num_class - 1].\n",
      "  warnings.warn(label_encoder_deprecation_msg, UserWarning)\n",
      "c:\\ProgramData\\Anaconda3\\envs\\Introduccion_al_ML_IB\\lib\\site-packages\\xgboost\\data.py:250: FutureWarning: pandas.Int64Index is deprecated and will be removed from pandas in a future version. Use pandas.Index with the appropriate dtype instead.\n",
      "  elif isinstance(data.columns, (pd.Int64Index, pd.RangeIndex)):\n"
     ]
    },
    {
     "name": "stdout",
     "output_type": "stream",
     "text": [
      "[15:08:56] WARNING: C:\\Windows\\Temp\\abs_557yfx631l\\croots\\recipe\\xgboost-split_1659548953302\\work\\src\\learner.cc:1115: Starting in XGBoost 1.3.0, the default evaluation metric used with the objective 'multi:softprob' was changed from 'merror' to 'mlogloss'. Explicitly set eval_metric if you'd like to restore the old behavior.\n",
      "[CV 4/5] END eta=0.3, gamma=0, max_depth=60, subsample=0.75;, score=(train=1.000, test=0.968) total time= 5.2min\n"
     ]
    },
    {
     "name": "stderr",
     "output_type": "stream",
     "text": [
      "c:\\ProgramData\\Anaconda3\\envs\\Introduccion_al_ML_IB\\lib\\site-packages\\xgboost\\sklearn.py:1224: UserWarning: The use of label encoder in XGBClassifier is deprecated and will be removed in a future release. To remove this warning, do the following: 1) Pass option use_label_encoder=False when constructing XGBClassifier object; and 2) Encode your labels (y) as integers starting with 0, i.e. 0, 1, 2, ..., [num_class - 1].\n",
      "  warnings.warn(label_encoder_deprecation_msg, UserWarning)\n",
      "c:\\ProgramData\\Anaconda3\\envs\\Introduccion_al_ML_IB\\lib\\site-packages\\xgboost\\data.py:250: FutureWarning: pandas.Int64Index is deprecated and will be removed from pandas in a future version. Use pandas.Index with the appropriate dtype instead.\n",
      "  elif isinstance(data.columns, (pd.Int64Index, pd.RangeIndex)):\n"
     ]
    },
    {
     "name": "stdout",
     "output_type": "stream",
     "text": [
      "[15:14:12] WARNING: C:\\Windows\\Temp\\abs_557yfx631l\\croots\\recipe\\xgboost-split_1659548953302\\work\\src\\learner.cc:1115: Starting in XGBoost 1.3.0, the default evaluation metric used with the objective 'multi:softprob' was changed from 'merror' to 'mlogloss'. Explicitly set eval_metric if you'd like to restore the old behavior.\n",
      "[CV 5/5] END eta=0.3, gamma=0, max_depth=60, subsample=0.75;, score=(train=1.000, test=0.966) total time= 4.9min\n"
     ]
    },
    {
     "name": "stderr",
     "output_type": "stream",
     "text": [
      "c:\\ProgramData\\Anaconda3\\envs\\Introduccion_al_ML_IB\\lib\\site-packages\\xgboost\\sklearn.py:1224: UserWarning: The use of label encoder in XGBClassifier is deprecated and will be removed in a future release. To remove this warning, do the following: 1) Pass option use_label_encoder=False when constructing XGBClassifier object; and 2) Encode your labels (y) as integers starting with 0, i.e. 0, 1, 2, ..., [num_class - 1].\n",
      "  warnings.warn(label_encoder_deprecation_msg, UserWarning)\n",
      "c:\\ProgramData\\Anaconda3\\envs\\Introduccion_al_ML_IB\\lib\\site-packages\\xgboost\\data.py:250: FutureWarning: pandas.Int64Index is deprecated and will be removed from pandas in a future version. Use pandas.Index with the appropriate dtype instead.\n",
      "  elif isinstance(data.columns, (pd.Int64Index, pd.RangeIndex)):\n"
     ]
    },
    {
     "name": "stdout",
     "output_type": "stream",
     "text": [
      "[15:19:08] WARNING: C:\\Windows\\Temp\\abs_557yfx631l\\croots\\recipe\\xgboost-split_1659548953302\\work\\src\\learner.cc:1115: Starting in XGBoost 1.3.0, the default evaluation metric used with the objective 'multi:softprob' was changed from 'merror' to 'mlogloss'. Explicitly set eval_metric if you'd like to restore the old behavior.\n",
      "[CV 1/5] END eta=0.3, gamma=0, max_depth=60, subsample=1.0;, score=(train=1.000, test=0.968) total time= 5.2min\n"
     ]
    },
    {
     "name": "stderr",
     "output_type": "stream",
     "text": [
      "c:\\ProgramData\\Anaconda3\\envs\\Introduccion_al_ML_IB\\lib\\site-packages\\xgboost\\sklearn.py:1224: UserWarning: The use of label encoder in XGBClassifier is deprecated and will be removed in a future release. To remove this warning, do the following: 1) Pass option use_label_encoder=False when constructing XGBClassifier object; and 2) Encode your labels (y) as integers starting with 0, i.e. 0, 1, 2, ..., [num_class - 1].\n",
      "  warnings.warn(label_encoder_deprecation_msg, UserWarning)\n",
      "c:\\ProgramData\\Anaconda3\\envs\\Introduccion_al_ML_IB\\lib\\site-packages\\xgboost\\data.py:250: FutureWarning: pandas.Int64Index is deprecated and will be removed from pandas in a future version. Use pandas.Index with the appropriate dtype instead.\n",
      "  elif isinstance(data.columns, (pd.Int64Index, pd.RangeIndex)):\n"
     ]
    },
    {
     "name": "stdout",
     "output_type": "stream",
     "text": [
      "[15:24:24] WARNING: C:\\Windows\\Temp\\abs_557yfx631l\\croots\\recipe\\xgboost-split_1659548953302\\work\\src\\learner.cc:1115: Starting in XGBoost 1.3.0, the default evaluation metric used with the objective 'multi:softprob' was changed from 'merror' to 'mlogloss'. Explicitly set eval_metric if you'd like to restore the old behavior.\n",
      "[CV 2/5] END eta=0.3, gamma=0, max_depth=60, subsample=1.0;, score=(train=1.000, test=0.968) total time= 5.2min\n"
     ]
    },
    {
     "name": "stderr",
     "output_type": "stream",
     "text": [
      "c:\\ProgramData\\Anaconda3\\envs\\Introduccion_al_ML_IB\\lib\\site-packages\\xgboost\\sklearn.py:1224: UserWarning: The use of label encoder in XGBClassifier is deprecated and will be removed in a future release. To remove this warning, do the following: 1) Pass option use_label_encoder=False when constructing XGBClassifier object; and 2) Encode your labels (y) as integers starting with 0, i.e. 0, 1, 2, ..., [num_class - 1].\n",
      "  warnings.warn(label_encoder_deprecation_msg, UserWarning)\n",
      "c:\\ProgramData\\Anaconda3\\envs\\Introduccion_al_ML_IB\\lib\\site-packages\\xgboost\\data.py:250: FutureWarning: pandas.Int64Index is deprecated and will be removed from pandas in a future version. Use pandas.Index with the appropriate dtype instead.\n",
      "  elif isinstance(data.columns, (pd.Int64Index, pd.RangeIndex)):\n"
     ]
    },
    {
     "name": "stdout",
     "output_type": "stream",
     "text": [
      "[15:29:37] WARNING: C:\\Windows\\Temp\\abs_557yfx631l\\croots\\recipe\\xgboost-split_1659548953302\\work\\src\\learner.cc:1115: Starting in XGBoost 1.3.0, the default evaluation metric used with the objective 'multi:softprob' was changed from 'merror' to 'mlogloss'. Explicitly set eval_metric if you'd like to restore the old behavior.\n",
      "[CV 3/5] END eta=0.3, gamma=0, max_depth=60, subsample=1.0;, score=(train=1.000, test=0.968) total time= 5.2min\n"
     ]
    },
    {
     "name": "stderr",
     "output_type": "stream",
     "text": [
      "c:\\ProgramData\\Anaconda3\\envs\\Introduccion_al_ML_IB\\lib\\site-packages\\xgboost\\sklearn.py:1224: UserWarning: The use of label encoder in XGBClassifier is deprecated and will be removed in a future release. To remove this warning, do the following: 1) Pass option use_label_encoder=False when constructing XGBClassifier object; and 2) Encode your labels (y) as integers starting with 0, i.e. 0, 1, 2, ..., [num_class - 1].\n",
      "  warnings.warn(label_encoder_deprecation_msg, UserWarning)\n",
      "c:\\ProgramData\\Anaconda3\\envs\\Introduccion_al_ML_IB\\lib\\site-packages\\xgboost\\data.py:250: FutureWarning: pandas.Int64Index is deprecated and will be removed from pandas in a future version. Use pandas.Index with the appropriate dtype instead.\n",
      "  elif isinstance(data.columns, (pd.Int64Index, pd.RangeIndex)):\n"
     ]
    },
    {
     "name": "stdout",
     "output_type": "stream",
     "text": [
      "[15:34:51] WARNING: C:\\Windows\\Temp\\abs_557yfx631l\\croots\\recipe\\xgboost-split_1659548953302\\work\\src\\learner.cc:1115: Starting in XGBoost 1.3.0, the default evaluation metric used with the objective 'multi:softprob' was changed from 'merror' to 'mlogloss'. Explicitly set eval_metric if you'd like to restore the old behavior.\n",
      "[CV 4/5] END eta=0.3, gamma=0, max_depth=60, subsample=1.0;, score=(train=1.000, test=0.968) total time= 5.1min\n"
     ]
    },
    {
     "name": "stderr",
     "output_type": "stream",
     "text": [
      "c:\\ProgramData\\Anaconda3\\envs\\Introduccion_al_ML_IB\\lib\\site-packages\\xgboost\\sklearn.py:1224: UserWarning: The use of label encoder in XGBClassifier is deprecated and will be removed in a future release. To remove this warning, do the following: 1) Pass option use_label_encoder=False when constructing XGBClassifier object; and 2) Encode your labels (y) as integers starting with 0, i.e. 0, 1, 2, ..., [num_class - 1].\n",
      "  warnings.warn(label_encoder_deprecation_msg, UserWarning)\n",
      "c:\\ProgramData\\Anaconda3\\envs\\Introduccion_al_ML_IB\\lib\\site-packages\\xgboost\\data.py:250: FutureWarning: pandas.Int64Index is deprecated and will be removed from pandas in a future version. Use pandas.Index with the appropriate dtype instead.\n",
      "  elif isinstance(data.columns, (pd.Int64Index, pd.RangeIndex)):\n"
     ]
    },
    {
     "name": "stdout",
     "output_type": "stream",
     "text": [
      "[15:40:04] WARNING: C:\\Windows\\Temp\\abs_557yfx631l\\croots\\recipe\\xgboost-split_1659548953302\\work\\src\\learner.cc:1115: Starting in XGBoost 1.3.0, the default evaluation metric used with the objective 'multi:softprob' was changed from 'merror' to 'mlogloss'. Explicitly set eval_metric if you'd like to restore the old behavior.\n",
      "[CV 5/5] END eta=0.3, gamma=0, max_depth=60, subsample=1.0;, score=(train=1.000, test=0.967) total time= 5.1min\n"
     ]
    },
    {
     "name": "stderr",
     "output_type": "stream",
     "text": [
      "c:\\ProgramData\\Anaconda3\\envs\\Introduccion_al_ML_IB\\lib\\site-packages\\xgboost\\sklearn.py:1224: UserWarning: The use of label encoder in XGBClassifier is deprecated and will be removed in a future release. To remove this warning, do the following: 1) Pass option use_label_encoder=False when constructing XGBClassifier object; and 2) Encode your labels (y) as integers starting with 0, i.e. 0, 1, 2, ..., [num_class - 1].\n",
      "  warnings.warn(label_encoder_deprecation_msg, UserWarning)\n",
      "c:\\ProgramData\\Anaconda3\\envs\\Introduccion_al_ML_IB\\lib\\site-packages\\xgboost\\data.py:250: FutureWarning: pandas.Int64Index is deprecated and will be removed from pandas in a future version. Use pandas.Index with the appropriate dtype instead.\n",
      "  elif isinstance(data.columns, (pd.Int64Index, pd.RangeIndex)):\n"
     ]
    },
    {
     "name": "stdout",
     "output_type": "stream",
     "text": [
      "[15:45:15] WARNING: C:\\Windows\\Temp\\abs_557yfx631l\\croots\\recipe\\xgboost-split_1659548953302\\work\\src\\learner.cc:1115: Starting in XGBoost 1.3.0, the default evaluation metric used with the objective 'multi:softprob' was changed from 'merror' to 'mlogloss'. Explicitly set eval_metric if you'd like to restore the old behavior.\n",
      "[CV 1/5] END eta=0.3, gamma=0.1, max_depth=20, subsample=0.75;, score=(train=1.000, test=0.967) total time= 4.0min\n"
     ]
    },
    {
     "name": "stderr",
     "output_type": "stream",
     "text": [
      "c:\\ProgramData\\Anaconda3\\envs\\Introduccion_al_ML_IB\\lib\\site-packages\\xgboost\\sklearn.py:1224: UserWarning: The use of label encoder in XGBClassifier is deprecated and will be removed in a future release. To remove this warning, do the following: 1) Pass option use_label_encoder=False when constructing XGBClassifier object; and 2) Encode your labels (y) as integers starting with 0, i.e. 0, 1, 2, ..., [num_class - 1].\n",
      "  warnings.warn(label_encoder_deprecation_msg, UserWarning)\n",
      "c:\\ProgramData\\Anaconda3\\envs\\Introduccion_al_ML_IB\\lib\\site-packages\\xgboost\\data.py:250: FutureWarning: pandas.Int64Index is deprecated and will be removed from pandas in a future version. Use pandas.Index with the appropriate dtype instead.\n",
      "  elif isinstance(data.columns, (pd.Int64Index, pd.RangeIndex)):\n"
     ]
    },
    {
     "name": "stdout",
     "output_type": "stream",
     "text": [
      "[15:49:21] WARNING: C:\\Windows\\Temp\\abs_557yfx631l\\croots\\recipe\\xgboost-split_1659548953302\\work\\src\\learner.cc:1115: Starting in XGBoost 1.3.0, the default evaluation metric used with the objective 'multi:softprob' was changed from 'merror' to 'mlogloss'. Explicitly set eval_metric if you'd like to restore the old behavior.\n",
      "[CV 2/5] END eta=0.3, gamma=0.1, max_depth=20, subsample=0.75;, score=(train=1.000, test=0.966) total time= 4.0min\n"
     ]
    },
    {
     "name": "stderr",
     "output_type": "stream",
     "text": [
      "c:\\ProgramData\\Anaconda3\\envs\\Introduccion_al_ML_IB\\lib\\site-packages\\xgboost\\sklearn.py:1224: UserWarning: The use of label encoder in XGBClassifier is deprecated and will be removed in a future release. To remove this warning, do the following: 1) Pass option use_label_encoder=False when constructing XGBClassifier object; and 2) Encode your labels (y) as integers starting with 0, i.e. 0, 1, 2, ..., [num_class - 1].\n",
      "  warnings.warn(label_encoder_deprecation_msg, UserWarning)\n",
      "c:\\ProgramData\\Anaconda3\\envs\\Introduccion_al_ML_IB\\lib\\site-packages\\xgboost\\data.py:250: FutureWarning: pandas.Int64Index is deprecated and will be removed from pandas in a future version. Use pandas.Index with the appropriate dtype instead.\n",
      "  elif isinstance(data.columns, (pd.Int64Index, pd.RangeIndex)):\n"
     ]
    },
    {
     "name": "stdout",
     "output_type": "stream",
     "text": [
      "[15:53:26] WARNING: C:\\Windows\\Temp\\abs_557yfx631l\\croots\\recipe\\xgboost-split_1659548953302\\work\\src\\learner.cc:1115: Starting in XGBoost 1.3.0, the default evaluation metric used with the objective 'multi:softprob' was changed from 'merror' to 'mlogloss'. Explicitly set eval_metric if you'd like to restore the old behavior.\n",
      "[CV 3/5] END eta=0.3, gamma=0.1, max_depth=20, subsample=0.75;, score=(train=1.000, test=0.966) total time= 4.0min\n"
     ]
    },
    {
     "name": "stderr",
     "output_type": "stream",
     "text": [
      "c:\\ProgramData\\Anaconda3\\envs\\Introduccion_al_ML_IB\\lib\\site-packages\\xgboost\\sklearn.py:1224: UserWarning: The use of label encoder in XGBClassifier is deprecated and will be removed in a future release. To remove this warning, do the following: 1) Pass option use_label_encoder=False when constructing XGBClassifier object; and 2) Encode your labels (y) as integers starting with 0, i.e. 0, 1, 2, ..., [num_class - 1].\n",
      "  warnings.warn(label_encoder_deprecation_msg, UserWarning)\n",
      "c:\\ProgramData\\Anaconda3\\envs\\Introduccion_al_ML_IB\\lib\\site-packages\\xgboost\\data.py:250: FutureWarning: pandas.Int64Index is deprecated and will be removed from pandas in a future version. Use pandas.Index with the appropriate dtype instead.\n",
      "  elif isinstance(data.columns, (pd.Int64Index, pd.RangeIndex)):\n"
     ]
    },
    {
     "name": "stdout",
     "output_type": "stream",
     "text": [
      "[15:57:30] WARNING: C:\\Windows\\Temp\\abs_557yfx631l\\croots\\recipe\\xgboost-split_1659548953302\\work\\src\\learner.cc:1115: Starting in XGBoost 1.3.0, the default evaluation metric used with the objective 'multi:softprob' was changed from 'merror' to 'mlogloss'. Explicitly set eval_metric if you'd like to restore the old behavior.\n",
      "[CV 4/5] END eta=0.3, gamma=0.1, max_depth=20, subsample=0.75;, score=(train=1.000, test=0.966) total time= 4.0min\n"
     ]
    },
    {
     "name": "stderr",
     "output_type": "stream",
     "text": [
      "c:\\ProgramData\\Anaconda3\\envs\\Introduccion_al_ML_IB\\lib\\site-packages\\xgboost\\sklearn.py:1224: UserWarning: The use of label encoder in XGBClassifier is deprecated and will be removed in a future release. To remove this warning, do the following: 1) Pass option use_label_encoder=False when constructing XGBClassifier object; and 2) Encode your labels (y) as integers starting with 0, i.e. 0, 1, 2, ..., [num_class - 1].\n",
      "  warnings.warn(label_encoder_deprecation_msg, UserWarning)\n",
      "c:\\ProgramData\\Anaconda3\\envs\\Introduccion_al_ML_IB\\lib\\site-packages\\xgboost\\data.py:250: FutureWarning: pandas.Int64Index is deprecated and will be removed from pandas in a future version. Use pandas.Index with the appropriate dtype instead.\n",
      "  elif isinstance(data.columns, (pd.Int64Index, pd.RangeIndex)):\n"
     ]
    },
    {
     "name": "stdout",
     "output_type": "stream",
     "text": [
      "[16:01:36] WARNING: C:\\Windows\\Temp\\abs_557yfx631l\\croots\\recipe\\xgboost-split_1659548953302\\work\\src\\learner.cc:1115: Starting in XGBoost 1.3.0, the default evaluation metric used with the objective 'multi:softprob' was changed from 'merror' to 'mlogloss'. Explicitly set eval_metric if you'd like to restore the old behavior.\n",
      "[CV 5/5] END eta=0.3, gamma=0.1, max_depth=20, subsample=0.75;, score=(train=1.000, test=0.965) total time= 4.0min\n"
     ]
    },
    {
     "name": "stderr",
     "output_type": "stream",
     "text": [
      "c:\\ProgramData\\Anaconda3\\envs\\Introduccion_al_ML_IB\\lib\\site-packages\\xgboost\\sklearn.py:1224: UserWarning: The use of label encoder in XGBClassifier is deprecated and will be removed in a future release. To remove this warning, do the following: 1) Pass option use_label_encoder=False when constructing XGBClassifier object; and 2) Encode your labels (y) as integers starting with 0, i.e. 0, 1, 2, ..., [num_class - 1].\n",
      "  warnings.warn(label_encoder_deprecation_msg, UserWarning)\n",
      "c:\\ProgramData\\Anaconda3\\envs\\Introduccion_al_ML_IB\\lib\\site-packages\\xgboost\\data.py:250: FutureWarning: pandas.Int64Index is deprecated and will be removed from pandas in a future version. Use pandas.Index with the appropriate dtype instead.\n",
      "  elif isinstance(data.columns, (pd.Int64Index, pd.RangeIndex)):\n"
     ]
    },
    {
     "name": "stdout",
     "output_type": "stream",
     "text": [
      "[16:05:40] WARNING: C:\\Windows\\Temp\\abs_557yfx631l\\croots\\recipe\\xgboost-split_1659548953302\\work\\src\\learner.cc:1115: Starting in XGBoost 1.3.0, the default evaluation metric used with the objective 'multi:softprob' was changed from 'merror' to 'mlogloss'. Explicitly set eval_metric if you'd like to restore the old behavior.\n",
      "[CV 1/5] END eta=0.3, gamma=0.1, max_depth=20, subsample=1.0;, score=(train=1.000, test=0.967) total time= 4.0min\n"
     ]
    },
    {
     "name": "stderr",
     "output_type": "stream",
     "text": [
      "c:\\ProgramData\\Anaconda3\\envs\\Introduccion_al_ML_IB\\lib\\site-packages\\xgboost\\sklearn.py:1224: UserWarning: The use of label encoder in XGBClassifier is deprecated and will be removed in a future release. To remove this warning, do the following: 1) Pass option use_label_encoder=False when constructing XGBClassifier object; and 2) Encode your labels (y) as integers starting with 0, i.e. 0, 1, 2, ..., [num_class - 1].\n",
      "  warnings.warn(label_encoder_deprecation_msg, UserWarning)\n",
      "c:\\ProgramData\\Anaconda3\\envs\\Introduccion_al_ML_IB\\lib\\site-packages\\xgboost\\data.py:250: FutureWarning: pandas.Int64Index is deprecated and will be removed from pandas in a future version. Use pandas.Index with the appropriate dtype instead.\n",
      "  elif isinstance(data.columns, (pd.Int64Index, pd.RangeIndex)):\n"
     ]
    },
    {
     "name": "stdout",
     "output_type": "stream",
     "text": [
      "[16:09:46] WARNING: C:\\Windows\\Temp\\abs_557yfx631l\\croots\\recipe\\xgboost-split_1659548953302\\work\\src\\learner.cc:1115: Starting in XGBoost 1.3.0, the default evaluation metric used with the objective 'multi:softprob' was changed from 'merror' to 'mlogloss'. Explicitly set eval_metric if you'd like to restore the old behavior.\n",
      "[CV 2/5] END eta=0.3, gamma=0.1, max_depth=20, subsample=1.0;, score=(train=1.000, test=0.966) total time= 4.0min\n"
     ]
    },
    {
     "name": "stderr",
     "output_type": "stream",
     "text": [
      "c:\\ProgramData\\Anaconda3\\envs\\Introduccion_al_ML_IB\\lib\\site-packages\\xgboost\\sklearn.py:1224: UserWarning: The use of label encoder in XGBClassifier is deprecated and will be removed in a future release. To remove this warning, do the following: 1) Pass option use_label_encoder=False when constructing XGBClassifier object; and 2) Encode your labels (y) as integers starting with 0, i.e. 0, 1, 2, ..., [num_class - 1].\n",
      "  warnings.warn(label_encoder_deprecation_msg, UserWarning)\n",
      "c:\\ProgramData\\Anaconda3\\envs\\Introduccion_al_ML_IB\\lib\\site-packages\\xgboost\\data.py:250: FutureWarning: pandas.Int64Index is deprecated and will be removed from pandas in a future version. Use pandas.Index with the appropriate dtype instead.\n",
      "  elif isinstance(data.columns, (pd.Int64Index, pd.RangeIndex)):\n"
     ]
    },
    {
     "name": "stdout",
     "output_type": "stream",
     "text": [
      "[16:13:47] WARNING: C:\\Windows\\Temp\\abs_557yfx631l\\croots\\recipe\\xgboost-split_1659548953302\\work\\src\\learner.cc:1115: Starting in XGBoost 1.3.0, the default evaluation metric used with the objective 'multi:softprob' was changed from 'merror' to 'mlogloss'. Explicitly set eval_metric if you'd like to restore the old behavior.\n",
      "[CV 3/5] END eta=0.3, gamma=0.1, max_depth=20, subsample=1.0;, score=(train=1.000, test=0.967) total time= 4.0min\n"
     ]
    },
    {
     "name": "stderr",
     "output_type": "stream",
     "text": [
      "c:\\ProgramData\\Anaconda3\\envs\\Introduccion_al_ML_IB\\lib\\site-packages\\xgboost\\sklearn.py:1224: UserWarning: The use of label encoder in XGBClassifier is deprecated and will be removed in a future release. To remove this warning, do the following: 1) Pass option use_label_encoder=False when constructing XGBClassifier object; and 2) Encode your labels (y) as integers starting with 0, i.e. 0, 1, 2, ..., [num_class - 1].\n",
      "  warnings.warn(label_encoder_deprecation_msg, UserWarning)\n",
      "c:\\ProgramData\\Anaconda3\\envs\\Introduccion_al_ML_IB\\lib\\site-packages\\xgboost\\data.py:250: FutureWarning: pandas.Int64Index is deprecated and will be removed from pandas in a future version. Use pandas.Index with the appropriate dtype instead.\n",
      "  elif isinstance(data.columns, (pd.Int64Index, pd.RangeIndex)):\n"
     ]
    },
    {
     "name": "stdout",
     "output_type": "stream",
     "text": [
      "[16:17:49] WARNING: C:\\Windows\\Temp\\abs_557yfx631l\\croots\\recipe\\xgboost-split_1659548953302\\work\\src\\learner.cc:1115: Starting in XGBoost 1.3.0, the default evaluation metric used with the objective 'multi:softprob' was changed from 'merror' to 'mlogloss'. Explicitly set eval_metric if you'd like to restore the old behavior.\n",
      "[CV 4/5] END eta=0.3, gamma=0.1, max_depth=20, subsample=1.0;, score=(train=1.000, test=0.966) total time= 3.9min\n"
     ]
    },
    {
     "name": "stderr",
     "output_type": "stream",
     "text": [
      "c:\\ProgramData\\Anaconda3\\envs\\Introduccion_al_ML_IB\\lib\\site-packages\\xgboost\\sklearn.py:1224: UserWarning: The use of label encoder in XGBClassifier is deprecated and will be removed in a future release. To remove this warning, do the following: 1) Pass option use_label_encoder=False when constructing XGBClassifier object; and 2) Encode your labels (y) as integers starting with 0, i.e. 0, 1, 2, ..., [num_class - 1].\n",
      "  warnings.warn(label_encoder_deprecation_msg, UserWarning)\n",
      "c:\\ProgramData\\Anaconda3\\envs\\Introduccion_al_ML_IB\\lib\\site-packages\\xgboost\\data.py:250: FutureWarning: pandas.Int64Index is deprecated and will be removed from pandas in a future version. Use pandas.Index with the appropriate dtype instead.\n",
      "  elif isinstance(data.columns, (pd.Int64Index, pd.RangeIndex)):\n"
     ]
    },
    {
     "name": "stdout",
     "output_type": "stream",
     "text": [
      "[16:21:47] WARNING: C:\\Windows\\Temp\\abs_557yfx631l\\croots\\recipe\\xgboost-split_1659548953302\\work\\src\\learner.cc:1115: Starting in XGBoost 1.3.0, the default evaluation metric used with the objective 'multi:softprob' was changed from 'merror' to 'mlogloss'. Explicitly set eval_metric if you'd like to restore the old behavior.\n",
      "[CV 5/5] END eta=0.3, gamma=0.1, max_depth=20, subsample=1.0;, score=(train=1.000, test=0.965) total time= 4.0min\n"
     ]
    },
    {
     "name": "stderr",
     "output_type": "stream",
     "text": [
      "c:\\ProgramData\\Anaconda3\\envs\\Introduccion_al_ML_IB\\lib\\site-packages\\xgboost\\sklearn.py:1224: UserWarning: The use of label encoder in XGBClassifier is deprecated and will be removed in a future release. To remove this warning, do the following: 1) Pass option use_label_encoder=False when constructing XGBClassifier object; and 2) Encode your labels (y) as integers starting with 0, i.e. 0, 1, 2, ..., [num_class - 1].\n",
      "  warnings.warn(label_encoder_deprecation_msg, UserWarning)\n",
      "c:\\ProgramData\\Anaconda3\\envs\\Introduccion_al_ML_IB\\lib\\site-packages\\xgboost\\data.py:250: FutureWarning: pandas.Int64Index is deprecated and will be removed from pandas in a future version. Use pandas.Index with the appropriate dtype instead.\n",
      "  elif isinstance(data.columns, (pd.Int64Index, pd.RangeIndex)):\n"
     ]
    },
    {
     "name": "stdout",
     "output_type": "stream",
     "text": [
      "[16:25:51] WARNING: C:\\Windows\\Temp\\abs_557yfx631l\\croots\\recipe\\xgboost-split_1659548953302\\work\\src\\learner.cc:1115: Starting in XGBoost 1.3.0, the default evaluation metric used with the objective 'multi:softprob' was changed from 'merror' to 'mlogloss'. Explicitly set eval_metric if you'd like to restore the old behavior.\n",
      "[CV 1/5] END eta=0.3, gamma=0.1, max_depth=40, subsample=0.75;, score=(train=1.000, test=0.967) total time= 5.3min\n"
     ]
    },
    {
     "name": "stderr",
     "output_type": "stream",
     "text": [
      "c:\\ProgramData\\Anaconda3\\envs\\Introduccion_al_ML_IB\\lib\\site-packages\\xgboost\\sklearn.py:1224: UserWarning: The use of label encoder in XGBClassifier is deprecated and will be removed in a future release. To remove this warning, do the following: 1) Pass option use_label_encoder=False when constructing XGBClassifier object; and 2) Encode your labels (y) as integers starting with 0, i.e. 0, 1, 2, ..., [num_class - 1].\n",
      "  warnings.warn(label_encoder_deprecation_msg, UserWarning)\n",
      "c:\\ProgramData\\Anaconda3\\envs\\Introduccion_al_ML_IB\\lib\\site-packages\\xgboost\\data.py:250: FutureWarning: pandas.Int64Index is deprecated and will be removed from pandas in a future version. Use pandas.Index with the appropriate dtype instead.\n",
      "  elif isinstance(data.columns, (pd.Int64Index, pd.RangeIndex)):\n"
     ]
    },
    {
     "name": "stdout",
     "output_type": "stream",
     "text": [
      "[16:31:14] WARNING: C:\\Windows\\Temp\\abs_557yfx631l\\croots\\recipe\\xgboost-split_1659548953302\\work\\src\\learner.cc:1115: Starting in XGBoost 1.3.0, the default evaluation metric used with the objective 'multi:softprob' was changed from 'merror' to 'mlogloss'. Explicitly set eval_metric if you'd like to restore the old behavior.\n",
      "[CV 2/5] END eta=0.3, gamma=0.1, max_depth=40, subsample=0.75;, score=(train=1.000, test=0.966) total time= 5.2min\n"
     ]
    },
    {
     "name": "stderr",
     "output_type": "stream",
     "text": [
      "c:\\ProgramData\\Anaconda3\\envs\\Introduccion_al_ML_IB\\lib\\site-packages\\xgboost\\sklearn.py:1224: UserWarning: The use of label encoder in XGBClassifier is deprecated and will be removed in a future release. To remove this warning, do the following: 1) Pass option use_label_encoder=False when constructing XGBClassifier object; and 2) Encode your labels (y) as integers starting with 0, i.e. 0, 1, 2, ..., [num_class - 1].\n",
      "  warnings.warn(label_encoder_deprecation_msg, UserWarning)\n",
      "c:\\ProgramData\\Anaconda3\\envs\\Introduccion_al_ML_IB\\lib\\site-packages\\xgboost\\data.py:250: FutureWarning: pandas.Int64Index is deprecated and will be removed from pandas in a future version. Use pandas.Index with the appropriate dtype instead.\n",
      "  elif isinstance(data.columns, (pd.Int64Index, pd.RangeIndex)):\n"
     ]
    },
    {
     "name": "stdout",
     "output_type": "stream",
     "text": [
      "[16:36:32] WARNING: C:\\Windows\\Temp\\abs_557yfx631l\\croots\\recipe\\xgboost-split_1659548953302\\work\\src\\learner.cc:1115: Starting in XGBoost 1.3.0, the default evaluation metric used with the objective 'multi:softprob' was changed from 'merror' to 'mlogloss'. Explicitly set eval_metric if you'd like to restore the old behavior.\n",
      "[CV 3/5] END eta=0.3, gamma=0.1, max_depth=40, subsample=0.75;, score=(train=1.000, test=0.967) total time= 5.2min\n"
     ]
    },
    {
     "name": "stderr",
     "output_type": "stream",
     "text": [
      "c:\\ProgramData\\Anaconda3\\envs\\Introduccion_al_ML_IB\\lib\\site-packages\\xgboost\\sklearn.py:1224: UserWarning: The use of label encoder in XGBClassifier is deprecated and will be removed in a future release. To remove this warning, do the following: 1) Pass option use_label_encoder=False when constructing XGBClassifier object; and 2) Encode your labels (y) as integers starting with 0, i.e. 0, 1, 2, ..., [num_class - 1].\n",
      "  warnings.warn(label_encoder_deprecation_msg, UserWarning)\n",
      "c:\\ProgramData\\Anaconda3\\envs\\Introduccion_al_ML_IB\\lib\\site-packages\\xgboost\\data.py:250: FutureWarning: pandas.Int64Index is deprecated and will be removed from pandas in a future version. Use pandas.Index with the appropriate dtype instead.\n",
      "  elif isinstance(data.columns, (pd.Int64Index, pd.RangeIndex)):\n"
     ]
    },
    {
     "name": "stdout",
     "output_type": "stream",
     "text": [
      "[16:41:50] WARNING: C:\\Windows\\Temp\\abs_557yfx631l\\croots\\recipe\\xgboost-split_1659548953302\\work\\src\\learner.cc:1115: Starting in XGBoost 1.3.0, the default evaluation metric used with the objective 'multi:softprob' was changed from 'merror' to 'mlogloss'. Explicitly set eval_metric if you'd like to restore the old behavior.\n",
      "[CV 4/5] END eta=0.3, gamma=0.1, max_depth=40, subsample=0.75;, score=(train=1.000, test=0.967) total time= 5.2min\n"
     ]
    },
    {
     "name": "stderr",
     "output_type": "stream",
     "text": [
      "c:\\ProgramData\\Anaconda3\\envs\\Introduccion_al_ML_IB\\lib\\site-packages\\xgboost\\sklearn.py:1224: UserWarning: The use of label encoder in XGBClassifier is deprecated and will be removed in a future release. To remove this warning, do the following: 1) Pass option use_label_encoder=False when constructing XGBClassifier object; and 2) Encode your labels (y) as integers starting with 0, i.e. 0, 1, 2, ..., [num_class - 1].\n",
      "  warnings.warn(label_encoder_deprecation_msg, UserWarning)\n",
      "c:\\ProgramData\\Anaconda3\\envs\\Introduccion_al_ML_IB\\lib\\site-packages\\xgboost\\data.py:250: FutureWarning: pandas.Int64Index is deprecated and will be removed from pandas in a future version. Use pandas.Index with the appropriate dtype instead.\n",
      "  elif isinstance(data.columns, (pd.Int64Index, pd.RangeIndex)):\n"
     ]
    },
    {
     "name": "stdout",
     "output_type": "stream",
     "text": [
      "[16:47:09] WARNING: C:\\Windows\\Temp\\abs_557yfx631l\\croots\\recipe\\xgboost-split_1659548953302\\work\\src\\learner.cc:1115: Starting in XGBoost 1.3.0, the default evaluation metric used with the objective 'multi:softprob' was changed from 'merror' to 'mlogloss'. Explicitly set eval_metric if you'd like to restore the old behavior.\n",
      "[CV 5/5] END eta=0.3, gamma=0.1, max_depth=40, subsample=0.75;, score=(train=1.000, test=0.965) total time= 5.2min\n"
     ]
    },
    {
     "name": "stderr",
     "output_type": "stream",
     "text": [
      "c:\\ProgramData\\Anaconda3\\envs\\Introduccion_al_ML_IB\\lib\\site-packages\\xgboost\\sklearn.py:1224: UserWarning: The use of label encoder in XGBClassifier is deprecated and will be removed in a future release. To remove this warning, do the following: 1) Pass option use_label_encoder=False when constructing XGBClassifier object; and 2) Encode your labels (y) as integers starting with 0, i.e. 0, 1, 2, ..., [num_class - 1].\n",
      "  warnings.warn(label_encoder_deprecation_msg, UserWarning)\n",
      "c:\\ProgramData\\Anaconda3\\envs\\Introduccion_al_ML_IB\\lib\\site-packages\\xgboost\\data.py:250: FutureWarning: pandas.Int64Index is deprecated and will be removed from pandas in a future version. Use pandas.Index with the appropriate dtype instead.\n",
      "  elif isinstance(data.columns, (pd.Int64Index, pd.RangeIndex)):\n"
     ]
    },
    {
     "name": "stdout",
     "output_type": "stream",
     "text": [
      "[16:52:27] WARNING: C:\\Windows\\Temp\\abs_557yfx631l\\croots\\recipe\\xgboost-split_1659548953302\\work\\src\\learner.cc:1115: Starting in XGBoost 1.3.0, the default evaluation metric used with the objective 'multi:softprob' was changed from 'merror' to 'mlogloss'. Explicitly set eval_metric if you'd like to restore the old behavior.\n",
      "[CV 1/5] END eta=0.3, gamma=0.1, max_depth=40, subsample=1.0;, score=(train=1.000, test=0.967) total time= 5.6min\n"
     ]
    },
    {
     "name": "stderr",
     "output_type": "stream",
     "text": [
      "c:\\ProgramData\\Anaconda3\\envs\\Introduccion_al_ML_IB\\lib\\site-packages\\xgboost\\sklearn.py:1224: UserWarning: The use of label encoder in XGBClassifier is deprecated and will be removed in a future release. To remove this warning, do the following: 1) Pass option use_label_encoder=False when constructing XGBClassifier object; and 2) Encode your labels (y) as integers starting with 0, i.e. 0, 1, 2, ..., [num_class - 1].\n",
      "  warnings.warn(label_encoder_deprecation_msg, UserWarning)\n",
      "c:\\ProgramData\\Anaconda3\\envs\\Introduccion_al_ML_IB\\lib\\site-packages\\xgboost\\data.py:250: FutureWarning: pandas.Int64Index is deprecated and will be removed from pandas in a future version. Use pandas.Index with the appropriate dtype instead.\n",
      "  elif isinstance(data.columns, (pd.Int64Index, pd.RangeIndex)):\n"
     ]
    },
    {
     "name": "stdout",
     "output_type": "stream",
     "text": [
      "[16:58:07] WARNING: C:\\Windows\\Temp\\abs_557yfx631l\\croots\\recipe\\xgboost-split_1659548953302\\work\\src\\learner.cc:1115: Starting in XGBoost 1.3.0, the default evaluation metric used with the objective 'multi:softprob' was changed from 'merror' to 'mlogloss'. Explicitly set eval_metric if you'd like to restore the old behavior.\n",
      "[CV 2/5] END eta=0.3, gamma=0.1, max_depth=40, subsample=1.0;, score=(train=1.000, test=0.967) total time= 5.6min\n"
     ]
    },
    {
     "name": "stderr",
     "output_type": "stream",
     "text": [
      "c:\\ProgramData\\Anaconda3\\envs\\Introduccion_al_ML_IB\\lib\\site-packages\\xgboost\\sklearn.py:1224: UserWarning: The use of label encoder in XGBClassifier is deprecated and will be removed in a future release. To remove this warning, do the following: 1) Pass option use_label_encoder=False when constructing XGBClassifier object; and 2) Encode your labels (y) as integers starting with 0, i.e. 0, 1, 2, ..., [num_class - 1].\n",
      "  warnings.warn(label_encoder_deprecation_msg, UserWarning)\n",
      "c:\\ProgramData\\Anaconda3\\envs\\Introduccion_al_ML_IB\\lib\\site-packages\\xgboost\\data.py:250: FutureWarning: pandas.Int64Index is deprecated and will be removed from pandas in a future version. Use pandas.Index with the appropriate dtype instead.\n",
      "  elif isinstance(data.columns, (pd.Int64Index, pd.RangeIndex)):\n"
     ]
    },
    {
     "name": "stdout",
     "output_type": "stream",
     "text": [
      "[17:03:47] WARNING: C:\\Windows\\Temp\\abs_557yfx631l\\croots\\recipe\\xgboost-split_1659548953302\\work\\src\\learner.cc:1115: Starting in XGBoost 1.3.0, the default evaluation metric used with the objective 'multi:softprob' was changed from 'merror' to 'mlogloss'. Explicitly set eval_metric if you'd like to restore the old behavior.\n",
      "[CV 3/5] END eta=0.3, gamma=0.1, max_depth=40, subsample=1.0;, score=(train=1.000, test=0.967) total time= 5.6min\n"
     ]
    },
    {
     "name": "stderr",
     "output_type": "stream",
     "text": [
      "c:\\ProgramData\\Anaconda3\\envs\\Introduccion_al_ML_IB\\lib\\site-packages\\xgboost\\sklearn.py:1224: UserWarning: The use of label encoder in XGBClassifier is deprecated and will be removed in a future release. To remove this warning, do the following: 1) Pass option use_label_encoder=False when constructing XGBClassifier object; and 2) Encode your labels (y) as integers starting with 0, i.e. 0, 1, 2, ..., [num_class - 1].\n",
      "  warnings.warn(label_encoder_deprecation_msg, UserWarning)\n",
      "c:\\ProgramData\\Anaconda3\\envs\\Introduccion_al_ML_IB\\lib\\site-packages\\xgboost\\data.py:250: FutureWarning: pandas.Int64Index is deprecated and will be removed from pandas in a future version. Use pandas.Index with the appropriate dtype instead.\n",
      "  elif isinstance(data.columns, (pd.Int64Index, pd.RangeIndex)):\n"
     ]
    },
    {
     "name": "stdout",
     "output_type": "stream",
     "text": [
      "[17:09:26] WARNING: C:\\Windows\\Temp\\abs_557yfx631l\\croots\\recipe\\xgboost-split_1659548953302\\work\\src\\learner.cc:1115: Starting in XGBoost 1.3.0, the default evaluation metric used with the objective 'multi:softprob' was changed from 'merror' to 'mlogloss'. Explicitly set eval_metric if you'd like to restore the old behavior.\n",
      "[CV 4/5] END eta=0.3, gamma=0.1, max_depth=40, subsample=1.0;, score=(train=1.000, test=0.966) total time= 5.7min\n"
     ]
    },
    {
     "name": "stderr",
     "output_type": "stream",
     "text": [
      "c:\\ProgramData\\Anaconda3\\envs\\Introduccion_al_ML_IB\\lib\\site-packages\\xgboost\\sklearn.py:1224: UserWarning: The use of label encoder in XGBClassifier is deprecated and will be removed in a future release. To remove this warning, do the following: 1) Pass option use_label_encoder=False when constructing XGBClassifier object; and 2) Encode your labels (y) as integers starting with 0, i.e. 0, 1, 2, ..., [num_class - 1].\n",
      "  warnings.warn(label_encoder_deprecation_msg, UserWarning)\n",
      "c:\\ProgramData\\Anaconda3\\envs\\Introduccion_al_ML_IB\\lib\\site-packages\\xgboost\\data.py:250: FutureWarning: pandas.Int64Index is deprecated and will be removed from pandas in a future version. Use pandas.Index with the appropriate dtype instead.\n",
      "  elif isinstance(data.columns, (pd.Int64Index, pd.RangeIndex)):\n"
     ]
    },
    {
     "name": "stdout",
     "output_type": "stream",
     "text": [
      "[17:15:09] WARNING: C:\\Windows\\Temp\\abs_557yfx631l\\croots\\recipe\\xgboost-split_1659548953302\\work\\src\\learner.cc:1115: Starting in XGBoost 1.3.0, the default evaluation metric used with the objective 'multi:softprob' was changed from 'merror' to 'mlogloss'. Explicitly set eval_metric if you'd like to restore the old behavior.\n",
      "[CV 5/5] END eta=0.3, gamma=0.1, max_depth=40, subsample=1.0;, score=(train=1.000, test=0.965) total time= 5.6min\n"
     ]
    },
    {
     "name": "stderr",
     "output_type": "stream",
     "text": [
      "c:\\ProgramData\\Anaconda3\\envs\\Introduccion_al_ML_IB\\lib\\site-packages\\xgboost\\sklearn.py:1224: UserWarning: The use of label encoder in XGBClassifier is deprecated and will be removed in a future release. To remove this warning, do the following: 1) Pass option use_label_encoder=False when constructing XGBClassifier object; and 2) Encode your labels (y) as integers starting with 0, i.e. 0, 1, 2, ..., [num_class - 1].\n",
      "  warnings.warn(label_encoder_deprecation_msg, UserWarning)\n",
      "c:\\ProgramData\\Anaconda3\\envs\\Introduccion_al_ML_IB\\lib\\site-packages\\xgboost\\data.py:250: FutureWarning: pandas.Int64Index is deprecated and will be removed from pandas in a future version. Use pandas.Index with the appropriate dtype instead.\n",
      "  elif isinstance(data.columns, (pd.Int64Index, pd.RangeIndex)):\n"
     ]
    },
    {
     "name": "stdout",
     "output_type": "stream",
     "text": [
      "[17:20:48] WARNING: C:\\Windows\\Temp\\abs_557yfx631l\\croots\\recipe\\xgboost-split_1659548953302\\work\\src\\learner.cc:1115: Starting in XGBoost 1.3.0, the default evaluation metric used with the objective 'multi:softprob' was changed from 'merror' to 'mlogloss'. Explicitly set eval_metric if you'd like to restore the old behavior.\n",
      "[CV 1/5] END eta=0.3, gamma=0.1, max_depth=60, subsample=0.75;, score=(train=1.000, test=0.967) total time= 5.5min\n"
     ]
    },
    {
     "name": "stderr",
     "output_type": "stream",
     "text": [
      "c:\\ProgramData\\Anaconda3\\envs\\Introduccion_al_ML_IB\\lib\\site-packages\\xgboost\\sklearn.py:1224: UserWarning: The use of label encoder in XGBClassifier is deprecated and will be removed in a future release. To remove this warning, do the following: 1) Pass option use_label_encoder=False when constructing XGBClassifier object; and 2) Encode your labels (y) as integers starting with 0, i.e. 0, 1, 2, ..., [num_class - 1].\n",
      "  warnings.warn(label_encoder_deprecation_msg, UserWarning)\n",
      "c:\\ProgramData\\Anaconda3\\envs\\Introduccion_al_ML_IB\\lib\\site-packages\\xgboost\\data.py:250: FutureWarning: pandas.Int64Index is deprecated and will be removed from pandas in a future version. Use pandas.Index with the appropriate dtype instead.\n",
      "  elif isinstance(data.columns, (pd.Int64Index, pd.RangeIndex)):\n"
     ]
    },
    {
     "name": "stdout",
     "output_type": "stream",
     "text": [
      "[17:26:21] WARNING: C:\\Windows\\Temp\\abs_557yfx631l\\croots\\recipe\\xgboost-split_1659548953302\\work\\src\\learner.cc:1115: Starting in XGBoost 1.3.0, the default evaluation metric used with the objective 'multi:softprob' was changed from 'merror' to 'mlogloss'. Explicitly set eval_metric if you'd like to restore the old behavior.\n",
      "[CV 2/5] END eta=0.3, gamma=0.1, max_depth=60, subsample=0.75;, score=(train=1.000, test=0.966) total time= 5.5min\n"
     ]
    },
    {
     "name": "stderr",
     "output_type": "stream",
     "text": [
      "c:\\ProgramData\\Anaconda3\\envs\\Introduccion_al_ML_IB\\lib\\site-packages\\xgboost\\sklearn.py:1224: UserWarning: The use of label encoder in XGBClassifier is deprecated and will be removed in a future release. To remove this warning, do the following: 1) Pass option use_label_encoder=False when constructing XGBClassifier object; and 2) Encode your labels (y) as integers starting with 0, i.e. 0, 1, 2, ..., [num_class - 1].\n",
      "  warnings.warn(label_encoder_deprecation_msg, UserWarning)\n",
      "c:\\ProgramData\\Anaconda3\\envs\\Introduccion_al_ML_IB\\lib\\site-packages\\xgboost\\data.py:250: FutureWarning: pandas.Int64Index is deprecated and will be removed from pandas in a future version. Use pandas.Index with the appropriate dtype instead.\n",
      "  elif isinstance(data.columns, (pd.Int64Index, pd.RangeIndex)):\n"
     ]
    },
    {
     "name": "stdout",
     "output_type": "stream",
     "text": [
      "[17:31:52] WARNING: C:\\Windows\\Temp\\abs_557yfx631l\\croots\\recipe\\xgboost-split_1659548953302\\work\\src\\learner.cc:1115: Starting in XGBoost 1.3.0, the default evaluation metric used with the objective 'multi:softprob' was changed from 'merror' to 'mlogloss'. Explicitly set eval_metric if you'd like to restore the old behavior.\n",
      "[CV 3/5] END eta=0.3, gamma=0.1, max_depth=60, subsample=0.75;, score=(train=1.000, test=0.967) total time= 5.5min\n"
     ]
    },
    {
     "name": "stderr",
     "output_type": "stream",
     "text": [
      "c:\\ProgramData\\Anaconda3\\envs\\Introduccion_al_ML_IB\\lib\\site-packages\\xgboost\\sklearn.py:1224: UserWarning: The use of label encoder in XGBClassifier is deprecated and will be removed in a future release. To remove this warning, do the following: 1) Pass option use_label_encoder=False when constructing XGBClassifier object; and 2) Encode your labels (y) as integers starting with 0, i.e. 0, 1, 2, ..., [num_class - 1].\n",
      "  warnings.warn(label_encoder_deprecation_msg, UserWarning)\n",
      "c:\\ProgramData\\Anaconda3\\envs\\Introduccion_al_ML_IB\\lib\\site-packages\\xgboost\\data.py:250: FutureWarning: pandas.Int64Index is deprecated and will be removed from pandas in a future version. Use pandas.Index with the appropriate dtype instead.\n",
      "  elif isinstance(data.columns, (pd.Int64Index, pd.RangeIndex)):\n"
     ]
    },
    {
     "name": "stdout",
     "output_type": "stream",
     "text": [
      "[17:37:24] WARNING: C:\\Windows\\Temp\\abs_557yfx631l\\croots\\recipe\\xgboost-split_1659548953302\\work\\src\\learner.cc:1115: Starting in XGBoost 1.3.0, the default evaluation metric used with the objective 'multi:softprob' was changed from 'merror' to 'mlogloss'. Explicitly set eval_metric if you'd like to restore the old behavior.\n",
      "[CV 4/5] END eta=0.3, gamma=0.1, max_depth=60, subsample=0.75;, score=(train=1.000, test=0.967) total time= 5.4min\n"
     ]
    },
    {
     "name": "stderr",
     "output_type": "stream",
     "text": [
      "c:\\ProgramData\\Anaconda3\\envs\\Introduccion_al_ML_IB\\lib\\site-packages\\xgboost\\sklearn.py:1224: UserWarning: The use of label encoder in XGBClassifier is deprecated and will be removed in a future release. To remove this warning, do the following: 1) Pass option use_label_encoder=False when constructing XGBClassifier object; and 2) Encode your labels (y) as integers starting with 0, i.e. 0, 1, 2, ..., [num_class - 1].\n",
      "  warnings.warn(label_encoder_deprecation_msg, UserWarning)\n",
      "c:\\ProgramData\\Anaconda3\\envs\\Introduccion_al_ML_IB\\lib\\site-packages\\xgboost\\data.py:250: FutureWarning: pandas.Int64Index is deprecated and will be removed from pandas in a future version. Use pandas.Index with the appropriate dtype instead.\n",
      "  elif isinstance(data.columns, (pd.Int64Index, pd.RangeIndex)):\n"
     ]
    },
    {
     "name": "stdout",
     "output_type": "stream",
     "text": [
      "[17:42:54] WARNING: C:\\Windows\\Temp\\abs_557yfx631l\\croots\\recipe\\xgboost-split_1659548953302\\work\\src\\learner.cc:1115: Starting in XGBoost 1.3.0, the default evaluation metric used with the objective 'multi:softprob' was changed from 'merror' to 'mlogloss'. Explicitly set eval_metric if you'd like to restore the old behavior.\n",
      "[CV 5/5] END eta=0.3, gamma=0.1, max_depth=60, subsample=0.75;, score=(train=1.000, test=0.965) total time= 5.4min\n"
     ]
    },
    {
     "name": "stderr",
     "output_type": "stream",
     "text": [
      "c:\\ProgramData\\Anaconda3\\envs\\Introduccion_al_ML_IB\\lib\\site-packages\\xgboost\\sklearn.py:1224: UserWarning: The use of label encoder in XGBClassifier is deprecated and will be removed in a future release. To remove this warning, do the following: 1) Pass option use_label_encoder=False when constructing XGBClassifier object; and 2) Encode your labels (y) as integers starting with 0, i.e. 0, 1, 2, ..., [num_class - 1].\n",
      "  warnings.warn(label_encoder_deprecation_msg, UserWarning)\n",
      "c:\\ProgramData\\Anaconda3\\envs\\Introduccion_al_ML_IB\\lib\\site-packages\\xgboost\\data.py:250: FutureWarning: pandas.Int64Index is deprecated and will be removed from pandas in a future version. Use pandas.Index with the appropriate dtype instead.\n",
      "  elif isinstance(data.columns, (pd.Int64Index, pd.RangeIndex)):\n"
     ]
    },
    {
     "name": "stdout",
     "output_type": "stream",
     "text": [
      "[17:48:24] WARNING: C:\\Windows\\Temp\\abs_557yfx631l\\croots\\recipe\\xgboost-split_1659548953302\\work\\src\\learner.cc:1115: Starting in XGBoost 1.3.0, the default evaluation metric used with the objective 'multi:softprob' was changed from 'merror' to 'mlogloss'. Explicitly set eval_metric if you'd like to restore the old behavior.\n",
      "[CV 1/5] END eta=0.3, gamma=0.1, max_depth=60, subsample=1.0;, score=(train=1.000, test=0.967) total time= 6.2min\n"
     ]
    },
    {
     "name": "stderr",
     "output_type": "stream",
     "text": [
      "c:\\ProgramData\\Anaconda3\\envs\\Introduccion_al_ML_IB\\lib\\site-packages\\xgboost\\sklearn.py:1224: UserWarning: The use of label encoder in XGBClassifier is deprecated and will be removed in a future release. To remove this warning, do the following: 1) Pass option use_label_encoder=False when constructing XGBClassifier object; and 2) Encode your labels (y) as integers starting with 0, i.e. 0, 1, 2, ..., [num_class - 1].\n",
      "  warnings.warn(label_encoder_deprecation_msg, UserWarning)\n",
      "c:\\ProgramData\\Anaconda3\\envs\\Introduccion_al_ML_IB\\lib\\site-packages\\xgboost\\data.py:250: FutureWarning: pandas.Int64Index is deprecated and will be removed from pandas in a future version. Use pandas.Index with the appropriate dtype instead.\n",
      "  elif isinstance(data.columns, (pd.Int64Index, pd.RangeIndex)):\n"
     ]
    },
    {
     "name": "stdout",
     "output_type": "stream",
     "text": [
      "[17:54:40] WARNING: C:\\Windows\\Temp\\abs_557yfx631l\\croots\\recipe\\xgboost-split_1659548953302\\work\\src\\learner.cc:1115: Starting in XGBoost 1.3.0, the default evaluation metric used with the objective 'multi:softprob' was changed from 'merror' to 'mlogloss'. Explicitly set eval_metric if you'd like to restore the old behavior.\n",
      "[CV 2/5] END eta=0.3, gamma=0.1, max_depth=60, subsample=1.0;, score=(train=1.000, test=0.967) total time= 6.3min\n"
     ]
    },
    {
     "name": "stderr",
     "output_type": "stream",
     "text": [
      "c:\\ProgramData\\Anaconda3\\envs\\Introduccion_al_ML_IB\\lib\\site-packages\\xgboost\\sklearn.py:1224: UserWarning: The use of label encoder in XGBClassifier is deprecated and will be removed in a future release. To remove this warning, do the following: 1) Pass option use_label_encoder=False when constructing XGBClassifier object; and 2) Encode your labels (y) as integers starting with 0, i.e. 0, 1, 2, ..., [num_class - 1].\n",
      "  warnings.warn(label_encoder_deprecation_msg, UserWarning)\n",
      "c:\\ProgramData\\Anaconda3\\envs\\Introduccion_al_ML_IB\\lib\\site-packages\\xgboost\\data.py:250: FutureWarning: pandas.Int64Index is deprecated and will be removed from pandas in a future version. Use pandas.Index with the appropriate dtype instead.\n",
      "  elif isinstance(data.columns, (pd.Int64Index, pd.RangeIndex)):\n"
     ]
    },
    {
     "name": "stdout",
     "output_type": "stream",
     "text": [
      "[18:01:01] WARNING: C:\\Windows\\Temp\\abs_557yfx631l\\croots\\recipe\\xgboost-split_1659548953302\\work\\src\\learner.cc:1115: Starting in XGBoost 1.3.0, the default evaluation metric used with the objective 'multi:softprob' was changed from 'merror' to 'mlogloss'. Explicitly set eval_metric if you'd like to restore the old behavior.\n",
      "[CV 3/5] END eta=0.3, gamma=0.1, max_depth=60, subsample=1.0;, score=(train=1.000, test=0.967) total time= 6.2min\n"
     ]
    },
    {
     "name": "stderr",
     "output_type": "stream",
     "text": [
      "c:\\ProgramData\\Anaconda3\\envs\\Introduccion_al_ML_IB\\lib\\site-packages\\xgboost\\sklearn.py:1224: UserWarning: The use of label encoder in XGBClassifier is deprecated and will be removed in a future release. To remove this warning, do the following: 1) Pass option use_label_encoder=False when constructing XGBClassifier object; and 2) Encode your labels (y) as integers starting with 0, i.e. 0, 1, 2, ..., [num_class - 1].\n",
      "  warnings.warn(label_encoder_deprecation_msg, UserWarning)\n",
      "c:\\ProgramData\\Anaconda3\\envs\\Introduccion_al_ML_IB\\lib\\site-packages\\xgboost\\data.py:250: FutureWarning: pandas.Int64Index is deprecated and will be removed from pandas in a future version. Use pandas.Index with the appropriate dtype instead.\n",
      "  elif isinstance(data.columns, (pd.Int64Index, pd.RangeIndex)):\n"
     ]
    },
    {
     "name": "stdout",
     "output_type": "stream",
     "text": [
      "[18:07:17] WARNING: C:\\Windows\\Temp\\abs_557yfx631l\\croots\\recipe\\xgboost-split_1659548953302\\work\\src\\learner.cc:1115: Starting in XGBoost 1.3.0, the default evaluation metric used with the objective 'multi:softprob' was changed from 'merror' to 'mlogloss'. Explicitly set eval_metric if you'd like to restore the old behavior.\n",
      "[CV 4/5] END eta=0.3, gamma=0.1, max_depth=60, subsample=1.0;, score=(train=1.000, test=0.966) total time= 6.2min\n"
     ]
    },
    {
     "name": "stderr",
     "output_type": "stream",
     "text": [
      "c:\\ProgramData\\Anaconda3\\envs\\Introduccion_al_ML_IB\\lib\\site-packages\\xgboost\\sklearn.py:1224: UserWarning: The use of label encoder in XGBClassifier is deprecated and will be removed in a future release. To remove this warning, do the following: 1) Pass option use_label_encoder=False when constructing XGBClassifier object; and 2) Encode your labels (y) as integers starting with 0, i.e. 0, 1, 2, ..., [num_class - 1].\n",
      "  warnings.warn(label_encoder_deprecation_msg, UserWarning)\n",
      "c:\\ProgramData\\Anaconda3\\envs\\Introduccion_al_ML_IB\\lib\\site-packages\\xgboost\\data.py:250: FutureWarning: pandas.Int64Index is deprecated and will be removed from pandas in a future version. Use pandas.Index with the appropriate dtype instead.\n",
      "  elif isinstance(data.columns, (pd.Int64Index, pd.RangeIndex)):\n"
     ]
    },
    {
     "name": "stdout",
     "output_type": "stream",
     "text": [
      "[18:13:35] WARNING: C:\\Windows\\Temp\\abs_557yfx631l\\croots\\recipe\\xgboost-split_1659548953302\\work\\src\\learner.cc:1115: Starting in XGBoost 1.3.0, the default evaluation metric used with the objective 'multi:softprob' was changed from 'merror' to 'mlogloss'. Explicitly set eval_metric if you'd like to restore the old behavior.\n",
      "[CV 5/5] END eta=0.3, gamma=0.1, max_depth=60, subsample=1.0;, score=(train=1.000, test=0.966) total time= 6.2min\n"
     ]
    },
    {
     "name": "stderr",
     "output_type": "stream",
     "text": [
      "c:\\ProgramData\\Anaconda3\\envs\\Introduccion_al_ML_IB\\lib\\site-packages\\xgboost\\sklearn.py:1224: UserWarning: The use of label encoder in XGBClassifier is deprecated and will be removed in a future release. To remove this warning, do the following: 1) Pass option use_label_encoder=False when constructing XGBClassifier object; and 2) Encode your labels (y) as integers starting with 0, i.e. 0, 1, 2, ..., [num_class - 1].\n",
      "  warnings.warn(label_encoder_deprecation_msg, UserWarning)\n",
      "c:\\ProgramData\\Anaconda3\\envs\\Introduccion_al_ML_IB\\lib\\site-packages\\xgboost\\data.py:250: FutureWarning: pandas.Int64Index is deprecated and will be removed from pandas in a future version. Use pandas.Index with the appropriate dtype instead.\n",
      "  elif isinstance(data.columns, (pd.Int64Index, pd.RangeIndex)):\n"
     ]
    },
    {
     "name": "stdout",
     "output_type": "stream",
     "text": [
      "[18:19:48] WARNING: C:\\Windows\\Temp\\abs_557yfx631l\\croots\\recipe\\xgboost-split_1659548953302\\work\\src\\learner.cc:1115: Starting in XGBoost 1.3.0, the default evaluation metric used with the objective 'multi:softprob' was changed from 'merror' to 'mlogloss'. Explicitly set eval_metric if you'd like to restore the old behavior.\n",
      "[CV 1/5] END eta=0.5, gamma=0, max_depth=20, subsample=0.75;, score=(train=1.000, test=0.966) total time= 3.7min\n"
     ]
    },
    {
     "name": "stderr",
     "output_type": "stream",
     "text": [
      "c:\\ProgramData\\Anaconda3\\envs\\Introduccion_al_ML_IB\\lib\\site-packages\\xgboost\\sklearn.py:1224: UserWarning: The use of label encoder in XGBClassifier is deprecated and will be removed in a future release. To remove this warning, do the following: 1) Pass option use_label_encoder=False when constructing XGBClassifier object; and 2) Encode your labels (y) as integers starting with 0, i.e. 0, 1, 2, ..., [num_class - 1].\n",
      "  warnings.warn(label_encoder_deprecation_msg, UserWarning)\n",
      "c:\\ProgramData\\Anaconda3\\envs\\Introduccion_al_ML_IB\\lib\\site-packages\\xgboost\\data.py:250: FutureWarning: pandas.Int64Index is deprecated and will be removed from pandas in a future version. Use pandas.Index with the appropriate dtype instead.\n",
      "  elif isinstance(data.columns, (pd.Int64Index, pd.RangeIndex)):\n"
     ]
    },
    {
     "name": "stdout",
     "output_type": "stream",
     "text": [
      "[18:23:32] WARNING: C:\\Windows\\Temp\\abs_557yfx631l\\croots\\recipe\\xgboost-split_1659548953302\\work\\src\\learner.cc:1115: Starting in XGBoost 1.3.0, the default evaluation metric used with the objective 'multi:softprob' was changed from 'merror' to 'mlogloss'. Explicitly set eval_metric if you'd like to restore the old behavior.\n",
      "[CV 2/5] END eta=0.5, gamma=0, max_depth=20, subsample=0.75;, score=(train=1.000, test=0.965) total time= 3.6min\n"
     ]
    },
    {
     "name": "stderr",
     "output_type": "stream",
     "text": [
      "c:\\ProgramData\\Anaconda3\\envs\\Introduccion_al_ML_IB\\lib\\site-packages\\xgboost\\sklearn.py:1224: UserWarning: The use of label encoder in XGBClassifier is deprecated and will be removed in a future release. To remove this warning, do the following: 1) Pass option use_label_encoder=False when constructing XGBClassifier object; and 2) Encode your labels (y) as integers starting with 0, i.e. 0, 1, 2, ..., [num_class - 1].\n",
      "  warnings.warn(label_encoder_deprecation_msg, UserWarning)\n",
      "c:\\ProgramData\\Anaconda3\\envs\\Introduccion_al_ML_IB\\lib\\site-packages\\xgboost\\data.py:250: FutureWarning: pandas.Int64Index is deprecated and will be removed from pandas in a future version. Use pandas.Index with the appropriate dtype instead.\n",
      "  elif isinstance(data.columns, (pd.Int64Index, pd.RangeIndex)):\n"
     ]
    },
    {
     "name": "stdout",
     "output_type": "stream",
     "text": [
      "[18:27:13] WARNING: C:\\Windows\\Temp\\abs_557yfx631l\\croots\\recipe\\xgboost-split_1659548953302\\work\\src\\learner.cc:1115: Starting in XGBoost 1.3.0, the default evaluation metric used with the objective 'multi:softprob' was changed from 'merror' to 'mlogloss'. Explicitly set eval_metric if you'd like to restore the old behavior.\n",
      "[CV 3/5] END eta=0.5, gamma=0, max_depth=20, subsample=0.75;, score=(train=1.000, test=0.967) total time= 3.7min\n"
     ]
    },
    {
     "name": "stderr",
     "output_type": "stream",
     "text": [
      "c:\\ProgramData\\Anaconda3\\envs\\Introduccion_al_ML_IB\\lib\\site-packages\\xgboost\\sklearn.py:1224: UserWarning: The use of label encoder in XGBClassifier is deprecated and will be removed in a future release. To remove this warning, do the following: 1) Pass option use_label_encoder=False when constructing XGBClassifier object; and 2) Encode your labels (y) as integers starting with 0, i.e. 0, 1, 2, ..., [num_class - 1].\n",
      "  warnings.warn(label_encoder_deprecation_msg, UserWarning)\n",
      "c:\\ProgramData\\Anaconda3\\envs\\Introduccion_al_ML_IB\\lib\\site-packages\\xgboost\\data.py:250: FutureWarning: pandas.Int64Index is deprecated and will be removed from pandas in a future version. Use pandas.Index with the appropriate dtype instead.\n",
      "  elif isinstance(data.columns, (pd.Int64Index, pd.RangeIndex)):\n"
     ]
    },
    {
     "name": "stdout",
     "output_type": "stream",
     "text": [
      "[18:30:56] WARNING: C:\\Windows\\Temp\\abs_557yfx631l\\croots\\recipe\\xgboost-split_1659548953302\\work\\src\\learner.cc:1115: Starting in XGBoost 1.3.0, the default evaluation metric used with the objective 'multi:softprob' was changed from 'merror' to 'mlogloss'. Explicitly set eval_metric if you'd like to restore the old behavior.\n",
      "[CV 4/5] END eta=0.5, gamma=0, max_depth=20, subsample=0.75;, score=(train=1.000, test=0.966) total time= 3.7min\n"
     ]
    },
    {
     "name": "stderr",
     "output_type": "stream",
     "text": [
      "c:\\ProgramData\\Anaconda3\\envs\\Introduccion_al_ML_IB\\lib\\site-packages\\xgboost\\sklearn.py:1224: UserWarning: The use of label encoder in XGBClassifier is deprecated and will be removed in a future release. To remove this warning, do the following: 1) Pass option use_label_encoder=False when constructing XGBClassifier object; and 2) Encode your labels (y) as integers starting with 0, i.e. 0, 1, 2, ..., [num_class - 1].\n",
      "  warnings.warn(label_encoder_deprecation_msg, UserWarning)\n",
      "c:\\ProgramData\\Anaconda3\\envs\\Introduccion_al_ML_IB\\lib\\site-packages\\xgboost\\data.py:250: FutureWarning: pandas.Int64Index is deprecated and will be removed from pandas in a future version. Use pandas.Index with the appropriate dtype instead.\n",
      "  elif isinstance(data.columns, (pd.Int64Index, pd.RangeIndex)):\n"
     ]
    },
    {
     "name": "stdout",
     "output_type": "stream",
     "text": [
      "[18:34:39] WARNING: C:\\Windows\\Temp\\abs_557yfx631l\\croots\\recipe\\xgboost-split_1659548953302\\work\\src\\learner.cc:1115: Starting in XGBoost 1.3.0, the default evaluation metric used with the objective 'multi:softprob' was changed from 'merror' to 'mlogloss'. Explicitly set eval_metric if you'd like to restore the old behavior.\n",
      "[CV 5/5] END eta=0.5, gamma=0, max_depth=20, subsample=0.75;, score=(train=1.000, test=0.964) total time= 3.6min\n"
     ]
    },
    {
     "name": "stderr",
     "output_type": "stream",
     "text": [
      "c:\\ProgramData\\Anaconda3\\envs\\Introduccion_al_ML_IB\\lib\\site-packages\\xgboost\\sklearn.py:1224: UserWarning: The use of label encoder in XGBClassifier is deprecated and will be removed in a future release. To remove this warning, do the following: 1) Pass option use_label_encoder=False when constructing XGBClassifier object; and 2) Encode your labels (y) as integers starting with 0, i.e. 0, 1, 2, ..., [num_class - 1].\n",
      "  warnings.warn(label_encoder_deprecation_msg, UserWarning)\n",
      "c:\\ProgramData\\Anaconda3\\envs\\Introduccion_al_ML_IB\\lib\\site-packages\\xgboost\\data.py:250: FutureWarning: pandas.Int64Index is deprecated and will be removed from pandas in a future version. Use pandas.Index with the appropriate dtype instead.\n",
      "  elif isinstance(data.columns, (pd.Int64Index, pd.RangeIndex)):\n"
     ]
    },
    {
     "name": "stdout",
     "output_type": "stream",
     "text": [
      "[18:38:21] WARNING: C:\\Windows\\Temp\\abs_557yfx631l\\croots\\recipe\\xgboost-split_1659548953302\\work\\src\\learner.cc:1115: Starting in XGBoost 1.3.0, the default evaluation metric used with the objective 'multi:softprob' was changed from 'merror' to 'mlogloss'. Explicitly set eval_metric if you'd like to restore the old behavior.\n",
      "[CV 1/5] END eta=0.5, gamma=0, max_depth=20, subsample=1.0;, score=(train=1.000, test=0.967) total time= 3.7min\n"
     ]
    },
    {
     "name": "stderr",
     "output_type": "stream",
     "text": [
      "c:\\ProgramData\\Anaconda3\\envs\\Introduccion_al_ML_IB\\lib\\site-packages\\xgboost\\sklearn.py:1224: UserWarning: The use of label encoder in XGBClassifier is deprecated and will be removed in a future release. To remove this warning, do the following: 1) Pass option use_label_encoder=False when constructing XGBClassifier object; and 2) Encode your labels (y) as integers starting with 0, i.e. 0, 1, 2, ..., [num_class - 1].\n",
      "  warnings.warn(label_encoder_deprecation_msg, UserWarning)\n",
      "c:\\ProgramData\\Anaconda3\\envs\\Introduccion_al_ML_IB\\lib\\site-packages\\xgboost\\data.py:250: FutureWarning: pandas.Int64Index is deprecated and will be removed from pandas in a future version. Use pandas.Index with the appropriate dtype instead.\n",
      "  elif isinstance(data.columns, (pd.Int64Index, pd.RangeIndex)):\n"
     ]
    },
    {
     "name": "stdout",
     "output_type": "stream",
     "text": [
      "[18:42:06] WARNING: C:\\Windows\\Temp\\abs_557yfx631l\\croots\\recipe\\xgboost-split_1659548953302\\work\\src\\learner.cc:1115: Starting in XGBoost 1.3.0, the default evaluation metric used with the objective 'multi:softprob' was changed from 'merror' to 'mlogloss'. Explicitly set eval_metric if you'd like to restore the old behavior.\n",
      "[CV 2/5] END eta=0.5, gamma=0, max_depth=20, subsample=1.0;, score=(train=1.000, test=0.967) total time= 3.7min\n"
     ]
    },
    {
     "name": "stderr",
     "output_type": "stream",
     "text": [
      "c:\\ProgramData\\Anaconda3\\envs\\Introduccion_al_ML_IB\\lib\\site-packages\\xgboost\\sklearn.py:1224: UserWarning: The use of label encoder in XGBClassifier is deprecated and will be removed in a future release. To remove this warning, do the following: 1) Pass option use_label_encoder=False when constructing XGBClassifier object; and 2) Encode your labels (y) as integers starting with 0, i.e. 0, 1, 2, ..., [num_class - 1].\n",
      "  warnings.warn(label_encoder_deprecation_msg, UserWarning)\n",
      "c:\\ProgramData\\Anaconda3\\envs\\Introduccion_al_ML_IB\\lib\\site-packages\\xgboost\\data.py:250: FutureWarning: pandas.Int64Index is deprecated and will be removed from pandas in a future version. Use pandas.Index with the appropriate dtype instead.\n",
      "  elif isinstance(data.columns, (pd.Int64Index, pd.RangeIndex)):\n"
     ]
    },
    {
     "name": "stdout",
     "output_type": "stream",
     "text": [
      "[18:45:51] WARNING: C:\\Windows\\Temp\\abs_557yfx631l\\croots\\recipe\\xgboost-split_1659548953302\\work\\src\\learner.cc:1115: Starting in XGBoost 1.3.0, the default evaluation metric used with the objective 'multi:softprob' was changed from 'merror' to 'mlogloss'. Explicitly set eval_metric if you'd like to restore the old behavior.\n",
      "[CV 3/5] END eta=0.5, gamma=0, max_depth=20, subsample=1.0;, score=(train=1.000, test=0.967) total time= 3.7min\n"
     ]
    },
    {
     "name": "stderr",
     "output_type": "stream",
     "text": [
      "c:\\ProgramData\\Anaconda3\\envs\\Introduccion_al_ML_IB\\lib\\site-packages\\xgboost\\sklearn.py:1224: UserWarning: The use of label encoder in XGBClassifier is deprecated and will be removed in a future release. To remove this warning, do the following: 1) Pass option use_label_encoder=False when constructing XGBClassifier object; and 2) Encode your labels (y) as integers starting with 0, i.e. 0, 1, 2, ..., [num_class - 1].\n",
      "  warnings.warn(label_encoder_deprecation_msg, UserWarning)\n",
      "c:\\ProgramData\\Anaconda3\\envs\\Introduccion_al_ML_IB\\lib\\site-packages\\xgboost\\data.py:250: FutureWarning: pandas.Int64Index is deprecated and will be removed from pandas in a future version. Use pandas.Index with the appropriate dtype instead.\n",
      "  elif isinstance(data.columns, (pd.Int64Index, pd.RangeIndex)):\n"
     ]
    },
    {
     "name": "stdout",
     "output_type": "stream",
     "text": [
      "[18:49:37] WARNING: C:\\Windows\\Temp\\abs_557yfx631l\\croots\\recipe\\xgboost-split_1659548953302\\work\\src\\learner.cc:1115: Starting in XGBoost 1.3.0, the default evaluation metric used with the objective 'multi:softprob' was changed from 'merror' to 'mlogloss'. Explicitly set eval_metric if you'd like to restore the old behavior.\n",
      "[CV 4/5] END eta=0.5, gamma=0, max_depth=20, subsample=1.0;, score=(train=1.000, test=0.967) total time= 3.7min\n"
     ]
    },
    {
     "name": "stderr",
     "output_type": "stream",
     "text": [
      "c:\\ProgramData\\Anaconda3\\envs\\Introduccion_al_ML_IB\\lib\\site-packages\\xgboost\\sklearn.py:1224: UserWarning: The use of label encoder in XGBClassifier is deprecated and will be removed in a future release. To remove this warning, do the following: 1) Pass option use_label_encoder=False when constructing XGBClassifier object; and 2) Encode your labels (y) as integers starting with 0, i.e. 0, 1, 2, ..., [num_class - 1].\n",
      "  warnings.warn(label_encoder_deprecation_msg, UserWarning)\n",
      "c:\\ProgramData\\Anaconda3\\envs\\Introduccion_al_ML_IB\\lib\\site-packages\\xgboost\\data.py:250: FutureWarning: pandas.Int64Index is deprecated and will be removed from pandas in a future version. Use pandas.Index with the appropriate dtype instead.\n",
      "  elif isinstance(data.columns, (pd.Int64Index, pd.RangeIndex)):\n"
     ]
    },
    {
     "name": "stdout",
     "output_type": "stream",
     "text": [
      "[18:53:21] WARNING: C:\\Windows\\Temp\\abs_557yfx631l\\croots\\recipe\\xgboost-split_1659548953302\\work\\src\\learner.cc:1115: Starting in XGBoost 1.3.0, the default evaluation metric used with the objective 'multi:softprob' was changed from 'merror' to 'mlogloss'. Explicitly set eval_metric if you'd like to restore the old behavior.\n",
      "[CV 5/5] END eta=0.5, gamma=0, max_depth=20, subsample=1.0;, score=(train=1.000, test=0.966) total time= 3.7min\n"
     ]
    },
    {
     "name": "stderr",
     "output_type": "stream",
     "text": [
      "c:\\ProgramData\\Anaconda3\\envs\\Introduccion_al_ML_IB\\lib\\site-packages\\xgboost\\sklearn.py:1224: UserWarning: The use of label encoder in XGBClassifier is deprecated and will be removed in a future release. To remove this warning, do the following: 1) Pass option use_label_encoder=False when constructing XGBClassifier object; and 2) Encode your labels (y) as integers starting with 0, i.e. 0, 1, 2, ..., [num_class - 1].\n",
      "  warnings.warn(label_encoder_deprecation_msg, UserWarning)\n",
      "c:\\ProgramData\\Anaconda3\\envs\\Introduccion_al_ML_IB\\lib\\site-packages\\xgboost\\data.py:250: FutureWarning: pandas.Int64Index is deprecated and will be removed from pandas in a future version. Use pandas.Index with the appropriate dtype instead.\n",
      "  elif isinstance(data.columns, (pd.Int64Index, pd.RangeIndex)):\n"
     ]
    },
    {
     "name": "stdout",
     "output_type": "stream",
     "text": [
      "[18:57:04] WARNING: C:\\Windows\\Temp\\abs_557yfx631l\\croots\\recipe\\xgboost-split_1659548953302\\work\\src\\learner.cc:1115: Starting in XGBoost 1.3.0, the default evaluation metric used with the objective 'multi:softprob' was changed from 'merror' to 'mlogloss'. Explicitly set eval_metric if you'd like to restore the old behavior.\n",
      "[CV 1/5] END eta=0.5, gamma=0, max_depth=40, subsample=0.75;, score=(train=1.000, test=0.966) total time= 4.3min\n"
     ]
    },
    {
     "name": "stderr",
     "output_type": "stream",
     "text": [
      "c:\\ProgramData\\Anaconda3\\envs\\Introduccion_al_ML_IB\\lib\\site-packages\\xgboost\\sklearn.py:1224: UserWarning: The use of label encoder in XGBClassifier is deprecated and will be removed in a future release. To remove this warning, do the following: 1) Pass option use_label_encoder=False when constructing XGBClassifier object; and 2) Encode your labels (y) as integers starting with 0, i.e. 0, 1, 2, ..., [num_class - 1].\n",
      "  warnings.warn(label_encoder_deprecation_msg, UserWarning)\n",
      "c:\\ProgramData\\Anaconda3\\envs\\Introduccion_al_ML_IB\\lib\\site-packages\\xgboost\\data.py:250: FutureWarning: pandas.Int64Index is deprecated and will be removed from pandas in a future version. Use pandas.Index with the appropriate dtype instead.\n",
      "  elif isinstance(data.columns, (pd.Int64Index, pd.RangeIndex)):\n"
     ]
    },
    {
     "name": "stdout",
     "output_type": "stream",
     "text": [
      "[19:01:26] WARNING: C:\\Windows\\Temp\\abs_557yfx631l\\croots\\recipe\\xgboost-split_1659548953302\\work\\src\\learner.cc:1115: Starting in XGBoost 1.3.0, the default evaluation metric used with the objective 'multi:softprob' was changed from 'merror' to 'mlogloss'. Explicitly set eval_metric if you'd like to restore the old behavior.\n",
      "[CV 2/5] END eta=0.5, gamma=0, max_depth=40, subsample=0.75;, score=(train=1.000, test=0.966) total time= 4.3min\n"
     ]
    },
    {
     "name": "stderr",
     "output_type": "stream",
     "text": [
      "c:\\ProgramData\\Anaconda3\\envs\\Introduccion_al_ML_IB\\lib\\site-packages\\xgboost\\sklearn.py:1224: UserWarning: The use of label encoder in XGBClassifier is deprecated and will be removed in a future release. To remove this warning, do the following: 1) Pass option use_label_encoder=False when constructing XGBClassifier object; and 2) Encode your labels (y) as integers starting with 0, i.e. 0, 1, 2, ..., [num_class - 1].\n",
      "  warnings.warn(label_encoder_deprecation_msg, UserWarning)\n",
      "c:\\ProgramData\\Anaconda3\\envs\\Introduccion_al_ML_IB\\lib\\site-packages\\xgboost\\data.py:250: FutureWarning: pandas.Int64Index is deprecated and will be removed from pandas in a future version. Use pandas.Index with the appropriate dtype instead.\n",
      "  elif isinstance(data.columns, (pd.Int64Index, pd.RangeIndex)):\n"
     ]
    },
    {
     "name": "stdout",
     "output_type": "stream",
     "text": [
      "[19:05:48] WARNING: C:\\Windows\\Temp\\abs_557yfx631l\\croots\\recipe\\xgboost-split_1659548953302\\work\\src\\learner.cc:1115: Starting in XGBoost 1.3.0, the default evaluation metric used with the objective 'multi:softprob' was changed from 'merror' to 'mlogloss'. Explicitly set eval_metric if you'd like to restore the old behavior.\n",
      "[CV 3/5] END eta=0.5, gamma=0, max_depth=40, subsample=0.75;, score=(train=1.000, test=0.967) total time= 4.3min\n"
     ]
    },
    {
     "name": "stderr",
     "output_type": "stream",
     "text": [
      "c:\\ProgramData\\Anaconda3\\envs\\Introduccion_al_ML_IB\\lib\\site-packages\\xgboost\\sklearn.py:1224: UserWarning: The use of label encoder in XGBClassifier is deprecated and will be removed in a future release. To remove this warning, do the following: 1) Pass option use_label_encoder=False when constructing XGBClassifier object; and 2) Encode your labels (y) as integers starting with 0, i.e. 0, 1, 2, ..., [num_class - 1].\n",
      "  warnings.warn(label_encoder_deprecation_msg, UserWarning)\n",
      "c:\\ProgramData\\Anaconda3\\envs\\Introduccion_al_ML_IB\\lib\\site-packages\\xgboost\\data.py:250: FutureWarning: pandas.Int64Index is deprecated and will be removed from pandas in a future version. Use pandas.Index with the appropriate dtype instead.\n",
      "  elif isinstance(data.columns, (pd.Int64Index, pd.RangeIndex)):\n"
     ]
    },
    {
     "name": "stdout",
     "output_type": "stream",
     "text": [
      "[19:10:10] WARNING: C:\\Windows\\Temp\\abs_557yfx631l\\croots\\recipe\\xgboost-split_1659548953302\\work\\src\\learner.cc:1115: Starting in XGBoost 1.3.0, the default evaluation metric used with the objective 'multi:softprob' was changed from 'merror' to 'mlogloss'. Explicitly set eval_metric if you'd like to restore the old behavior.\n",
      "[CV 4/5] END eta=0.5, gamma=0, max_depth=40, subsample=0.75;, score=(train=1.000, test=0.966) total time= 4.3min\n"
     ]
    },
    {
     "name": "stderr",
     "output_type": "stream",
     "text": [
      "c:\\ProgramData\\Anaconda3\\envs\\Introduccion_al_ML_IB\\lib\\site-packages\\xgboost\\sklearn.py:1224: UserWarning: The use of label encoder in XGBClassifier is deprecated and will be removed in a future release. To remove this warning, do the following: 1) Pass option use_label_encoder=False when constructing XGBClassifier object; and 2) Encode your labels (y) as integers starting with 0, i.e. 0, 1, 2, ..., [num_class - 1].\n",
      "  warnings.warn(label_encoder_deprecation_msg, UserWarning)\n",
      "c:\\ProgramData\\Anaconda3\\envs\\Introduccion_al_ML_IB\\lib\\site-packages\\xgboost\\data.py:250: FutureWarning: pandas.Int64Index is deprecated and will be removed from pandas in a future version. Use pandas.Index with the appropriate dtype instead.\n",
      "  elif isinstance(data.columns, (pd.Int64Index, pd.RangeIndex)):\n"
     ]
    },
    {
     "name": "stdout",
     "output_type": "stream",
     "text": [
      "[19:14:33] WARNING: C:\\Windows\\Temp\\abs_557yfx631l\\croots\\recipe\\xgboost-split_1659548953302\\work\\src\\learner.cc:1115: Starting in XGBoost 1.3.0, the default evaluation metric used with the objective 'multi:softprob' was changed from 'merror' to 'mlogloss'. Explicitly set eval_metric if you'd like to restore the old behavior.\n",
      "[CV 5/5] END eta=0.5, gamma=0, max_depth=40, subsample=0.75;, score=(train=1.000, test=0.965) total time= 4.3min\n"
     ]
    },
    {
     "name": "stderr",
     "output_type": "stream",
     "text": [
      "c:\\ProgramData\\Anaconda3\\envs\\Introduccion_al_ML_IB\\lib\\site-packages\\xgboost\\sklearn.py:1224: UserWarning: The use of label encoder in XGBClassifier is deprecated and will be removed in a future release. To remove this warning, do the following: 1) Pass option use_label_encoder=False when constructing XGBClassifier object; and 2) Encode your labels (y) as integers starting with 0, i.e. 0, 1, 2, ..., [num_class - 1].\n",
      "  warnings.warn(label_encoder_deprecation_msg, UserWarning)\n",
      "c:\\ProgramData\\Anaconda3\\envs\\Introduccion_al_ML_IB\\lib\\site-packages\\xgboost\\data.py:250: FutureWarning: pandas.Int64Index is deprecated and will be removed from pandas in a future version. Use pandas.Index with the appropriate dtype instead.\n",
      "  elif isinstance(data.columns, (pd.Int64Index, pd.RangeIndex)):\n"
     ]
    },
    {
     "name": "stdout",
     "output_type": "stream",
     "text": [
      "[19:18:53] WARNING: C:\\Windows\\Temp\\abs_557yfx631l\\croots\\recipe\\xgboost-split_1659548953302\\work\\src\\learner.cc:1115: Starting in XGBoost 1.3.0, the default evaluation metric used with the objective 'multi:softprob' was changed from 'merror' to 'mlogloss'. Explicitly set eval_metric if you'd like to restore the old behavior.\n",
      "[CV 1/5] END eta=0.5, gamma=0, max_depth=40, subsample=1.0;, score=(train=1.000, test=0.967) total time= 4.6min\n"
     ]
    },
    {
     "name": "stderr",
     "output_type": "stream",
     "text": [
      "c:\\ProgramData\\Anaconda3\\envs\\Introduccion_al_ML_IB\\lib\\site-packages\\xgboost\\sklearn.py:1224: UserWarning: The use of label encoder in XGBClassifier is deprecated and will be removed in a future release. To remove this warning, do the following: 1) Pass option use_label_encoder=False when constructing XGBClassifier object; and 2) Encode your labels (y) as integers starting with 0, i.e. 0, 1, 2, ..., [num_class - 1].\n",
      "  warnings.warn(label_encoder_deprecation_msg, UserWarning)\n",
      "c:\\ProgramData\\Anaconda3\\envs\\Introduccion_al_ML_IB\\lib\\site-packages\\xgboost\\data.py:250: FutureWarning: pandas.Int64Index is deprecated and will be removed from pandas in a future version. Use pandas.Index with the appropriate dtype instead.\n",
      "  elif isinstance(data.columns, (pd.Int64Index, pd.RangeIndex)):\n"
     ]
    },
    {
     "name": "stdout",
     "output_type": "stream",
     "text": [
      "[19:23:30] WARNING: C:\\Windows\\Temp\\abs_557yfx631l\\croots\\recipe\\xgboost-split_1659548953302\\work\\src\\learner.cc:1115: Starting in XGBoost 1.3.0, the default evaluation metric used with the objective 'multi:softprob' was changed from 'merror' to 'mlogloss'. Explicitly set eval_metric if you'd like to restore the old behavior.\n",
      "[CV 2/5] END eta=0.5, gamma=0, max_depth=40, subsample=1.0;, score=(train=1.000, test=0.967) total time= 4.6min\n"
     ]
    },
    {
     "name": "stderr",
     "output_type": "stream",
     "text": [
      "c:\\ProgramData\\Anaconda3\\envs\\Introduccion_al_ML_IB\\lib\\site-packages\\xgboost\\sklearn.py:1224: UserWarning: The use of label encoder in XGBClassifier is deprecated and will be removed in a future release. To remove this warning, do the following: 1) Pass option use_label_encoder=False when constructing XGBClassifier object; and 2) Encode your labels (y) as integers starting with 0, i.e. 0, 1, 2, ..., [num_class - 1].\n",
      "  warnings.warn(label_encoder_deprecation_msg, UserWarning)\n",
      "c:\\ProgramData\\Anaconda3\\envs\\Introduccion_al_ML_IB\\lib\\site-packages\\xgboost\\data.py:250: FutureWarning: pandas.Int64Index is deprecated and will be removed from pandas in a future version. Use pandas.Index with the appropriate dtype instead.\n",
      "  elif isinstance(data.columns, (pd.Int64Index, pd.RangeIndex)):\n"
     ]
    },
    {
     "name": "stdout",
     "output_type": "stream",
     "text": [
      "[19:28:07] WARNING: C:\\Windows\\Temp\\abs_557yfx631l\\croots\\recipe\\xgboost-split_1659548953302\\work\\src\\learner.cc:1115: Starting in XGBoost 1.3.0, the default evaluation metric used with the objective 'multi:softprob' was changed from 'merror' to 'mlogloss'. Explicitly set eval_metric if you'd like to restore the old behavior.\n",
      "[CV 3/5] END eta=0.5, gamma=0, max_depth=40, subsample=1.0;, score=(train=1.000, test=0.968) total time= 4.6min\n"
     ]
    },
    {
     "name": "stderr",
     "output_type": "stream",
     "text": [
      "c:\\ProgramData\\Anaconda3\\envs\\Introduccion_al_ML_IB\\lib\\site-packages\\xgboost\\sklearn.py:1224: UserWarning: The use of label encoder in XGBClassifier is deprecated and will be removed in a future release. To remove this warning, do the following: 1) Pass option use_label_encoder=False when constructing XGBClassifier object; and 2) Encode your labels (y) as integers starting with 0, i.e. 0, 1, 2, ..., [num_class - 1].\n",
      "  warnings.warn(label_encoder_deprecation_msg, UserWarning)\n",
      "c:\\ProgramData\\Anaconda3\\envs\\Introduccion_al_ML_IB\\lib\\site-packages\\xgboost\\data.py:250: FutureWarning: pandas.Int64Index is deprecated and will be removed from pandas in a future version. Use pandas.Index with the appropriate dtype instead.\n",
      "  elif isinstance(data.columns, (pd.Int64Index, pd.RangeIndex)):\n"
     ]
    },
    {
     "name": "stdout",
     "output_type": "stream",
     "text": [
      "[19:32:45] WARNING: C:\\Windows\\Temp\\abs_557yfx631l\\croots\\recipe\\xgboost-split_1659548953302\\work\\src\\learner.cc:1115: Starting in XGBoost 1.3.0, the default evaluation metric used with the objective 'multi:softprob' was changed from 'merror' to 'mlogloss'. Explicitly set eval_metric if you'd like to restore the old behavior.\n",
      "[CV 4/5] END eta=0.5, gamma=0, max_depth=40, subsample=1.0;, score=(train=1.000, test=0.967) total time= 4.6min\n"
     ]
    },
    {
     "name": "stderr",
     "output_type": "stream",
     "text": [
      "c:\\ProgramData\\Anaconda3\\envs\\Introduccion_al_ML_IB\\lib\\site-packages\\xgboost\\sklearn.py:1224: UserWarning: The use of label encoder in XGBClassifier is deprecated and will be removed in a future release. To remove this warning, do the following: 1) Pass option use_label_encoder=False when constructing XGBClassifier object; and 2) Encode your labels (y) as integers starting with 0, i.e. 0, 1, 2, ..., [num_class - 1].\n",
      "  warnings.warn(label_encoder_deprecation_msg, UserWarning)\n",
      "c:\\ProgramData\\Anaconda3\\envs\\Introduccion_al_ML_IB\\lib\\site-packages\\xgboost\\data.py:250: FutureWarning: pandas.Int64Index is deprecated and will be removed from pandas in a future version. Use pandas.Index with the appropriate dtype instead.\n",
      "  elif isinstance(data.columns, (pd.Int64Index, pd.RangeIndex)):\n"
     ]
    },
    {
     "name": "stdout",
     "output_type": "stream",
     "text": [
      "[19:37:25] WARNING: C:\\Windows\\Temp\\abs_557yfx631l\\croots\\recipe\\xgboost-split_1659548953302\\work\\src\\learner.cc:1115: Starting in XGBoost 1.3.0, the default evaluation metric used with the objective 'multi:softprob' was changed from 'merror' to 'mlogloss'. Explicitly set eval_metric if you'd like to restore the old behavior.\n",
      "[CV 5/5] END eta=0.5, gamma=0, max_depth=40, subsample=1.0;, score=(train=1.000, test=0.965) total time= 4.5min\n"
     ]
    },
    {
     "name": "stderr",
     "output_type": "stream",
     "text": [
      "c:\\ProgramData\\Anaconda3\\envs\\Introduccion_al_ML_IB\\lib\\site-packages\\xgboost\\sklearn.py:1224: UserWarning: The use of label encoder in XGBClassifier is deprecated and will be removed in a future release. To remove this warning, do the following: 1) Pass option use_label_encoder=False when constructing XGBClassifier object; and 2) Encode your labels (y) as integers starting with 0, i.e. 0, 1, 2, ..., [num_class - 1].\n",
      "  warnings.warn(label_encoder_deprecation_msg, UserWarning)\n",
      "c:\\ProgramData\\Anaconda3\\envs\\Introduccion_al_ML_IB\\lib\\site-packages\\xgboost\\data.py:250: FutureWarning: pandas.Int64Index is deprecated and will be removed from pandas in a future version. Use pandas.Index with the appropriate dtype instead.\n",
      "  elif isinstance(data.columns, (pd.Int64Index, pd.RangeIndex)):\n"
     ]
    },
    {
     "name": "stdout",
     "output_type": "stream",
     "text": [
      "[19:42:00] WARNING: C:\\Windows\\Temp\\abs_557yfx631l\\croots\\recipe\\xgboost-split_1659548953302\\work\\src\\learner.cc:1115: Starting in XGBoost 1.3.0, the default evaluation metric used with the objective 'multi:softprob' was changed from 'merror' to 'mlogloss'. Explicitly set eval_metric if you'd like to restore the old behavior.\n",
      "[CV 1/5] END eta=0.5, gamma=0, max_depth=60, subsample=0.75;, score=(train=1.000, test=0.966) total time= 4.4min\n"
     ]
    },
    {
     "name": "stderr",
     "output_type": "stream",
     "text": [
      "c:\\ProgramData\\Anaconda3\\envs\\Introduccion_al_ML_IB\\lib\\site-packages\\xgboost\\sklearn.py:1224: UserWarning: The use of label encoder in XGBClassifier is deprecated and will be removed in a future release. To remove this warning, do the following: 1) Pass option use_label_encoder=False when constructing XGBClassifier object; and 2) Encode your labels (y) as integers starting with 0, i.e. 0, 1, 2, ..., [num_class - 1].\n",
      "  warnings.warn(label_encoder_deprecation_msg, UserWarning)\n",
      "c:\\ProgramData\\Anaconda3\\envs\\Introduccion_al_ML_IB\\lib\\site-packages\\xgboost\\data.py:250: FutureWarning: pandas.Int64Index is deprecated and will be removed from pandas in a future version. Use pandas.Index with the appropriate dtype instead.\n",
      "  elif isinstance(data.columns, (pd.Int64Index, pd.RangeIndex)):\n"
     ]
    },
    {
     "name": "stdout",
     "output_type": "stream",
     "text": [
      "[19:46:26] WARNING: C:\\Windows\\Temp\\abs_557yfx631l\\croots\\recipe\\xgboost-split_1659548953302\\work\\src\\learner.cc:1115: Starting in XGBoost 1.3.0, the default evaluation metric used with the objective 'multi:softprob' was changed from 'merror' to 'mlogloss'. Explicitly set eval_metric if you'd like to restore the old behavior.\n",
      "[CV 2/5] END eta=0.5, gamma=0, max_depth=60, subsample=0.75;, score=(train=1.000, test=0.966) total time= 4.4min\n"
     ]
    },
    {
     "name": "stderr",
     "output_type": "stream",
     "text": [
      "c:\\ProgramData\\Anaconda3\\envs\\Introduccion_al_ML_IB\\lib\\site-packages\\xgboost\\sklearn.py:1224: UserWarning: The use of label encoder in XGBClassifier is deprecated and will be removed in a future release. To remove this warning, do the following: 1) Pass option use_label_encoder=False when constructing XGBClassifier object; and 2) Encode your labels (y) as integers starting with 0, i.e. 0, 1, 2, ..., [num_class - 1].\n",
      "  warnings.warn(label_encoder_deprecation_msg, UserWarning)\n",
      "c:\\ProgramData\\Anaconda3\\envs\\Introduccion_al_ML_IB\\lib\\site-packages\\xgboost\\data.py:250: FutureWarning: pandas.Int64Index is deprecated and will be removed from pandas in a future version. Use pandas.Index with the appropriate dtype instead.\n",
      "  elif isinstance(data.columns, (pd.Int64Index, pd.RangeIndex)):\n"
     ]
    },
    {
     "name": "stdout",
     "output_type": "stream",
     "text": [
      "[19:50:51] WARNING: C:\\Windows\\Temp\\abs_557yfx631l\\croots\\recipe\\xgboost-split_1659548953302\\work\\src\\learner.cc:1115: Starting in XGBoost 1.3.0, the default evaluation metric used with the objective 'multi:softprob' was changed from 'merror' to 'mlogloss'. Explicitly set eval_metric if you'd like to restore the old behavior.\n",
      "[CV 3/5] END eta=0.5, gamma=0, max_depth=60, subsample=0.75;, score=(train=1.000, test=0.967) total time= 4.3min\n"
     ]
    },
    {
     "name": "stderr",
     "output_type": "stream",
     "text": [
      "c:\\ProgramData\\Anaconda3\\envs\\Introduccion_al_ML_IB\\lib\\site-packages\\xgboost\\sklearn.py:1224: UserWarning: The use of label encoder in XGBClassifier is deprecated and will be removed in a future release. To remove this warning, do the following: 1) Pass option use_label_encoder=False when constructing XGBClassifier object; and 2) Encode your labels (y) as integers starting with 0, i.e. 0, 1, 2, ..., [num_class - 1].\n",
      "  warnings.warn(label_encoder_deprecation_msg, UserWarning)\n",
      "c:\\ProgramData\\Anaconda3\\envs\\Introduccion_al_ML_IB\\lib\\site-packages\\xgboost\\data.py:250: FutureWarning: pandas.Int64Index is deprecated and will be removed from pandas in a future version. Use pandas.Index with the appropriate dtype instead.\n",
      "  elif isinstance(data.columns, (pd.Int64Index, pd.RangeIndex)):\n"
     ]
    },
    {
     "name": "stdout",
     "output_type": "stream",
     "text": [
      "[19:55:15] WARNING: C:\\Windows\\Temp\\abs_557yfx631l\\croots\\recipe\\xgboost-split_1659548953302\\work\\src\\learner.cc:1115: Starting in XGBoost 1.3.0, the default evaluation metric used with the objective 'multi:softprob' was changed from 'merror' to 'mlogloss'. Explicitly set eval_metric if you'd like to restore the old behavior.\n",
      "[CV 4/5] END eta=0.5, gamma=0, max_depth=60, subsample=0.75;, score=(train=1.000, test=0.966) total time= 4.3min\n"
     ]
    },
    {
     "name": "stderr",
     "output_type": "stream",
     "text": [
      "c:\\ProgramData\\Anaconda3\\envs\\Introduccion_al_ML_IB\\lib\\site-packages\\xgboost\\sklearn.py:1224: UserWarning: The use of label encoder in XGBClassifier is deprecated and will be removed in a future release. To remove this warning, do the following: 1) Pass option use_label_encoder=False when constructing XGBClassifier object; and 2) Encode your labels (y) as integers starting with 0, i.e. 0, 1, 2, ..., [num_class - 1].\n",
      "  warnings.warn(label_encoder_deprecation_msg, UserWarning)\n",
      "c:\\ProgramData\\Anaconda3\\envs\\Introduccion_al_ML_IB\\lib\\site-packages\\xgboost\\data.py:250: FutureWarning: pandas.Int64Index is deprecated and will be removed from pandas in a future version. Use pandas.Index with the appropriate dtype instead.\n",
      "  elif isinstance(data.columns, (pd.Int64Index, pd.RangeIndex)):\n"
     ]
    },
    {
     "name": "stdout",
     "output_type": "stream",
     "text": [
      "[19:59:38] WARNING: C:\\Windows\\Temp\\abs_557yfx631l\\croots\\recipe\\xgboost-split_1659548953302\\work\\src\\learner.cc:1115: Starting in XGBoost 1.3.0, the default evaluation metric used with the objective 'multi:softprob' was changed from 'merror' to 'mlogloss'. Explicitly set eval_metric if you'd like to restore the old behavior.\n",
      "[CV 5/5] END eta=0.5, gamma=0, max_depth=60, subsample=0.75;, score=(train=1.000, test=0.965) total time= 4.3min\n"
     ]
    },
    {
     "name": "stderr",
     "output_type": "stream",
     "text": [
      "c:\\ProgramData\\Anaconda3\\envs\\Introduccion_al_ML_IB\\lib\\site-packages\\xgboost\\sklearn.py:1224: UserWarning: The use of label encoder in XGBClassifier is deprecated and will be removed in a future release. To remove this warning, do the following: 1) Pass option use_label_encoder=False when constructing XGBClassifier object; and 2) Encode your labels (y) as integers starting with 0, i.e. 0, 1, 2, ..., [num_class - 1].\n",
      "  warnings.warn(label_encoder_deprecation_msg, UserWarning)\n",
      "c:\\ProgramData\\Anaconda3\\envs\\Introduccion_al_ML_IB\\lib\\site-packages\\xgboost\\data.py:250: FutureWarning: pandas.Int64Index is deprecated and will be removed from pandas in a future version. Use pandas.Index with the appropriate dtype instead.\n",
      "  elif isinstance(data.columns, (pd.Int64Index, pd.RangeIndex)):\n"
     ]
    },
    {
     "name": "stdout",
     "output_type": "stream",
     "text": [
      "[20:04:00] WARNING: C:\\Windows\\Temp\\abs_557yfx631l\\croots\\recipe\\xgboost-split_1659548953302\\work\\src\\learner.cc:1115: Starting in XGBoost 1.3.0, the default evaluation metric used with the objective 'multi:softprob' was changed from 'merror' to 'mlogloss'. Explicitly set eval_metric if you'd like to restore the old behavior.\n",
      "[CV 1/5] END eta=0.5, gamma=0, max_depth=60, subsample=1.0;, score=(train=1.000, test=0.967) total time= 4.7min\n"
     ]
    },
    {
     "name": "stderr",
     "output_type": "stream",
     "text": [
      "c:\\ProgramData\\Anaconda3\\envs\\Introduccion_al_ML_IB\\lib\\site-packages\\xgboost\\sklearn.py:1224: UserWarning: The use of label encoder in XGBClassifier is deprecated and will be removed in a future release. To remove this warning, do the following: 1) Pass option use_label_encoder=False when constructing XGBClassifier object; and 2) Encode your labels (y) as integers starting with 0, i.e. 0, 1, 2, ..., [num_class - 1].\n",
      "  warnings.warn(label_encoder_deprecation_msg, UserWarning)\n",
      "c:\\ProgramData\\Anaconda3\\envs\\Introduccion_al_ML_IB\\lib\\site-packages\\xgboost\\data.py:250: FutureWarning: pandas.Int64Index is deprecated and will be removed from pandas in a future version. Use pandas.Index with the appropriate dtype instead.\n",
      "  elif isinstance(data.columns, (pd.Int64Index, pd.RangeIndex)):\n"
     ]
    },
    {
     "name": "stdout",
     "output_type": "stream",
     "text": [
      "[20:08:48] WARNING: C:\\Windows\\Temp\\abs_557yfx631l\\croots\\recipe\\xgboost-split_1659548953302\\work\\src\\learner.cc:1115: Starting in XGBoost 1.3.0, the default evaluation metric used with the objective 'multi:softprob' was changed from 'merror' to 'mlogloss'. Explicitly set eval_metric if you'd like to restore the old behavior.\n",
      "[CV 2/5] END eta=0.5, gamma=0, max_depth=60, subsample=1.0;, score=(train=1.000, test=0.967) total time= 4.8min\n"
     ]
    },
    {
     "name": "stderr",
     "output_type": "stream",
     "text": [
      "c:\\ProgramData\\Anaconda3\\envs\\Introduccion_al_ML_IB\\lib\\site-packages\\xgboost\\sklearn.py:1224: UserWarning: The use of label encoder in XGBClassifier is deprecated and will be removed in a future release. To remove this warning, do the following: 1) Pass option use_label_encoder=False when constructing XGBClassifier object; and 2) Encode your labels (y) as integers starting with 0, i.e. 0, 1, 2, ..., [num_class - 1].\n",
      "  warnings.warn(label_encoder_deprecation_msg, UserWarning)\n",
      "c:\\ProgramData\\Anaconda3\\envs\\Introduccion_al_ML_IB\\lib\\site-packages\\xgboost\\data.py:250: FutureWarning: pandas.Int64Index is deprecated and will be removed from pandas in a future version. Use pandas.Index with the appropriate dtype instead.\n",
      "  elif isinstance(data.columns, (pd.Int64Index, pd.RangeIndex)):\n"
     ]
    },
    {
     "name": "stdout",
     "output_type": "stream",
     "text": [
      "[20:13:37] WARNING: C:\\Windows\\Temp\\abs_557yfx631l\\croots\\recipe\\xgboost-split_1659548953302\\work\\src\\learner.cc:1115: Starting in XGBoost 1.3.0, the default evaluation metric used with the objective 'multi:softprob' was changed from 'merror' to 'mlogloss'. Explicitly set eval_metric if you'd like to restore the old behavior.\n",
      "[CV 3/5] END eta=0.5, gamma=0, max_depth=60, subsample=1.0;, score=(train=1.000, test=0.968) total time= 4.7min\n"
     ]
    },
    {
     "name": "stderr",
     "output_type": "stream",
     "text": [
      "c:\\ProgramData\\Anaconda3\\envs\\Introduccion_al_ML_IB\\lib\\site-packages\\xgboost\\sklearn.py:1224: UserWarning: The use of label encoder in XGBClassifier is deprecated and will be removed in a future release. To remove this warning, do the following: 1) Pass option use_label_encoder=False when constructing XGBClassifier object; and 2) Encode your labels (y) as integers starting with 0, i.e. 0, 1, 2, ..., [num_class - 1].\n",
      "  warnings.warn(label_encoder_deprecation_msg, UserWarning)\n",
      "c:\\ProgramData\\Anaconda3\\envs\\Introduccion_al_ML_IB\\lib\\site-packages\\xgboost\\data.py:250: FutureWarning: pandas.Int64Index is deprecated and will be removed from pandas in a future version. Use pandas.Index with the appropriate dtype instead.\n",
      "  elif isinstance(data.columns, (pd.Int64Index, pd.RangeIndex)):\n"
     ]
    },
    {
     "name": "stdout",
     "output_type": "stream",
     "text": [
      "[20:18:26] WARNING: C:\\Windows\\Temp\\abs_557yfx631l\\croots\\recipe\\xgboost-split_1659548953302\\work\\src\\learner.cc:1115: Starting in XGBoost 1.3.0, the default evaluation metric used with the objective 'multi:softprob' was changed from 'merror' to 'mlogloss'. Explicitly set eval_metric if you'd like to restore the old behavior.\n",
      "[CV 4/5] END eta=0.5, gamma=0, max_depth=60, subsample=1.0;, score=(train=1.000, test=0.967) total time= 4.7min\n"
     ]
    },
    {
     "name": "stderr",
     "output_type": "stream",
     "text": [
      "c:\\ProgramData\\Anaconda3\\envs\\Introduccion_al_ML_IB\\lib\\site-packages\\xgboost\\sklearn.py:1224: UserWarning: The use of label encoder in XGBClassifier is deprecated and will be removed in a future release. To remove this warning, do the following: 1) Pass option use_label_encoder=False when constructing XGBClassifier object; and 2) Encode your labels (y) as integers starting with 0, i.e. 0, 1, 2, ..., [num_class - 1].\n",
      "  warnings.warn(label_encoder_deprecation_msg, UserWarning)\n",
      "c:\\ProgramData\\Anaconda3\\envs\\Introduccion_al_ML_IB\\lib\\site-packages\\xgboost\\data.py:250: FutureWarning: pandas.Int64Index is deprecated and will be removed from pandas in a future version. Use pandas.Index with the appropriate dtype instead.\n",
      "  elif isinstance(data.columns, (pd.Int64Index, pd.RangeIndex)):\n"
     ]
    },
    {
     "name": "stdout",
     "output_type": "stream",
     "text": [
      "[20:23:11] WARNING: C:\\Windows\\Temp\\abs_557yfx631l\\croots\\recipe\\xgboost-split_1659548953302\\work\\src\\learner.cc:1115: Starting in XGBoost 1.3.0, the default evaluation metric used with the objective 'multi:softprob' was changed from 'merror' to 'mlogloss'. Explicitly set eval_metric if you'd like to restore the old behavior.\n",
      "[CV 5/5] END eta=0.5, gamma=0, max_depth=60, subsample=1.0;, score=(train=1.000, test=0.965) total time= 4.7min\n"
     ]
    },
    {
     "name": "stderr",
     "output_type": "stream",
     "text": [
      "c:\\ProgramData\\Anaconda3\\envs\\Introduccion_al_ML_IB\\lib\\site-packages\\xgboost\\sklearn.py:1224: UserWarning: The use of label encoder in XGBClassifier is deprecated and will be removed in a future release. To remove this warning, do the following: 1) Pass option use_label_encoder=False when constructing XGBClassifier object; and 2) Encode your labels (y) as integers starting with 0, i.e. 0, 1, 2, ..., [num_class - 1].\n",
      "  warnings.warn(label_encoder_deprecation_msg, UserWarning)\n",
      "c:\\ProgramData\\Anaconda3\\envs\\Introduccion_al_ML_IB\\lib\\site-packages\\xgboost\\data.py:250: FutureWarning: pandas.Int64Index is deprecated and will be removed from pandas in a future version. Use pandas.Index with the appropriate dtype instead.\n",
      "  elif isinstance(data.columns, (pd.Int64Index, pd.RangeIndex)):\n"
     ]
    },
    {
     "name": "stdout",
     "output_type": "stream",
     "text": [
      "[20:27:54] WARNING: C:\\Windows\\Temp\\abs_557yfx631l\\croots\\recipe\\xgboost-split_1659548953302\\work\\src\\learner.cc:1115: Starting in XGBoost 1.3.0, the default evaluation metric used with the objective 'multi:softprob' was changed from 'merror' to 'mlogloss'. Explicitly set eval_metric if you'd like to restore the old behavior.\n",
      "[CV 1/5] END eta=0.5, gamma=0.1, max_depth=20, subsample=0.75;, score=(train=1.000, test=0.964) total time= 4.0min\n"
     ]
    },
    {
     "name": "stderr",
     "output_type": "stream",
     "text": [
      "c:\\ProgramData\\Anaconda3\\envs\\Introduccion_al_ML_IB\\lib\\site-packages\\xgboost\\sklearn.py:1224: UserWarning: The use of label encoder in XGBClassifier is deprecated and will be removed in a future release. To remove this warning, do the following: 1) Pass option use_label_encoder=False when constructing XGBClassifier object; and 2) Encode your labels (y) as integers starting with 0, i.e. 0, 1, 2, ..., [num_class - 1].\n",
      "  warnings.warn(label_encoder_deprecation_msg, UserWarning)\n",
      "c:\\ProgramData\\Anaconda3\\envs\\Introduccion_al_ML_IB\\lib\\site-packages\\xgboost\\data.py:250: FutureWarning: pandas.Int64Index is deprecated and will be removed from pandas in a future version. Use pandas.Index with the appropriate dtype instead.\n",
      "  elif isinstance(data.columns, (pd.Int64Index, pd.RangeIndex)):\n"
     ]
    },
    {
     "name": "stdout",
     "output_type": "stream",
     "text": [
      "[20:31:55] WARNING: C:\\Windows\\Temp\\abs_557yfx631l\\croots\\recipe\\xgboost-split_1659548953302\\work\\src\\learner.cc:1115: Starting in XGBoost 1.3.0, the default evaluation metric used with the objective 'multi:softprob' was changed from 'merror' to 'mlogloss'. Explicitly set eval_metric if you'd like to restore the old behavior.\n",
      "[CV 2/5] END eta=0.5, gamma=0.1, max_depth=20, subsample=0.75;, score=(train=1.000, test=0.964) total time= 3.9min\n"
     ]
    },
    {
     "name": "stderr",
     "output_type": "stream",
     "text": [
      "c:\\ProgramData\\Anaconda3\\envs\\Introduccion_al_ML_IB\\lib\\site-packages\\xgboost\\sklearn.py:1224: UserWarning: The use of label encoder in XGBClassifier is deprecated and will be removed in a future release. To remove this warning, do the following: 1) Pass option use_label_encoder=False when constructing XGBClassifier object; and 2) Encode your labels (y) as integers starting with 0, i.e. 0, 1, 2, ..., [num_class - 1].\n",
      "  warnings.warn(label_encoder_deprecation_msg, UserWarning)\n",
      "c:\\ProgramData\\Anaconda3\\envs\\Introduccion_al_ML_IB\\lib\\site-packages\\xgboost\\data.py:250: FutureWarning: pandas.Int64Index is deprecated and will be removed from pandas in a future version. Use pandas.Index with the appropriate dtype instead.\n",
      "  elif isinstance(data.columns, (pd.Int64Index, pd.RangeIndex)):\n"
     ]
    },
    {
     "name": "stdout",
     "output_type": "stream",
     "text": [
      "[20:35:54] WARNING: C:\\Windows\\Temp\\abs_557yfx631l\\croots\\recipe\\xgboost-split_1659548953302\\work\\src\\learner.cc:1115: Starting in XGBoost 1.3.0, the default evaluation metric used with the objective 'multi:softprob' was changed from 'merror' to 'mlogloss'. Explicitly set eval_metric if you'd like to restore the old behavior.\n",
      "[CV 3/5] END eta=0.5, gamma=0.1, max_depth=20, subsample=0.75;, score=(train=1.000, test=0.965) total time= 3.9min\n"
     ]
    },
    {
     "name": "stderr",
     "output_type": "stream",
     "text": [
      "c:\\ProgramData\\Anaconda3\\envs\\Introduccion_al_ML_IB\\lib\\site-packages\\xgboost\\sklearn.py:1224: UserWarning: The use of label encoder in XGBClassifier is deprecated and will be removed in a future release. To remove this warning, do the following: 1) Pass option use_label_encoder=False when constructing XGBClassifier object; and 2) Encode your labels (y) as integers starting with 0, i.e. 0, 1, 2, ..., [num_class - 1].\n",
      "  warnings.warn(label_encoder_deprecation_msg, UserWarning)\n",
      "c:\\ProgramData\\Anaconda3\\envs\\Introduccion_al_ML_IB\\lib\\site-packages\\xgboost\\data.py:250: FutureWarning: pandas.Int64Index is deprecated and will be removed from pandas in a future version. Use pandas.Index with the appropriate dtype instead.\n",
      "  elif isinstance(data.columns, (pd.Int64Index, pd.RangeIndex)):\n"
     ]
    },
    {
     "name": "stdout",
     "output_type": "stream",
     "text": [
      "[20:39:53] WARNING: C:\\Windows\\Temp\\abs_557yfx631l\\croots\\recipe\\xgboost-split_1659548953302\\work\\src\\learner.cc:1115: Starting in XGBoost 1.3.0, the default evaluation metric used with the objective 'multi:softprob' was changed from 'merror' to 'mlogloss'. Explicitly set eval_metric if you'd like to restore the old behavior.\n",
      "[CV 4/5] END eta=0.5, gamma=0.1, max_depth=20, subsample=0.75;, score=(train=1.000, test=0.964) total time= 3.9min\n"
     ]
    },
    {
     "name": "stderr",
     "output_type": "stream",
     "text": [
      "c:\\ProgramData\\Anaconda3\\envs\\Introduccion_al_ML_IB\\lib\\site-packages\\xgboost\\sklearn.py:1224: UserWarning: The use of label encoder in XGBClassifier is deprecated and will be removed in a future release. To remove this warning, do the following: 1) Pass option use_label_encoder=False when constructing XGBClassifier object; and 2) Encode your labels (y) as integers starting with 0, i.e. 0, 1, 2, ..., [num_class - 1].\n",
      "  warnings.warn(label_encoder_deprecation_msg, UserWarning)\n",
      "c:\\ProgramData\\Anaconda3\\envs\\Introduccion_al_ML_IB\\lib\\site-packages\\xgboost\\data.py:250: FutureWarning: pandas.Int64Index is deprecated and will be removed from pandas in a future version. Use pandas.Index with the appropriate dtype instead.\n",
      "  elif isinstance(data.columns, (pd.Int64Index, pd.RangeIndex)):\n"
     ]
    },
    {
     "name": "stdout",
     "output_type": "stream",
     "text": [
      "[20:43:51] WARNING: C:\\Windows\\Temp\\abs_557yfx631l\\croots\\recipe\\xgboost-split_1659548953302\\work\\src\\learner.cc:1115: Starting in XGBoost 1.3.0, the default evaluation metric used with the objective 'multi:softprob' was changed from 'merror' to 'mlogloss'. Explicitly set eval_metric if you'd like to restore the old behavior.\n",
      "[CV 5/5] END eta=0.5, gamma=0.1, max_depth=20, subsample=0.75;, score=(train=1.000, test=0.963) total time= 3.9min\n"
     ]
    },
    {
     "name": "stderr",
     "output_type": "stream",
     "text": [
      "c:\\ProgramData\\Anaconda3\\envs\\Introduccion_al_ML_IB\\lib\\site-packages\\xgboost\\sklearn.py:1224: UserWarning: The use of label encoder in XGBClassifier is deprecated and will be removed in a future release. To remove this warning, do the following: 1) Pass option use_label_encoder=False when constructing XGBClassifier object; and 2) Encode your labels (y) as integers starting with 0, i.e. 0, 1, 2, ..., [num_class - 1].\n",
      "  warnings.warn(label_encoder_deprecation_msg, UserWarning)\n",
      "c:\\ProgramData\\Anaconda3\\envs\\Introduccion_al_ML_IB\\lib\\site-packages\\xgboost\\data.py:250: FutureWarning: pandas.Int64Index is deprecated and will be removed from pandas in a future version. Use pandas.Index with the appropriate dtype instead.\n",
      "  elif isinstance(data.columns, (pd.Int64Index, pd.RangeIndex)):\n"
     ]
    },
    {
     "name": "stdout",
     "output_type": "stream",
     "text": [
      "[20:47:50] WARNING: C:\\Windows\\Temp\\abs_557yfx631l\\croots\\recipe\\xgboost-split_1659548953302\\work\\src\\learner.cc:1115: Starting in XGBoost 1.3.0, the default evaluation metric used with the objective 'multi:softprob' was changed from 'merror' to 'mlogloss'. Explicitly set eval_metric if you'd like to restore the old behavior.\n",
      "[CV 1/5] END eta=0.5, gamma=0.1, max_depth=20, subsample=1.0;, score=(train=1.000, test=0.965) total time= 4.0min\n"
     ]
    },
    {
     "name": "stderr",
     "output_type": "stream",
     "text": [
      "c:\\ProgramData\\Anaconda3\\envs\\Introduccion_al_ML_IB\\lib\\site-packages\\xgboost\\sklearn.py:1224: UserWarning: The use of label encoder in XGBClassifier is deprecated and will be removed in a future release. To remove this warning, do the following: 1) Pass option use_label_encoder=False when constructing XGBClassifier object; and 2) Encode your labels (y) as integers starting with 0, i.e. 0, 1, 2, ..., [num_class - 1].\n",
      "  warnings.warn(label_encoder_deprecation_msg, UserWarning)\n",
      "c:\\ProgramData\\Anaconda3\\envs\\Introduccion_al_ML_IB\\lib\\site-packages\\xgboost\\data.py:250: FutureWarning: pandas.Int64Index is deprecated and will be removed from pandas in a future version. Use pandas.Index with the appropriate dtype instead.\n",
      "  elif isinstance(data.columns, (pd.Int64Index, pd.RangeIndex)):\n"
     ]
    },
    {
     "name": "stdout",
     "output_type": "stream",
     "text": [
      "[20:51:50] WARNING: C:\\Windows\\Temp\\abs_557yfx631l\\croots\\recipe\\xgboost-split_1659548953302\\work\\src\\learner.cc:1115: Starting in XGBoost 1.3.0, the default evaluation metric used with the objective 'multi:softprob' was changed from 'merror' to 'mlogloss'. Explicitly set eval_metric if you'd like to restore the old behavior.\n",
      "[CV 2/5] END eta=0.5, gamma=0.1, max_depth=20, subsample=1.0;, score=(train=1.000, test=0.966) total time= 4.0min\n"
     ]
    },
    {
     "name": "stderr",
     "output_type": "stream",
     "text": [
      "c:\\ProgramData\\Anaconda3\\envs\\Introduccion_al_ML_IB\\lib\\site-packages\\xgboost\\sklearn.py:1224: UserWarning: The use of label encoder in XGBClassifier is deprecated and will be removed in a future release. To remove this warning, do the following: 1) Pass option use_label_encoder=False when constructing XGBClassifier object; and 2) Encode your labels (y) as integers starting with 0, i.e. 0, 1, 2, ..., [num_class - 1].\n",
      "  warnings.warn(label_encoder_deprecation_msg, UserWarning)\n",
      "c:\\ProgramData\\Anaconda3\\envs\\Introduccion_al_ML_IB\\lib\\site-packages\\xgboost\\data.py:250: FutureWarning: pandas.Int64Index is deprecated and will be removed from pandas in a future version. Use pandas.Index with the appropriate dtype instead.\n",
      "  elif isinstance(data.columns, (pd.Int64Index, pd.RangeIndex)):\n"
     ]
    },
    {
     "name": "stdout",
     "output_type": "stream",
     "text": [
      "[20:55:50] WARNING: C:\\Windows\\Temp\\abs_557yfx631l\\croots\\recipe\\xgboost-split_1659548953302\\work\\src\\learner.cc:1115: Starting in XGBoost 1.3.0, the default evaluation metric used with the objective 'multi:softprob' was changed from 'merror' to 'mlogloss'. Explicitly set eval_metric if you'd like to restore the old behavior.\n",
      "[CV 3/5] END eta=0.5, gamma=0.1, max_depth=20, subsample=1.0;, score=(train=1.000, test=0.966) total time= 3.9min\n"
     ]
    },
    {
     "name": "stderr",
     "output_type": "stream",
     "text": [
      "c:\\ProgramData\\Anaconda3\\envs\\Introduccion_al_ML_IB\\lib\\site-packages\\xgboost\\sklearn.py:1224: UserWarning: The use of label encoder in XGBClassifier is deprecated and will be removed in a future release. To remove this warning, do the following: 1) Pass option use_label_encoder=False when constructing XGBClassifier object; and 2) Encode your labels (y) as integers starting with 0, i.e. 0, 1, 2, ..., [num_class - 1].\n",
      "  warnings.warn(label_encoder_deprecation_msg, UserWarning)\n",
      "c:\\ProgramData\\Anaconda3\\envs\\Introduccion_al_ML_IB\\lib\\site-packages\\xgboost\\data.py:250: FutureWarning: pandas.Int64Index is deprecated and will be removed from pandas in a future version. Use pandas.Index with the appropriate dtype instead.\n",
      "  elif isinstance(data.columns, (pd.Int64Index, pd.RangeIndex)):\n"
     ]
    },
    {
     "name": "stdout",
     "output_type": "stream",
     "text": [
      "[20:59:45] WARNING: C:\\Windows\\Temp\\abs_557yfx631l\\croots\\recipe\\xgboost-split_1659548953302\\work\\src\\learner.cc:1115: Starting in XGBoost 1.3.0, the default evaluation metric used with the objective 'multi:softprob' was changed from 'merror' to 'mlogloss'. Explicitly set eval_metric if you'd like to restore the old behavior.\n",
      "[CV 4/5] END eta=0.5, gamma=0.1, max_depth=20, subsample=1.0;, score=(train=1.000, test=0.965) total time= 3.9min\n"
     ]
    },
    {
     "name": "stderr",
     "output_type": "stream",
     "text": [
      "c:\\ProgramData\\Anaconda3\\envs\\Introduccion_al_ML_IB\\lib\\site-packages\\xgboost\\sklearn.py:1224: UserWarning: The use of label encoder in XGBClassifier is deprecated and will be removed in a future release. To remove this warning, do the following: 1) Pass option use_label_encoder=False when constructing XGBClassifier object; and 2) Encode your labels (y) as integers starting with 0, i.e. 0, 1, 2, ..., [num_class - 1].\n",
      "  warnings.warn(label_encoder_deprecation_msg, UserWarning)\n",
      "c:\\ProgramData\\Anaconda3\\envs\\Introduccion_al_ML_IB\\lib\\site-packages\\xgboost\\data.py:250: FutureWarning: pandas.Int64Index is deprecated and will be removed from pandas in a future version. Use pandas.Index with the appropriate dtype instead.\n",
      "  elif isinstance(data.columns, (pd.Int64Index, pd.RangeIndex)):\n"
     ]
    },
    {
     "name": "stdout",
     "output_type": "stream",
     "text": [
      "[21:03:45] WARNING: C:\\Windows\\Temp\\abs_557yfx631l\\croots\\recipe\\xgboost-split_1659548953302\\work\\src\\learner.cc:1115: Starting in XGBoost 1.3.0, the default evaluation metric used with the objective 'multi:softprob' was changed from 'merror' to 'mlogloss'. Explicitly set eval_metric if you'd like to restore the old behavior.\n",
      "[CV 5/5] END eta=0.5, gamma=0.1, max_depth=20, subsample=1.0;, score=(train=1.000, test=0.964) total time= 4.1min\n"
     ]
    },
    {
     "name": "stderr",
     "output_type": "stream",
     "text": [
      "c:\\ProgramData\\Anaconda3\\envs\\Introduccion_al_ML_IB\\lib\\site-packages\\xgboost\\sklearn.py:1224: UserWarning: The use of label encoder in XGBClassifier is deprecated and will be removed in a future release. To remove this warning, do the following: 1) Pass option use_label_encoder=False when constructing XGBClassifier object; and 2) Encode your labels (y) as integers starting with 0, i.e. 0, 1, 2, ..., [num_class - 1].\n",
      "  warnings.warn(label_encoder_deprecation_msg, UserWarning)\n",
      "c:\\ProgramData\\Anaconda3\\envs\\Introduccion_al_ML_IB\\lib\\site-packages\\xgboost\\data.py:250: FutureWarning: pandas.Int64Index is deprecated and will be removed from pandas in a future version. Use pandas.Index with the appropriate dtype instead.\n",
      "  elif isinstance(data.columns, (pd.Int64Index, pd.RangeIndex)):\n"
     ]
    },
    {
     "name": "stdout",
     "output_type": "stream",
     "text": [
      "[21:07:55] WARNING: C:\\Windows\\Temp\\abs_557yfx631l\\croots\\recipe\\xgboost-split_1659548953302\\work\\src\\learner.cc:1115: Starting in XGBoost 1.3.0, the default evaluation metric used with the objective 'multi:softprob' was changed from 'merror' to 'mlogloss'. Explicitly set eval_metric if you'd like to restore the old behavior.\n",
      "[CV 1/5] END eta=0.5, gamma=0.1, max_depth=40, subsample=0.75;, score=(train=1.000, test=0.965) total time= 5.6min\n"
     ]
    },
    {
     "name": "stderr",
     "output_type": "stream",
     "text": [
      "c:\\ProgramData\\Anaconda3\\envs\\Introduccion_al_ML_IB\\lib\\site-packages\\xgboost\\sklearn.py:1224: UserWarning: The use of label encoder in XGBClassifier is deprecated and will be removed in a future release. To remove this warning, do the following: 1) Pass option use_label_encoder=False when constructing XGBClassifier object; and 2) Encode your labels (y) as integers starting with 0, i.e. 0, 1, 2, ..., [num_class - 1].\n",
      "  warnings.warn(label_encoder_deprecation_msg, UserWarning)\n",
      "c:\\ProgramData\\Anaconda3\\envs\\Introduccion_al_ML_IB\\lib\\site-packages\\xgboost\\data.py:250: FutureWarning: pandas.Int64Index is deprecated and will be removed from pandas in a future version. Use pandas.Index with the appropriate dtype instead.\n",
      "  elif isinstance(data.columns, (pd.Int64Index, pd.RangeIndex)):\n"
     ]
    },
    {
     "name": "stdout",
     "output_type": "stream",
     "text": [
      "[21:13:35] WARNING: C:\\Windows\\Temp\\abs_557yfx631l\\croots\\recipe\\xgboost-split_1659548953302\\work\\src\\learner.cc:1115: Starting in XGBoost 1.3.0, the default evaluation metric used with the objective 'multi:softprob' was changed from 'merror' to 'mlogloss'. Explicitly set eval_metric if you'd like to restore the old behavior.\n",
      "[CV 2/5] END eta=0.5, gamma=0.1, max_depth=40, subsample=0.75;, score=(train=1.000, test=0.965) total time= 5.6min\n"
     ]
    },
    {
     "name": "stderr",
     "output_type": "stream",
     "text": [
      "c:\\ProgramData\\Anaconda3\\envs\\Introduccion_al_ML_IB\\lib\\site-packages\\xgboost\\sklearn.py:1224: UserWarning: The use of label encoder in XGBClassifier is deprecated and will be removed in a future release. To remove this warning, do the following: 1) Pass option use_label_encoder=False when constructing XGBClassifier object; and 2) Encode your labels (y) as integers starting with 0, i.e. 0, 1, 2, ..., [num_class - 1].\n",
      "  warnings.warn(label_encoder_deprecation_msg, UserWarning)\n",
      "c:\\ProgramData\\Anaconda3\\envs\\Introduccion_al_ML_IB\\lib\\site-packages\\xgboost\\data.py:250: FutureWarning: pandas.Int64Index is deprecated and will be removed from pandas in a future version. Use pandas.Index with the appropriate dtype instead.\n",
      "  elif isinstance(data.columns, (pd.Int64Index, pd.RangeIndex)):\n"
     ]
    },
    {
     "name": "stdout",
     "output_type": "stream",
     "text": [
      "[21:19:15] WARNING: C:\\Windows\\Temp\\abs_557yfx631l\\croots\\recipe\\xgboost-split_1659548953302\\work\\src\\learner.cc:1115: Starting in XGBoost 1.3.0, the default evaluation metric used with the objective 'multi:softprob' was changed from 'merror' to 'mlogloss'. Explicitly set eval_metric if you'd like to restore the old behavior.\n",
      "[CV 3/5] END eta=0.5, gamma=0.1, max_depth=40, subsample=0.75;, score=(train=1.000, test=0.966) total time= 5.6min\n"
     ]
    },
    {
     "name": "stderr",
     "output_type": "stream",
     "text": [
      "c:\\ProgramData\\Anaconda3\\envs\\Introduccion_al_ML_IB\\lib\\site-packages\\xgboost\\sklearn.py:1224: UserWarning: The use of label encoder in XGBClassifier is deprecated and will be removed in a future release. To remove this warning, do the following: 1) Pass option use_label_encoder=False when constructing XGBClassifier object; and 2) Encode your labels (y) as integers starting with 0, i.e. 0, 1, 2, ..., [num_class - 1].\n",
      "  warnings.warn(label_encoder_deprecation_msg, UserWarning)\n",
      "c:\\ProgramData\\Anaconda3\\envs\\Introduccion_al_ML_IB\\lib\\site-packages\\xgboost\\data.py:250: FutureWarning: pandas.Int64Index is deprecated and will be removed from pandas in a future version. Use pandas.Index with the appropriate dtype instead.\n",
      "  elif isinstance(data.columns, (pd.Int64Index, pd.RangeIndex)):\n"
     ]
    },
    {
     "name": "stdout",
     "output_type": "stream",
     "text": [
      "[21:24:56] WARNING: C:\\Windows\\Temp\\abs_557yfx631l\\croots\\recipe\\xgboost-split_1659548953302\\work\\src\\learner.cc:1115: Starting in XGBoost 1.3.0, the default evaluation metric used with the objective 'multi:softprob' was changed from 'merror' to 'mlogloss'. Explicitly set eval_metric if you'd like to restore the old behavior.\n",
      "[CV 4/5] END eta=0.5, gamma=0.1, max_depth=40, subsample=0.75;, score=(train=1.000, test=0.965) total time= 5.7min\n"
     ]
    },
    {
     "name": "stderr",
     "output_type": "stream",
     "text": [
      "c:\\ProgramData\\Anaconda3\\envs\\Introduccion_al_ML_IB\\lib\\site-packages\\xgboost\\sklearn.py:1224: UserWarning: The use of label encoder in XGBClassifier is deprecated and will be removed in a future release. To remove this warning, do the following: 1) Pass option use_label_encoder=False when constructing XGBClassifier object; and 2) Encode your labels (y) as integers starting with 0, i.e. 0, 1, 2, ..., [num_class - 1].\n",
      "  warnings.warn(label_encoder_deprecation_msg, UserWarning)\n",
      "c:\\ProgramData\\Anaconda3\\envs\\Introduccion_al_ML_IB\\lib\\site-packages\\xgboost\\data.py:250: FutureWarning: pandas.Int64Index is deprecated and will be removed from pandas in a future version. Use pandas.Index with the appropriate dtype instead.\n",
      "  elif isinstance(data.columns, (pd.Int64Index, pd.RangeIndex)):\n"
     ]
    },
    {
     "name": "stdout",
     "output_type": "stream",
     "text": [
      "[21:30:43] WARNING: C:\\Windows\\Temp\\abs_557yfx631l\\croots\\recipe\\xgboost-split_1659548953302\\work\\src\\learner.cc:1115: Starting in XGBoost 1.3.0, the default evaluation metric used with the objective 'multi:softprob' was changed from 'merror' to 'mlogloss'. Explicitly set eval_metric if you'd like to restore the old behavior.\n",
      "[CV 5/5] END eta=0.5, gamma=0.1, max_depth=40, subsample=0.75;, score=(train=1.000, test=0.963) total time= 5.9min\n"
     ]
    },
    {
     "name": "stderr",
     "output_type": "stream",
     "text": [
      "c:\\ProgramData\\Anaconda3\\envs\\Introduccion_al_ML_IB\\lib\\site-packages\\xgboost\\sklearn.py:1224: UserWarning: The use of label encoder in XGBClassifier is deprecated and will be removed in a future release. To remove this warning, do the following: 1) Pass option use_label_encoder=False when constructing XGBClassifier object; and 2) Encode your labels (y) as integers starting with 0, i.e. 0, 1, 2, ..., [num_class - 1].\n",
      "  warnings.warn(label_encoder_deprecation_msg, UserWarning)\n",
      "c:\\ProgramData\\Anaconda3\\envs\\Introduccion_al_ML_IB\\lib\\site-packages\\xgboost\\data.py:250: FutureWarning: pandas.Int64Index is deprecated and will be removed from pandas in a future version. Use pandas.Index with the appropriate dtype instead.\n",
      "  elif isinstance(data.columns, (pd.Int64Index, pd.RangeIndex)):\n"
     ]
    },
    {
     "name": "stdout",
     "output_type": "stream",
     "text": [
      "[21:36:39] WARNING: C:\\Windows\\Temp\\abs_557yfx631l\\croots\\recipe\\xgboost-split_1659548953302\\work\\src\\learner.cc:1115: Starting in XGBoost 1.3.0, the default evaluation metric used with the objective 'multi:softprob' was changed from 'merror' to 'mlogloss'. Explicitly set eval_metric if you'd like to restore the old behavior.\n",
      "[CV 1/5] END eta=0.5, gamma=0.1, max_depth=40, subsample=1.0;, score=(train=1.000, test=0.965) total time= 6.5min\n"
     ]
    },
    {
     "name": "stderr",
     "output_type": "stream",
     "text": [
      "c:\\ProgramData\\Anaconda3\\envs\\Introduccion_al_ML_IB\\lib\\site-packages\\xgboost\\sklearn.py:1224: UserWarning: The use of label encoder in XGBClassifier is deprecated and will be removed in a future release. To remove this warning, do the following: 1) Pass option use_label_encoder=False when constructing XGBClassifier object; and 2) Encode your labels (y) as integers starting with 0, i.e. 0, 1, 2, ..., [num_class - 1].\n",
      "  warnings.warn(label_encoder_deprecation_msg, UserWarning)\n",
      "c:\\ProgramData\\Anaconda3\\envs\\Introduccion_al_ML_IB\\lib\\site-packages\\xgboost\\data.py:250: FutureWarning: pandas.Int64Index is deprecated and will be removed from pandas in a future version. Use pandas.Index with the appropriate dtype instead.\n",
      "  elif isinstance(data.columns, (pd.Int64Index, pd.RangeIndex)):\n"
     ]
    },
    {
     "name": "stdout",
     "output_type": "stream",
     "text": [
      "[21:43:13] WARNING: C:\\Windows\\Temp\\abs_557yfx631l\\croots\\recipe\\xgboost-split_1659548953302\\work\\src\\learner.cc:1115: Starting in XGBoost 1.3.0, the default evaluation metric used with the objective 'multi:softprob' was changed from 'merror' to 'mlogloss'. Explicitly set eval_metric if you'd like to restore the old behavior.\n",
      "[CV 2/5] END eta=0.5, gamma=0.1, max_depth=40, subsample=1.0;, score=(train=1.000, test=0.965) total time= 6.1min\n"
     ]
    },
    {
     "name": "stderr",
     "output_type": "stream",
     "text": [
      "c:\\ProgramData\\Anaconda3\\envs\\Introduccion_al_ML_IB\\lib\\site-packages\\xgboost\\sklearn.py:1224: UserWarning: The use of label encoder in XGBClassifier is deprecated and will be removed in a future release. To remove this warning, do the following: 1) Pass option use_label_encoder=False when constructing XGBClassifier object; and 2) Encode your labels (y) as integers starting with 0, i.e. 0, 1, 2, ..., [num_class - 1].\n",
      "  warnings.warn(label_encoder_deprecation_msg, UserWarning)\n",
      "c:\\ProgramData\\Anaconda3\\envs\\Introduccion_al_ML_IB\\lib\\site-packages\\xgboost\\data.py:250: FutureWarning: pandas.Int64Index is deprecated and will be removed from pandas in a future version. Use pandas.Index with the appropriate dtype instead.\n",
      "  elif isinstance(data.columns, (pd.Int64Index, pd.RangeIndex)):\n"
     ]
    },
    {
     "name": "stdout",
     "output_type": "stream",
     "text": [
      "[21:49:20] WARNING: C:\\Windows\\Temp\\abs_557yfx631l\\croots\\recipe\\xgboost-split_1659548953302\\work\\src\\learner.cc:1115: Starting in XGBoost 1.3.0, the default evaluation metric used with the objective 'multi:softprob' was changed from 'merror' to 'mlogloss'. Explicitly set eval_metric if you'd like to restore the old behavior.\n",
      "[CV 3/5] END eta=0.5, gamma=0.1, max_depth=40, subsample=1.0;, score=(train=1.000, test=0.966) total time= 5.5min\n"
     ]
    },
    {
     "name": "stderr",
     "output_type": "stream",
     "text": [
      "c:\\ProgramData\\Anaconda3\\envs\\Introduccion_al_ML_IB\\lib\\site-packages\\xgboost\\sklearn.py:1224: UserWarning: The use of label encoder in XGBClassifier is deprecated and will be removed in a future release. To remove this warning, do the following: 1) Pass option use_label_encoder=False when constructing XGBClassifier object; and 2) Encode your labels (y) as integers starting with 0, i.e. 0, 1, 2, ..., [num_class - 1].\n",
      "  warnings.warn(label_encoder_deprecation_msg, UserWarning)\n",
      "c:\\ProgramData\\Anaconda3\\envs\\Introduccion_al_ML_IB\\lib\\site-packages\\xgboost\\data.py:250: FutureWarning: pandas.Int64Index is deprecated and will be removed from pandas in a future version. Use pandas.Index with the appropriate dtype instead.\n",
      "  elif isinstance(data.columns, (pd.Int64Index, pd.RangeIndex)):\n"
     ]
    },
    {
     "name": "stdout",
     "output_type": "stream",
     "text": [
      "[21:54:54] WARNING: C:\\Windows\\Temp\\abs_557yfx631l\\croots\\recipe\\xgboost-split_1659548953302\\work\\src\\learner.cc:1115: Starting in XGBoost 1.3.0, the default evaluation metric used with the objective 'multi:softprob' was changed from 'merror' to 'mlogloss'. Explicitly set eval_metric if you'd like to restore the old behavior.\n",
      "[CV 4/5] END eta=0.5, gamma=0.1, max_depth=40, subsample=1.0;, score=(train=1.000, test=0.966) total time= 5.5min\n"
     ]
    },
    {
     "name": "stderr",
     "output_type": "stream",
     "text": [
      "c:\\ProgramData\\Anaconda3\\envs\\Introduccion_al_ML_IB\\lib\\site-packages\\xgboost\\sklearn.py:1224: UserWarning: The use of label encoder in XGBClassifier is deprecated and will be removed in a future release. To remove this warning, do the following: 1) Pass option use_label_encoder=False when constructing XGBClassifier object; and 2) Encode your labels (y) as integers starting with 0, i.e. 0, 1, 2, ..., [num_class - 1].\n",
      "  warnings.warn(label_encoder_deprecation_msg, UserWarning)\n",
      "c:\\ProgramData\\Anaconda3\\envs\\Introduccion_al_ML_IB\\lib\\site-packages\\xgboost\\data.py:250: FutureWarning: pandas.Int64Index is deprecated and will be removed from pandas in a future version. Use pandas.Index with the appropriate dtype instead.\n",
      "  elif isinstance(data.columns, (pd.Int64Index, pd.RangeIndex)):\n"
     ]
    },
    {
     "name": "stdout",
     "output_type": "stream",
     "text": [
      "[22:00:28] WARNING: C:\\Windows\\Temp\\abs_557yfx631l\\croots\\recipe\\xgboost-split_1659548953302\\work\\src\\learner.cc:1115: Starting in XGBoost 1.3.0, the default evaluation metric used with the objective 'multi:softprob' was changed from 'merror' to 'mlogloss'. Explicitly set eval_metric if you'd like to restore the old behavior.\n",
      "[CV 5/5] END eta=0.5, gamma=0.1, max_depth=40, subsample=1.0;, score=(train=1.000, test=0.964) total time= 5.5min\n"
     ]
    },
    {
     "name": "stderr",
     "output_type": "stream",
     "text": [
      "c:\\ProgramData\\Anaconda3\\envs\\Introduccion_al_ML_IB\\lib\\site-packages\\xgboost\\sklearn.py:1224: UserWarning: The use of label encoder in XGBClassifier is deprecated and will be removed in a future release. To remove this warning, do the following: 1) Pass option use_label_encoder=False when constructing XGBClassifier object; and 2) Encode your labels (y) as integers starting with 0, i.e. 0, 1, 2, ..., [num_class - 1].\n",
      "  warnings.warn(label_encoder_deprecation_msg, UserWarning)\n",
      "c:\\ProgramData\\Anaconda3\\envs\\Introduccion_al_ML_IB\\lib\\site-packages\\xgboost\\data.py:250: FutureWarning: pandas.Int64Index is deprecated and will be removed from pandas in a future version. Use pandas.Index with the appropriate dtype instead.\n",
      "  elif isinstance(data.columns, (pd.Int64Index, pd.RangeIndex)):\n"
     ]
    },
    {
     "name": "stdout",
     "output_type": "stream",
     "text": [
      "[22:06:00] WARNING: C:\\Windows\\Temp\\abs_557yfx631l\\croots\\recipe\\xgboost-split_1659548953302\\work\\src\\learner.cc:1115: Starting in XGBoost 1.3.0, the default evaluation metric used with the objective 'multi:softprob' was changed from 'merror' to 'mlogloss'. Explicitly set eval_metric if you'd like to restore the old behavior.\n",
      "[CV 1/5] END eta=0.5, gamma=0.1, max_depth=60, subsample=0.75;, score=(train=1.000, test=0.965) total time= 5.2min\n"
     ]
    },
    {
     "name": "stderr",
     "output_type": "stream",
     "text": [
      "c:\\ProgramData\\Anaconda3\\envs\\Introduccion_al_ML_IB\\lib\\site-packages\\xgboost\\sklearn.py:1224: UserWarning: The use of label encoder in XGBClassifier is deprecated and will be removed in a future release. To remove this warning, do the following: 1) Pass option use_label_encoder=False when constructing XGBClassifier object; and 2) Encode your labels (y) as integers starting with 0, i.e. 0, 1, 2, ..., [num_class - 1].\n",
      "  warnings.warn(label_encoder_deprecation_msg, UserWarning)\n",
      "c:\\ProgramData\\Anaconda3\\envs\\Introduccion_al_ML_IB\\lib\\site-packages\\xgboost\\data.py:250: FutureWarning: pandas.Int64Index is deprecated and will be removed from pandas in a future version. Use pandas.Index with the appropriate dtype instead.\n",
      "  elif isinstance(data.columns, (pd.Int64Index, pd.RangeIndex)):\n"
     ]
    },
    {
     "name": "stdout",
     "output_type": "stream",
     "text": [
      "[22:11:15] WARNING: C:\\Windows\\Temp\\abs_557yfx631l\\croots\\recipe\\xgboost-split_1659548953302\\work\\src\\learner.cc:1115: Starting in XGBoost 1.3.0, the default evaluation metric used with the objective 'multi:softprob' was changed from 'merror' to 'mlogloss'. Explicitly set eval_metric if you'd like to restore the old behavior.\n",
      "[CV 2/5] END eta=0.5, gamma=0.1, max_depth=60, subsample=0.75;, score=(train=1.000, test=0.964) total time= 5.1min\n"
     ]
    },
    {
     "name": "stderr",
     "output_type": "stream",
     "text": [
      "c:\\ProgramData\\Anaconda3\\envs\\Introduccion_al_ML_IB\\lib\\site-packages\\xgboost\\sklearn.py:1224: UserWarning: The use of label encoder in XGBClassifier is deprecated and will be removed in a future release. To remove this warning, do the following: 1) Pass option use_label_encoder=False when constructing XGBClassifier object; and 2) Encode your labels (y) as integers starting with 0, i.e. 0, 1, 2, ..., [num_class - 1].\n",
      "  warnings.warn(label_encoder_deprecation_msg, UserWarning)\n",
      "c:\\ProgramData\\Anaconda3\\envs\\Introduccion_al_ML_IB\\lib\\site-packages\\xgboost\\data.py:250: FutureWarning: pandas.Int64Index is deprecated and will be removed from pandas in a future version. Use pandas.Index with the appropriate dtype instead.\n",
      "  elif isinstance(data.columns, (pd.Int64Index, pd.RangeIndex)):\n"
     ]
    },
    {
     "name": "stdout",
     "output_type": "stream",
     "text": [
      "[22:16:26] WARNING: C:\\Windows\\Temp\\abs_557yfx631l\\croots\\recipe\\xgboost-split_1659548953302\\work\\src\\learner.cc:1115: Starting in XGBoost 1.3.0, the default evaluation metric used with the objective 'multi:softprob' was changed from 'merror' to 'mlogloss'. Explicitly set eval_metric if you'd like to restore the old behavior.\n",
      "[CV 3/5] END eta=0.5, gamma=0.1, max_depth=60, subsample=0.75;, score=(train=1.000, test=0.966) total time= 5.1min\n"
     ]
    },
    {
     "name": "stderr",
     "output_type": "stream",
     "text": [
      "c:\\ProgramData\\Anaconda3\\envs\\Introduccion_al_ML_IB\\lib\\site-packages\\xgboost\\sklearn.py:1224: UserWarning: The use of label encoder in XGBClassifier is deprecated and will be removed in a future release. To remove this warning, do the following: 1) Pass option use_label_encoder=False when constructing XGBClassifier object; and 2) Encode your labels (y) as integers starting with 0, i.e. 0, 1, 2, ..., [num_class - 1].\n",
      "  warnings.warn(label_encoder_deprecation_msg, UserWarning)\n",
      "c:\\ProgramData\\Anaconda3\\envs\\Introduccion_al_ML_IB\\lib\\site-packages\\xgboost\\data.py:250: FutureWarning: pandas.Int64Index is deprecated and will be removed from pandas in a future version. Use pandas.Index with the appropriate dtype instead.\n",
      "  elif isinstance(data.columns, (pd.Int64Index, pd.RangeIndex)):\n"
     ]
    },
    {
     "name": "stdout",
     "output_type": "stream",
     "text": [
      "[22:21:36] WARNING: C:\\Windows\\Temp\\abs_557yfx631l\\croots\\recipe\\xgboost-split_1659548953302\\work\\src\\learner.cc:1115: Starting in XGBoost 1.3.0, the default evaluation metric used with the objective 'multi:softprob' was changed from 'merror' to 'mlogloss'. Explicitly set eval_metric if you'd like to restore the old behavior.\n",
      "[CV 4/5] END eta=0.5, gamma=0.1, max_depth=60, subsample=0.75;, score=(train=1.000, test=0.965) total time= 5.1min\n"
     ]
    },
    {
     "name": "stderr",
     "output_type": "stream",
     "text": [
      "c:\\ProgramData\\Anaconda3\\envs\\Introduccion_al_ML_IB\\lib\\site-packages\\xgboost\\sklearn.py:1224: UserWarning: The use of label encoder in XGBClassifier is deprecated and will be removed in a future release. To remove this warning, do the following: 1) Pass option use_label_encoder=False when constructing XGBClassifier object; and 2) Encode your labels (y) as integers starting with 0, i.e. 0, 1, 2, ..., [num_class - 1].\n",
      "  warnings.warn(label_encoder_deprecation_msg, UserWarning)\n",
      "c:\\ProgramData\\Anaconda3\\envs\\Introduccion_al_ML_IB\\lib\\site-packages\\xgboost\\data.py:250: FutureWarning: pandas.Int64Index is deprecated and will be removed from pandas in a future version. Use pandas.Index with the appropriate dtype instead.\n",
      "  elif isinstance(data.columns, (pd.Int64Index, pd.RangeIndex)):\n"
     ]
    },
    {
     "name": "stdout",
     "output_type": "stream",
     "text": [
      "[22:26:47] WARNING: C:\\Windows\\Temp\\abs_557yfx631l\\croots\\recipe\\xgboost-split_1659548953302\\work\\src\\learner.cc:1115: Starting in XGBoost 1.3.0, the default evaluation metric used with the objective 'multi:softprob' was changed from 'merror' to 'mlogloss'. Explicitly set eval_metric if you'd like to restore the old behavior.\n",
      "[CV 5/5] END eta=0.5, gamma=0.1, max_depth=60, subsample=0.75;, score=(train=1.000, test=0.964) total time= 5.2min\n"
     ]
    },
    {
     "name": "stderr",
     "output_type": "stream",
     "text": [
      "c:\\ProgramData\\Anaconda3\\envs\\Introduccion_al_ML_IB\\lib\\site-packages\\xgboost\\sklearn.py:1224: UserWarning: The use of label encoder in XGBClassifier is deprecated and will be removed in a future release. To remove this warning, do the following: 1) Pass option use_label_encoder=False when constructing XGBClassifier object; and 2) Encode your labels (y) as integers starting with 0, i.e. 0, 1, 2, ..., [num_class - 1].\n",
      "  warnings.warn(label_encoder_deprecation_msg, UserWarning)\n",
      "c:\\ProgramData\\Anaconda3\\envs\\Introduccion_al_ML_IB\\lib\\site-packages\\xgboost\\data.py:250: FutureWarning: pandas.Int64Index is deprecated and will be removed from pandas in a future version. Use pandas.Index with the appropriate dtype instead.\n",
      "  elif isinstance(data.columns, (pd.Int64Index, pd.RangeIndex)):\n"
     ]
    },
    {
     "name": "stdout",
     "output_type": "stream",
     "text": [
      "[22:32:03] WARNING: C:\\Windows\\Temp\\abs_557yfx631l\\croots\\recipe\\xgboost-split_1659548953302\\work\\src\\learner.cc:1115: Starting in XGBoost 1.3.0, the default evaluation metric used with the objective 'multi:softprob' was changed from 'merror' to 'mlogloss'. Explicitly set eval_metric if you'd like to restore the old behavior.\n",
      "[CV 1/5] END eta=0.5, gamma=0.1, max_depth=60, subsample=1.0;, score=(train=1.000, test=0.965) total time= 6.2min\n"
     ]
    },
    {
     "name": "stderr",
     "output_type": "stream",
     "text": [
      "c:\\ProgramData\\Anaconda3\\envs\\Introduccion_al_ML_IB\\lib\\site-packages\\xgboost\\sklearn.py:1224: UserWarning: The use of label encoder in XGBClassifier is deprecated and will be removed in a future release. To remove this warning, do the following: 1) Pass option use_label_encoder=False when constructing XGBClassifier object; and 2) Encode your labels (y) as integers starting with 0, i.e. 0, 1, 2, ..., [num_class - 1].\n",
      "  warnings.warn(label_encoder_deprecation_msg, UserWarning)\n",
      "c:\\ProgramData\\Anaconda3\\envs\\Introduccion_al_ML_IB\\lib\\site-packages\\xgboost\\data.py:250: FutureWarning: pandas.Int64Index is deprecated and will be removed from pandas in a future version. Use pandas.Index with the appropriate dtype instead.\n",
      "  elif isinstance(data.columns, (pd.Int64Index, pd.RangeIndex)):\n"
     ]
    },
    {
     "name": "stdout",
     "output_type": "stream",
     "text": [
      "[22:38:18] WARNING: C:\\Windows\\Temp\\abs_557yfx631l\\croots\\recipe\\xgboost-split_1659548953302\\work\\src\\learner.cc:1115: Starting in XGBoost 1.3.0, the default evaluation metric used with the objective 'multi:softprob' was changed from 'merror' to 'mlogloss'. Explicitly set eval_metric if you'd like to restore the old behavior.\n",
      "[CV 2/5] END eta=0.5, gamma=0.1, max_depth=60, subsample=1.0;, score=(train=1.000, test=0.965) total time= 6.2min\n"
     ]
    },
    {
     "name": "stderr",
     "output_type": "stream",
     "text": [
      "c:\\ProgramData\\Anaconda3\\envs\\Introduccion_al_ML_IB\\lib\\site-packages\\xgboost\\sklearn.py:1224: UserWarning: The use of label encoder in XGBClassifier is deprecated and will be removed in a future release. To remove this warning, do the following: 1) Pass option use_label_encoder=False when constructing XGBClassifier object; and 2) Encode your labels (y) as integers starting with 0, i.e. 0, 1, 2, ..., [num_class - 1].\n",
      "  warnings.warn(label_encoder_deprecation_msg, UserWarning)\n",
      "c:\\ProgramData\\Anaconda3\\envs\\Introduccion_al_ML_IB\\lib\\site-packages\\xgboost\\data.py:250: FutureWarning: pandas.Int64Index is deprecated and will be removed from pandas in a future version. Use pandas.Index with the appropriate dtype instead.\n",
      "  elif isinstance(data.columns, (pd.Int64Index, pd.RangeIndex)):\n"
     ]
    },
    {
     "name": "stdout",
     "output_type": "stream",
     "text": [
      "[22:44:33] WARNING: C:\\Windows\\Temp\\abs_557yfx631l\\croots\\recipe\\xgboost-split_1659548953302\\work\\src\\learner.cc:1115: Starting in XGBoost 1.3.0, the default evaluation metric used with the objective 'multi:softprob' was changed from 'merror' to 'mlogloss'. Explicitly set eval_metric if you'd like to restore the old behavior.\n",
      "[CV 3/5] END eta=0.5, gamma=0.1, max_depth=60, subsample=1.0;, score=(train=1.000, test=0.966) total time= 6.3min\n"
     ]
    },
    {
     "name": "stderr",
     "output_type": "stream",
     "text": [
      "c:\\ProgramData\\Anaconda3\\envs\\Introduccion_al_ML_IB\\lib\\site-packages\\xgboost\\sklearn.py:1224: UserWarning: The use of label encoder in XGBClassifier is deprecated and will be removed in a future release. To remove this warning, do the following: 1) Pass option use_label_encoder=False when constructing XGBClassifier object; and 2) Encode your labels (y) as integers starting with 0, i.e. 0, 1, 2, ..., [num_class - 1].\n",
      "  warnings.warn(label_encoder_deprecation_msg, UserWarning)\n",
      "c:\\ProgramData\\Anaconda3\\envs\\Introduccion_al_ML_IB\\lib\\site-packages\\xgboost\\data.py:250: FutureWarning: pandas.Int64Index is deprecated and will be removed from pandas in a future version. Use pandas.Index with the appropriate dtype instead.\n",
      "  elif isinstance(data.columns, (pd.Int64Index, pd.RangeIndex)):\n"
     ]
    },
    {
     "name": "stdout",
     "output_type": "stream",
     "text": [
      "[22:50:52] WARNING: C:\\Windows\\Temp\\abs_557yfx631l\\croots\\recipe\\xgboost-split_1659548953302\\work\\src\\learner.cc:1115: Starting in XGBoost 1.3.0, the default evaluation metric used with the objective 'multi:softprob' was changed from 'merror' to 'mlogloss'. Explicitly set eval_metric if you'd like to restore the old behavior.\n",
      "[CV 4/5] END eta=0.5, gamma=0.1, max_depth=60, subsample=1.0;, score=(train=1.000, test=0.965) total time= 6.1min\n"
     ]
    },
    {
     "name": "stderr",
     "output_type": "stream",
     "text": [
      "c:\\ProgramData\\Anaconda3\\envs\\Introduccion_al_ML_IB\\lib\\site-packages\\xgboost\\sklearn.py:1224: UserWarning: The use of label encoder in XGBClassifier is deprecated and will be removed in a future release. To remove this warning, do the following: 1) Pass option use_label_encoder=False when constructing XGBClassifier object; and 2) Encode your labels (y) as integers starting with 0, i.e. 0, 1, 2, ..., [num_class - 1].\n",
      "  warnings.warn(label_encoder_deprecation_msg, UserWarning)\n",
      "c:\\ProgramData\\Anaconda3\\envs\\Introduccion_al_ML_IB\\lib\\site-packages\\xgboost\\data.py:250: FutureWarning: pandas.Int64Index is deprecated and will be removed from pandas in a future version. Use pandas.Index with the appropriate dtype instead.\n",
      "  elif isinstance(data.columns, (pd.Int64Index, pd.RangeIndex)):\n"
     ]
    },
    {
     "name": "stdout",
     "output_type": "stream",
     "text": [
      "[22:57:04] WARNING: C:\\Windows\\Temp\\abs_557yfx631l\\croots\\recipe\\xgboost-split_1659548953302\\work\\src\\learner.cc:1115: Starting in XGBoost 1.3.0, the default evaluation metric used with the objective 'multi:softprob' was changed from 'merror' to 'mlogloss'. Explicitly set eval_metric if you'd like to restore the old behavior.\n",
      "[CV 5/5] END eta=0.5, gamma=0.1, max_depth=60, subsample=1.0;, score=(train=1.000, test=0.964) total time= 6.2min\n"
     ]
    },
    {
     "name": "stderr",
     "output_type": "stream",
     "text": [
      "c:\\ProgramData\\Anaconda3\\envs\\Introduccion_al_ML_IB\\lib\\site-packages\\xgboost\\sklearn.py:1224: UserWarning: The use of label encoder in XGBClassifier is deprecated and will be removed in a future release. To remove this warning, do the following: 1) Pass option use_label_encoder=False when constructing XGBClassifier object; and 2) Encode your labels (y) as integers starting with 0, i.e. 0, 1, 2, ..., [num_class - 1].\n",
      "  warnings.warn(label_encoder_deprecation_msg, UserWarning)\n",
      "c:\\ProgramData\\Anaconda3\\envs\\Introduccion_al_ML_IB\\lib\\site-packages\\xgboost\\data.py:250: FutureWarning: pandas.Int64Index is deprecated and will be removed from pandas in a future version. Use pandas.Index with the appropriate dtype instead.\n",
      "  elif isinstance(data.columns, (pd.Int64Index, pd.RangeIndex)):\n"
     ]
    },
    {
     "name": "stdout",
     "output_type": "stream",
     "text": [
      "[23:03:21] WARNING: C:\\Windows\\Temp\\abs_557yfx631l\\croots\\recipe\\xgboost-split_1659548953302\\work\\src\\learner.cc:1115: Starting in XGBoost 1.3.0, the default evaluation metric used with the objective 'multi:softprob' was changed from 'merror' to 'mlogloss'. Explicitly set eval_metric if you'd like to restore the old behavior.\n"
     ]
    },
    {
     "data": {
      "text/plain": [
       "GridSearchCV(cv=5,\n",
       "             estimator=XGBClassifier(base_score=None, booster=None,\n",
       "                                     colsample_bylevel=None,\n",
       "                                     colsample_bynode=None,\n",
       "                                     colsample_bytree=None,\n",
       "                                     enable_categorical=False, gamma=None,\n",
       "                                     gpu_id=None, importance_type=None,\n",
       "                                     interaction_constraints=None,\n",
       "                                     learning_rate=None, max_delta_step=None,\n",
       "                                     max_depth=None, min_child_weight=None,\n",
       "                                     missing=nan, monotone_constraints=None,\n",
       "                                     n_estimators=100, n_jobs=None,\n",
       "                                     num_parallel_tree=None, predictor=None,\n",
       "                                     random_state=None, reg_alpha=None,\n",
       "                                     reg_lambda=None, scale_pos_weight=None,\n",
       "                                     subsample=None, tree_method=None,\n",
       "                                     validate_parameters=None, verbosity=None),\n",
       "             param_grid=[{'eta': [0.3, 0.5], 'gamma': [0, 0.1],\n",
       "                          'max_depth': [20, 40, 60],\n",
       "                          'subsample': [0.75, 1.0]}],\n",
       "             return_train_score=True, scoring='accuracy', verbose=3)"
      ]
     },
     "execution_count": 99,
     "metadata": {},
     "output_type": "execute_result"
    }
   ],
   "source": [
    "#Defino los parámetros que voy a variar\n",
    "\n",
    "param_grid = [\n",
    "    {'eta': [0.3, 0.5], 'max_depth':[20, 40, 60], 'subsample':[0.75, 1.0], 'gamma': [0, 0.1]},\n",
    "  ]\n",
    "\n",
    "\n",
    "#Defino el modelo\n",
    "XGBmodel_GS = XGBClassifier()\n",
    "\n",
    "grid_search = GridSearchCV(XGBmodel_GS, param_grid, cv=5, scoring='accuracy', return_train_score=True, verbose = 3); #verbose = 3 muestra el progreso a medida que se hace el gridsearch. Es útil cuando tengo que hacer corridas largas.\n",
    "grid_search.fit(train_predictors, train_target)"
   ]
  },
  {
   "cell_type": "code",
   "execution_count": 100,
   "metadata": {},
   "outputs": [
    {
     "name": "stdout",
     "output_type": "stream",
     "text": [
      "Los mejores parámetros son: {'eta': 0.3, 'gamma': 0, 'max_depth': 60, 'subsample': 1.0}\n",
      "El score de cada combinación de hiperparámetros es:\n",
      "0.9668547346790388 {'eta': 0.3, 'gamma': 0, 'max_depth': 20, 'subsample': 0.75}\n",
      "0.9672177855976154 {'eta': 0.3, 'gamma': 0, 'max_depth': 20, 'subsample': 1.0}\n",
      "0.9672661935873036 {'eta': 0.3, 'gamma': 0, 'max_depth': 40, 'subsample': 0.75}\n",
      "0.9676184879502905 {'eta': 0.3, 'gamma': 0, 'max_depth': 40, 'subsample': 1.0}\n",
      "0.9669300341119424 {'eta': 0.3, 'gamma': 0, 'max_depth': 60, 'subsample': 0.75}\n",
      "0.9676857185652639 {'eta': 0.3, 'gamma': 0, 'max_depth': 60, 'subsample': 1.0}\n",
      "0.9659672733704584 {'eta': 0.3, 'gamma': 0.1, 'max_depth': 20, 'subsample': 0.75}\n",
      "0.9663034318694728 {'eta': 0.3, 'gamma': 0.1, 'max_depth': 20, 'subsample': 1.0}\n",
      "0.9662146883241253 {'eta': 0.3, 'gamma': 0.1, 'max_depth': 40, 'subsample': 0.75}\n",
      "0.9663410814593613 {'eta': 0.3, 'gamma': 0.1, 'max_depth': 40, 'subsample': 1.0}\n",
      "0.9664190717397687 {'eta': 0.3, 'gamma': 0.1, 'max_depth': 60, 'subsample': 0.75}\n",
      "0.9665642919480911 {'eta': 0.3, 'gamma': 0.1, 'max_depth': 60, 'subsample': 1.0}\n",
      "0.9655343015679803 {'eta': 0.5, 'gamma': 0, 'max_depth': 20, 'subsample': 0.75}\n",
      "0.9667122026423074 {'eta': 0.5, 'gamma': 0, 'max_depth': 20, 'subsample': 1.0}\n",
      "0.9661958632760541 {'eta': 0.5, 'gamma': 0, 'max_depth': 40, 'subsample': 0.75}\n",
      "0.9668789362872579 {'eta': 0.5, 'gamma': 0, 'max_depth': 40, 'subsample': 1.0}\n",
      "0.9661689696993406 {'eta': 0.5, 'gamma': 0, 'max_depth': 60, 'subsample': 0.75}\n",
      "0.9667095116501596 {'eta': 0.5, 'gamma': 0, 'max_depth': 60, 'subsample': 1.0}\n",
      "0.9640713382644008 {'eta': 0.5, 'gamma': 0.1, 'max_depth': 20, 'subsample': 0.75}\n",
      "0.9651685601273486 {'eta': 0.5, 'gamma': 0.1, 'max_depth': 20, 'subsample': 1.0}\n",
      "0.9646199493224383 {'eta': 0.5, 'gamma': 0.1, 'max_depth': 40, 'subsample': 0.75}\n",
      "0.9651820075666032 {'eta': 0.5, 'gamma': 0.1, 'max_depth': 40, 'subsample': 1.0}\n",
      "0.9647759278582384 {'eta': 0.5, 'gamma': 0.1, 'max_depth': 60, 'subsample': 0.75}\n",
      "0.9650340970893527 {'eta': 0.5, 'gamma': 0.1, 'max_depth': 60, 'subsample': 1.0}\n"
     ]
    }
   ],
   "source": [
    "print(\"Los mejores parámetros son:\",grid_search.best_params_)\n",
    "\n",
    "#Resultados de cada combinación de hiperparámetros\n",
    "print(\"El score de cada combinación de hiperparámetros es:\")\n",
    "cvres = grid_search.cv_results_\n",
    "for mean_score, params in zip(cvres[\"mean_test_score\"], cvres[\"params\"]):\n",
    "    print(mean_score, params)"
   ]
  },
  {
   "cell_type": "code",
   "execution_count": null,
   "metadata": {},
   "outputs": [],
   "source": [
    "# Los mejores parámetros son: {'eta': 0.3, 'gamma': 0, 'max_depth': 60, 'subsample': 1.0}\n",
    "# El score de cada combinación de hiperparámetros es:\n",
    "# 0.9668547346790388 {'eta': 0.3, 'gamma': 0, 'max_depth': 20, 'subsample': 0.75}\n",
    "# 0.9672177855976154 {'eta': 0.3, 'gamma': 0, 'max_depth': 20, 'subsample': 1.0}\n",
    "# 0.9672661935873036 {'eta': 0.3, 'gamma': 0, 'max_depth': 40, 'subsample': 0.75}\n",
    "# 0.9676184879502905 {'eta': 0.3, 'gamma': 0, 'max_depth': 40, 'subsample': 1.0}\n",
    "# 0.9669300341119424 {'eta': 0.3, 'gamma': 0, 'max_depth': 60, 'subsample': 0.75}\n",
    "# 0.9676857185652639 {'eta': 0.3, 'gamma': 0, 'max_depth': 60, 'subsample': 1.0}\n",
    "# 0.9659672733704584 {'eta': 0.3, 'gamma': 0.1, 'max_depth': 20, 'subsample': 0.75}\n",
    "# 0.9663034318694728 {'eta': 0.3, 'gamma': 0.1, 'max_depth': 20, 'subsample': 1.0}\n",
    "# 0.9662146883241253 {'eta': 0.3, 'gamma': 0.1, 'max_depth': 40, 'subsample': 0.75}\n",
    "# 0.9663410814593613 {'eta': 0.3, 'gamma': 0.1, 'max_depth': 40, 'subsample': 1.0}\n",
    "# 0.9664190717397687 {'eta': 0.3, 'gamma': 0.1, 'max_depth': 60, 'subsample': 0.75}\n",
    "# 0.9665642919480911 {'eta': 0.3, 'gamma': 0.1, 'max_depth': 60, 'subsample': 1.0}\n",
    "# 0.9655343015679803 {'eta': 0.5, 'gamma': 0, 'max_depth': 20, 'subsample': 0.75}\n",
    "# 0.9667122026423074 {'eta': 0.5, 'gamma': 0, 'max_depth': 20, 'subsample': 1.0}\n",
    "# 0.9661958632760541 {'eta': 0.5, 'gamma': 0, 'max_depth': 40, 'subsample': 0.75}\n",
    "# 0.9668789362872579 {'eta': 0.5, 'gamma': 0, 'max_depth': 40, 'subsample': 1.0}\n",
    "# 0.9661689696993406 {'eta': 0.5, 'gamma': 0, 'max_depth': 60, 'subsample': 0.75}\n",
    "# 0.9667095116501596 {'eta': 0.5, 'gamma': 0, 'max_depth': 60, 'subsample': 1.0}\n",
    "# 0.9640713382644008 {'eta': 0.5, 'gamma': 0.1, 'max_depth': 20, 'subsample': 0.75}\n",
    "# 0.9651685601273486 {'eta': 0.5, 'gamma': 0.1, 'max_depth': 20, 'subsample': 1.0}\n",
    "# 0.9646199493224383 {'eta': 0.5, 'gamma': 0.1, 'max_depth': 40, 'subsample': 0.75}\n",
    "# 0.9651820075666032 {'eta': 0.5, 'gamma': 0.1, 'max_depth': 40, 'subsample': 1.0}\n",
    "# 0.9647759278582384 {'eta': 0.5, 'gamma': 0.1, 'max_depth': 60, 'subsample': 0.75}\n",
    "# 0.9650340970893527 {'eta': 0.5, 'gamma': 0.1, 'max_depth': 60, 'subsample': 1.0}"
   ]
  },
  {
   "cell_type": "markdown",
   "metadata": {},
   "source": [
    "##### Observaciones\n",
    "\n",
    "Se afrontó Cross Validation de igual manera que para Random Forest. No se tuvieron en cuenta muchas variaciones de parámetros debido a que al gran tiempo de ejecución necesario para entrenar XGBoost en relación a RandomForest. Las conclusiones que se obtuvieron son\n",
    "* A mayor max_depth, mejor rendimiento tiene el modelo. Este comportamiento también se observó en RandomForest\n",
    "* Mayor eta no es sinónimo de menor score. \n",
    "\n",
    "En base a lo anterior, se realizó grid search alrededor de los mejores parámetros encontrados\n",
    "* eta: [0.3, 0.5]\n",
    "* max_depth: [20, 40, 60]\n",
    "* subsample: [0.75, 1.0]\n",
    "* gamma: [0, 0.1]\n",
    "Se encontró que el mejor modelo corresponde a los parámetros\n",
    "* eta: 0.3\n",
    "* max_depth: 60\n",
    "* subsample: 1.0\n",
    "* gamma: 0  \n",
    "\n",
    "\n",
    "con un accuracy de ~ 0.96769\n",
    "\n",
    "\n",
    "\n",
    "\n",
    "\n"
   ]
  },
  {
   "cell_type": "markdown",
   "metadata": {},
   "source": [
    "##### Observaciones (ELIMINAR PARA EL INFORME FINAL)\n",
    "\n",
    "1. Experimento 01:\n",
    "param_grid = [\n",
    "    {'max_depth':[3, 6, 12, 24]},\n",
    "  ]\n",
    "\n",
    "Dejo todos los parámetros por default salvo\n",
    "* max_depth :[3, 6, 12, 24]\n",
    "Se obtuvo como mejor parámetro max_depth: \n",
    "con un score de ~\n",
    "El mayor score obtenido fue de ~\n",
    "correspondiente a max_depth: \n",
    "\n",
    "Los mejores parámetros son: {'max_depth': 24}\n",
    "El score de cada combinación de hiperparámetros es:\n",
    "1.0157083370288922 {'max_depth': 3}\n",
    "0.6747703987883854 {'max_depth': 6}\n",
    "0.4337960738513713 {'max_depth': 12}\n",
    "0.4142297049418946 {'max_depth': 24}\n",
    "\n",
    "\n",
    "2. Experimento 02:\n",
    "param_grid = [\n",
    "    {'eta': [0.1, 0.3, 0.5], 'max_depth':[10]},\n",
    "  ]\n",
    "Se dejaron todos los parámetros por default salvo\n",
    "* max_depth: 10\n",
    "* eta: [0.1, 0.3, 0.5]\n",
    "Se obtuvo como mejor parámetro eta:\n",
    "con un score de ~\n",
    "El mayor score obtenido fue de ~\n",
    "correspondiente a eta: \n",
    "\n",
    "Los mejores parámetros son: {'eta': 0.5, 'max_depth': 10}\n",
    "El score de cada combinación de hiperparámetros es:\n",
    "0.5994052135973059 {'eta': 0.1, 'max_depth': 10}\n",
    "0.46011681515495684 {'eta': 0.3, 'max_depth': 10}\n",
    "0.4400893219651518 {'eta': 0.5, 'max_depth': 10}"
   ]
  },
  {
   "cell_type": "markdown",
   "metadata": {},
   "source": [
    "#### Feature Importances\n",
    "\n",
    "Al igual que en el modelo anterior, se evaluó la importancia de cada feature. Luego se eliminaron aquellas con un valor menor a un threshold y entrenó un nuevo modelo para estos nuevos datos."
   ]
  },
  {
   "cell_type": "code",
   "execution_count": 102,
   "metadata": {},
   "outputs": [
    {
     "data": {
      "image/png": "[encoded data removed]",
      "text/plain": [
       "<Figure size 720x360 with 1 Axes>"
      ]
     },
     "metadata": {},
     "output_type": "display_data"
    }
   ],
   "source": [
    "feature_importances = grid_search.best_estimator_.feature_importances_\n",
    "features = list(train_predictors.columns)\n",
    "\n",
    "fig = plt.figure(figsize = (10, 5))\n",
    " \n",
    "#Gráfico de barras\n",
    "plt.barh(features, feature_importances)\n",
    "plt.xlabel(\"Feature importance\")\n",
    "plt.ylabel(\"Features\")\n",
    "plt.show()\n"
   ]
  },
  {
   "cell_type": "markdown",
   "metadata": {},
   "source": [
    "##### Observaciones\n",
    "\n",
    "Al igual que en Random Forest, altura y clase_suelo tienen una gran importancia relativa. Pero a diferencia de dicho modelo, clase_area_silvestre cobra mayor preponderancia."
   ]
  },
  {
   "cell_type": "code",
   "execution_count": 105,
   "metadata": {},
   "outputs": [
    {
     "name": "stdout",
     "output_type": "stream",
     "text": [
      "Eliminé la feature:  exposicion  con una feature importance de  0.021689657\n",
      "Eliminé la feature:  inclinacion_suelo  con una feature importance de  0.023368124\n",
      "Eliminé la feature:  altura_agua  con una feature importance de  0.02876424\n",
      "Eliminé la feature:  sombra_tarde  con una feature importance de  0.0213258\n",
      "Eliminé la feature:  sombra_mean  con una feature importance de  0.019524984\n"
     ]
    }
   ],
   "source": [
    "#Elimino las features con un feature importance menor a un threshold\n",
    "threshold = 0.03\n",
    "\n",
    "train_predictors_reduced = train_predictors.copy()\n",
    "for feature, importance in zip(features, feature_importances):\n",
    "    if(importance < threshold):\n",
    "        print(\"Eliminé la feature: \", feature, \" con una feature importance de \", importance)\n",
    "        train_predictors_reduced = train_predictors_reduced.drop(columns = [feature])\n",
    "\n"
   ]
  },
  {
   "cell_type": "code",
   "execution_count": null,
   "metadata": {},
   "outputs": [],
   "source": [
    "# Eliminé la feature:  exposicion  con una feature importance de  0.021689657\n",
    "# Eliminé la feature:  inclinacion_suelo  con una feature importance de  0.023368124\n",
    "# Eliminé la feature:  altura_agua  con una feature importance de  0.02876424\n",
    "# Eliminé la feature:  sombra_tarde  con una feature importance de  0.0213258\n",
    "# Eliminé la feature:  sombra_mean  con una feature importance de  0.019524984"
   ]
  },
  {
   "cell_type": "code",
   "execution_count": 107,
   "metadata": {},
   "outputs": [
    {
     "name": "stderr",
     "output_type": "stream",
     "text": [
      "c:\\ProgramData\\Anaconda3\\envs\\Introduccion_al_ML_IB\\lib\\site-packages\\xgboost\\sklearn.py:1224: UserWarning: The use of label encoder in XGBClassifier is deprecated and will be removed in a future release. To remove this warning, do the following: 1) Pass option use_label_encoder=False when constructing XGBClassifier object; and 2) Encode your labels (y) as integers starting with 0, i.e. 0, 1, 2, ..., [num_class - 1].\n",
      "  warnings.warn(label_encoder_deprecation_msg, UserWarning)\n",
      "c:\\ProgramData\\Anaconda3\\envs\\Introduccion_al_ML_IB\\lib\\site-packages\\xgboost\\data.py:250: FutureWarning: pandas.Int64Index is deprecated and will be removed from pandas in a future version. Use pandas.Index with the appropriate dtype instead.\n",
      "  elif isinstance(data.columns, (pd.Int64Index, pd.RangeIndex)):\n"
     ]
    },
    {
     "name": "stdout",
     "output_type": "stream",
     "text": [
      "[10:39:01] WARNING: C:\\Windows\\Temp\\abs_557yfx631l\\croots\\recipe\\xgboost-split_1659548953302\\work\\src\\learner.cc:1115: Starting in XGBoost 1.3.0, the default evaluation metric used with the objective 'multi:softprob' was changed from 'merror' to 'mlogloss'. Explicitly set eval_metric if you'd like to restore the old behavior.\n"
     ]
    },
    {
     "name": "stderr",
     "output_type": "stream",
     "text": [
      "c:\\ProgramData\\Anaconda3\\envs\\Introduccion_al_ML_IB\\lib\\site-packages\\xgboost\\sklearn.py:1224: UserWarning: The use of label encoder in XGBClassifier is deprecated and will be removed in a future release. To remove this warning, do the following: 1) Pass option use_label_encoder=False when constructing XGBClassifier object; and 2) Encode your labels (y) as integers starting with 0, i.e. 0, 1, 2, ..., [num_class - 1].\n",
      "  warnings.warn(label_encoder_deprecation_msg, UserWarning)\n",
      "c:\\ProgramData\\Anaconda3\\envs\\Introduccion_al_ML_IB\\lib\\site-packages\\xgboost\\data.py:250: FutureWarning: pandas.Int64Index is deprecated and will be removed from pandas in a future version. Use pandas.Index with the appropriate dtype instead.\n",
      "  elif isinstance(data.columns, (pd.Int64Index, pd.RangeIndex)):\n"
     ]
    },
    {
     "name": "stdout",
     "output_type": "stream",
     "text": [
      "[10:46:08] WARNING: C:\\Windows\\Temp\\abs_557yfx631l\\croots\\recipe\\xgboost-split_1659548953302\\work\\src\\learner.cc:1115: Starting in XGBoost 1.3.0, the default evaluation metric used with the objective 'multi:softprob' was changed from 'merror' to 'mlogloss'. Explicitly set eval_metric if you'd like to restore the old behavior.\n"
     ]
    },
    {
     "name": "stderr",
     "output_type": "stream",
     "text": [
      "c:\\ProgramData\\Anaconda3\\envs\\Introduccion_al_ML_IB\\lib\\site-packages\\xgboost\\sklearn.py:1224: UserWarning: The use of label encoder in XGBClassifier is deprecated and will be removed in a future release. To remove this warning, do the following: 1) Pass option use_label_encoder=False when constructing XGBClassifier object; and 2) Encode your labels (y) as integers starting with 0, i.e. 0, 1, 2, ..., [num_class - 1].\n",
      "  warnings.warn(label_encoder_deprecation_msg, UserWarning)\n",
      "c:\\ProgramData\\Anaconda3\\envs\\Introduccion_al_ML_IB\\lib\\site-packages\\xgboost\\data.py:250: FutureWarning: pandas.Int64Index is deprecated and will be removed from pandas in a future version. Use pandas.Index with the appropriate dtype instead.\n",
      "  elif isinstance(data.columns, (pd.Int64Index, pd.RangeIndex)):\n"
     ]
    },
    {
     "name": "stdout",
     "output_type": "stream",
     "text": [
      "[10:50:48] WARNING: C:\\Windows\\Temp\\abs_557yfx631l\\croots\\recipe\\xgboost-split_1659548953302\\work\\src\\learner.cc:1115: Starting in XGBoost 1.3.0, the default evaluation metric used with the objective 'multi:softprob' was changed from 'merror' to 'mlogloss'. Explicitly set eval_metric if you'd like to restore the old behavior.\n"
     ]
    },
    {
     "name": "stderr",
     "output_type": "stream",
     "text": [
      "c:\\ProgramData\\Anaconda3\\envs\\Introduccion_al_ML_IB\\lib\\site-packages\\xgboost\\sklearn.py:1224: UserWarning: The use of label encoder in XGBClassifier is deprecated and will be removed in a future release. To remove this warning, do the following: 1) Pass option use_label_encoder=False when constructing XGBClassifier object; and 2) Encode your labels (y) as integers starting with 0, i.e. 0, 1, 2, ..., [num_class - 1].\n",
      "  warnings.warn(label_encoder_deprecation_msg, UserWarning)\n",
      "c:\\ProgramData\\Anaconda3\\envs\\Introduccion_al_ML_IB\\lib\\site-packages\\xgboost\\data.py:250: FutureWarning: pandas.Int64Index is deprecated and will be removed from pandas in a future version. Use pandas.Index with the appropriate dtype instead.\n",
      "  elif isinstance(data.columns, (pd.Int64Index, pd.RangeIndex)):\n"
     ]
    },
    {
     "name": "stdout",
     "output_type": "stream",
     "text": [
      "[10:55:39] WARNING: C:\\Windows\\Temp\\abs_557yfx631l\\croots\\recipe\\xgboost-split_1659548953302\\work\\src\\learner.cc:1115: Starting in XGBoost 1.3.0, the default evaluation metric used with the objective 'multi:softprob' was changed from 'merror' to 'mlogloss'. Explicitly set eval_metric if you'd like to restore the old behavior.\n"
     ]
    },
    {
     "name": "stderr",
     "output_type": "stream",
     "text": [
      "c:\\ProgramData\\Anaconda3\\envs\\Introduccion_al_ML_IB\\lib\\site-packages\\xgboost\\sklearn.py:1224: UserWarning: The use of label encoder in XGBClassifier is deprecated and will be removed in a future release. To remove this warning, do the following: 1) Pass option use_label_encoder=False when constructing XGBClassifier object; and 2) Encode your labels (y) as integers starting with 0, i.e. 0, 1, 2, ..., [num_class - 1].\n",
      "  warnings.warn(label_encoder_deprecation_msg, UserWarning)\n",
      "c:\\ProgramData\\Anaconda3\\envs\\Introduccion_al_ML_IB\\lib\\site-packages\\xgboost\\data.py:250: FutureWarning: pandas.Int64Index is deprecated and will be removed from pandas in a future version. Use pandas.Index with the appropriate dtype instead.\n",
      "  elif isinstance(data.columns, (pd.Int64Index, pd.RangeIndex)):\n"
     ]
    },
    {
     "name": "stdout",
     "output_type": "stream",
     "text": [
      "[11:00:24] WARNING: C:\\Windows\\Temp\\abs_557yfx631l\\croots\\recipe\\xgboost-split_1659548953302\\work\\src\\learner.cc:1115: Starting in XGBoost 1.3.0, the default evaluation metric used with the objective 'multi:softprob' was changed from 'merror' to 'mlogloss'. Explicitly set eval_metric if you'd like to restore the old behavior.\n"
     ]
    }
   ],
   "source": [
    "XGBmodel_score = cross_val_score(grid_search.best_estimator_, train_predictors, train_target,scoring=\"accuracy\", cv=5) #cv es la cantidad de particiones"
   ]
  },
  {
   "cell_type": "code",
   "execution_count": 108,
   "metadata": {},
   "outputs": [
    {
     "name": "stdout",
     "output_type": "stream",
     "text": [
      "Scores: [0.96793062 0.96762135 0.96842813 0.96771504 0.96673345]\n",
      "Mean: 0.9676857185652639\n",
      "Standard deviation: 0.00055189968919246\n"
     ]
    }
   ],
   "source": [
    "display_scores(XGBmodel_score)"
   ]
  },
  {
   "cell_type": "code",
   "execution_count": null,
   "metadata": {},
   "outputs": [],
   "source": [
    "# Scores: [0.96793062 0.96762135 0.96842813 0.96771504 0.96673345]\n",
    "# Mean: 0.9676857185652639\n",
    "# Standard deviation: 0.00055189968919246"
   ]
  },
  {
   "cell_type": "code",
   "execution_count": null,
   "metadata": {},
   "outputs": [],
   "source": [
    "#Fiteo el modelo con una menor cantidad de variables"
   ]
  },
  {
   "cell_type": "code",
   "execution_count": 5,
   "metadata": {},
   "outputs": [],
   "source": [
    "#Ejecutar en el caso de no haber ejecutado el Grid Search anterior\n",
    "XGB_best_params = {'eta': 0.3, 'gamma': 0, 'max_depth': 60, 'subsample': 1.0}"
   ]
  },
  {
   "cell_type": "code",
   "execution_count": null,
   "metadata": {},
   "outputs": [],
   "source": [
    "#Ejecutar en el caso de haber ejecutado el Grid Search anterior\n",
    "#Mejores parámetros\n",
    "XGB_best_params = grid_search.best_estimator_.get_params()"
   ]
  },
  {
   "cell_type": "code",
   "execution_count": 6,
   "metadata": {},
   "outputs": [
    {
     "ename": "NameError",
     "evalue": "name 'XGBClassifier' is not defined",
     "output_type": "error",
     "traceback": [
      "\u001b[1;31m---------------------------------------------------------------------------\u001b[0m",
      "\u001b[1;31mNameError\u001b[0m                                 Traceback (most recent call last)",
      "\u001b[1;32mc:\\Users\\lupam\\OneDrive\\Escritorio\\MLFundamentals_ejercicios\\Reports\\Chehade_report1.ipynb Celda 94\u001b[0m in \u001b[0;36m<cell line: 2>\u001b[1;34m()\u001b[0m\n\u001b[0;32m      <a href='vscode-notebook-cell:/c%3A/Users/lupam/OneDrive/Escritorio/MLFundamentals_ejercicios/Reports/Chehade_report1.ipynb#Y155sZmlsZQ%3D%3D?line=0'>1</a>\u001b[0m \u001b[39m#Modelo reducido\u001b[39;00m\n\u001b[1;32m----> <a href='vscode-notebook-cell:/c%3A/Users/lupam/OneDrive/Escritorio/MLFundamentals_ejercicios/Reports/Chehade_report1.ipynb#Y155sZmlsZQ%3D%3D?line=1'>2</a>\u001b[0m XGBmodel_reduced \u001b[39m=\u001b[39m XGBClassifier();\n\u001b[0;32m      <a href='vscode-notebook-cell:/c%3A/Users/lupam/OneDrive/Escritorio/MLFundamentals_ejercicios/Reports/Chehade_report1.ipynb#Y155sZmlsZQ%3D%3D?line=2'>3</a>\u001b[0m XGBmodel_reduced\u001b[39m.\u001b[39mset_params(\u001b[39m*\u001b[39m\u001b[39m*\u001b[39mXGB_best_params);\n\u001b[0;32m      <a href='vscode-notebook-cell:/c%3A/Users/lupam/OneDrive/Escritorio/MLFundamentals_ejercicios/Reports/Chehade_report1.ipynb#Y155sZmlsZQ%3D%3D?line=4'>5</a>\u001b[0m \u001b[39m#Evalúo el score del modelo con los mejores parámetros y una menor cantidad de variables\u001b[39;00m\n",
      "\u001b[1;31mNameError\u001b[0m: name 'XGBClassifier' is not defined"
     ]
    }
   ],
   "source": [
    "#Modelo reducido\n",
    "XGBmodel_reduced = XGBClassifier();\n",
    "XGBmodel_reduced.set_params(**XGB_best_params);\n",
    "\n",
    "#Evalúo el score del modelo con los mejores parámetros y una menor cantidad de variables\n",
    "XGBmodel_reduced_score = cross_val_score(XGBmodel_reduced, train_predictors_reduced, train_target,scoring=\"accuracy\", cv=5)\n"
   ]
  },
  {
   "cell_type": "code",
   "execution_count": 110,
   "metadata": {},
   "outputs": [
    {
     "name": "stdout",
     "output_type": "stream",
     "text": [
      "Scores: [0.96817265 0.96764825 0.96810542 0.96779572 0.96715029]\n",
      "Mean: 0.9677744653651\n",
      "Standard deviation: 0.0003671670592698238\n"
     ]
    }
   ],
   "source": [
    "display_scores(XGBmodel_reduced_score)"
   ]
  },
  {
   "cell_type": "code",
   "execution_count": null,
   "metadata": {},
   "outputs": [],
   "source": [
    "# Scores: [0.96817265 0.96764825 0.96810542 0.96779572 0.96715029]\n",
    "# Mean: 0.9677744653651\n",
    "# Standard deviation: 0.0003671670592698238"
   ]
  },
  {
   "cell_type": "markdown",
   "metadata": {},
   "source": [
    "#### Mejor modelo de XGBoost\n",
    "\n",
    "El Accuracy del modelo con menor cantidad de features es ligeramente mayor que el modelo anterior. En base a esto, se entrena el nuevo modelo."
   ]
  },
  {
   "cell_type": "code",
   "execution_count": 111,
   "metadata": {},
   "outputs": [
    {
     "name": "stderr",
     "output_type": "stream",
     "text": [
      "c:\\ProgramData\\Anaconda3\\envs\\Introduccion_al_ML_IB\\lib\\site-packages\\xgboost\\sklearn.py:1224: UserWarning: The use of label encoder in XGBClassifier is deprecated and will be removed in a future release. To remove this warning, do the following: 1) Pass option use_label_encoder=False when constructing XGBClassifier object; and 2) Encode your labels (y) as integers starting with 0, i.e. 0, 1, 2, ..., [num_class - 1].\n",
      "  warnings.warn(label_encoder_deprecation_msg, UserWarning)\n",
      "c:\\ProgramData\\Anaconda3\\envs\\Introduccion_al_ML_IB\\lib\\site-packages\\xgboost\\data.py:250: FutureWarning: pandas.Int64Index is deprecated and will be removed from pandas in a future version. Use pandas.Index with the appropriate dtype instead.\n",
      "  elif isinstance(data.columns, (pd.Int64Index, pd.RangeIndex)):\n"
     ]
    },
    {
     "name": "stdout",
     "output_type": "stream",
     "text": [
      "[11:32:17] WARNING: C:\\Windows\\Temp\\abs_557yfx631l\\croots\\recipe\\xgboost-split_1659548953302\\work\\src\\learner.cc:1115: Starting in XGBoost 1.3.0, the default evaluation metric used with the objective 'multi:softprob' was changed from 'merror' to 'mlogloss'. Explicitly set eval_metric if you'd like to restore the old behavior.\n"
     ]
    }
   ],
   "source": [
    "#Uso los mejores parámetros encontrados para entrenar el modelo final de XGB:\n",
    "\n",
    "XGBmodel_final = XGBmodel_reduced\n",
    "XGBmodel_final.fit(train_predictors, train_target);"
   ]
  },
  {
   "cell_type": "markdown",
   "metadata": {},
   "source": [
    "### ELECCIÓN FINAL DEL MODELO"
   ]
  },
  {
   "cell_type": "markdown",
   "metadata": {},
   "source": [
    "El mean_accuracy de cross validation de los mejores modelos fue:\n",
    "1. Random Forest: 0.9646522206526124  \n",
    "2. XGBoost: 0.9677744653651  \n",
    "\n",
    "\n",
    "XGBoost tiene ligeramente mayor accutacy, de modo que el modelo final será XGB"
   ]
  },
  {
   "cell_type": "code",
   "execution_count": 112,
   "metadata": {},
   "outputs": [],
   "source": [
    "final_model = XGBmodel_final"
   ]
  },
  {
   "cell_type": "markdown",
   "metadata": {},
   "source": [
    "#### Evalúo test con el mejor modelo"
   ]
  },
  {
   "cell_type": "code",
   "execution_count": 113,
   "metadata": {},
   "outputs": [
    {
     "name": "stdout",
     "output_type": "stream",
     "text": [
      "Accuracy del modelo:  97.12893440330458  %\n"
     ]
    }
   ],
   "source": [
    "#Calculo el error del modelo sobre el test set\n",
    "from sklearn.metrics import accuracy_score\n",
    "\n",
    "#Para evaluar el test tengo que\n",
    "#(1) Crear las nuevas variables\n",
    "sombra_mean = (test_set[\"sombra_maniana\"] + test_set[\"sombra_mediodia\"] + test_set[\"sombra_tarde\"])/3\n",
    "test_set[\"sombra_mean\"] = sombra_mean\n",
    "razon_distcaminos_altura = test_set[\"distancia_caminos\"]/test_set[\"altura\"]\n",
    "test_set[\"razon_distcaminos_altura\"] = razon_distcaminos_altura\n",
    "#(2) Eliminar las variables con feature importance menor a threshold. En el caso de XGBoost:\n",
    "XGBfeatures_to_eliminate = [\"exposicion\", \"inclinacion_suelo\", \"altura_agua\", \"sombra_tarde\", \"sombra_mean\"]\n",
    "test_set_reduced = test_set.drop(columns = XGBfeatures_to_eliminate)\n",
    "\n",
    "#(3) Dividir el test_set entre test_predictors y test_target\n",
    "test_predictors = test_set.drop(\"dosel_forestal\", axis=1)\n",
    "test_target = test_set[\"dosel_forestal\"].copy()\n",
    "\n",
    "final_model_accuracy = accuracy_score(test_target, final_model.predict(test_predictors))\n",
    "print(\"Accuracy del modelo: \", final_model_accuracy*100, \" %\")\n"
   ]
  },
  {
   "cell_type": "markdown",
   "metadata": {},
   "source": [
    "#### Exporto el modelo"
   ]
  },
  {
   "cell_type": "markdown",
   "metadata": {},
   "source": [
    "##### Observaciones (ELIMINAR PARA EL INFORME FINAL)\n",
    "\n",
    "Para instalar pickle5 es necesario tener una versión de Python inferior o igual a la 3.7.0. Esto se puede hacer en anaconda con  \n",
    "conda install python=3.7.0  \n",
    "Para luego instalar pickly5  \n",
    "conda install -c conda-forge pickle5  \n",
    "\n",
    "Para extraer el .yml del environment de conda se puede ejecutar  \n",
    "conda env export --from-history>ENV.yml  \n",
    "o, directamente obtenerlo desde el Anaconda Navigator con la opción Backup\n"
   ]
  },
  {
   "cell_type": "code",
   "execution_count": 2,
   "metadata": {},
   "outputs": [
    {
     "ename": "NameError",
     "evalue": "name 'final_model' is not defined",
     "output_type": "error",
     "traceback": [
      "\u001b[1;31m---------------------------------------------------------------------------\u001b[0m",
      "\u001b[1;31mNameError\u001b[0m                                 Traceback (most recent call last)",
      "\u001b[1;32mc:\\Users\\lupam\\OneDrive\\Escritorio\\MLFundamentals_ejercicios\\Reports\\Chehade_report1.ipynb Celda 103\u001b[0m in \u001b[0;36m<cell line: 2>\u001b[1;34m()\u001b[0m\n\u001b[0;32m      <a href='vscode-notebook-cell:/c%3A/Users/lupam/OneDrive/Escritorio/MLFundamentals_ejercicios/Reports/Chehade_report1.ipynb#Y202sZmlsZQ%3D%3D?line=0'>1</a>\u001b[0m \u001b[39mimport\u001b[39;00m \u001b[39mpickle\u001b[39;00m\n\u001b[0;32m      <a href='vscode-notebook-cell:/c%3A/Users/lupam/OneDrive/Escritorio/MLFundamentals_ejercicios/Reports/Chehade_report1.ipynb#Y202sZmlsZQ%3D%3D?line=1'>2</a>\u001b[0m \u001b[39mwith\u001b[39;00m \u001b[39mopen\u001b[39m(\u001b[39m\"\u001b[39m\u001b[39mfinal_model.p\u001b[39m\u001b[39m\"\u001b[39m,\u001b[39m\"\u001b[39m\u001b[39mwb\u001b[39m\u001b[39m\"\u001b[39m) \u001b[39mas\u001b[39;00m f:\n\u001b[1;32m----> <a href='vscode-notebook-cell:/c%3A/Users/lupam/OneDrive/Escritorio/MLFundamentals_ejercicios/Reports/Chehade_report1.ipynb#Y202sZmlsZQ%3D%3D?line=2'>3</a>\u001b[0m     pickle\u001b[39m.\u001b[39mdump(final_model,f)\n",
      "\u001b[1;31mNameError\u001b[0m: name 'final_model' is not defined"
     ]
    }
   ],
   "source": [
    "import pickle\n",
    "with open(\"final_model.p\",\"wb\") as f:\n",
    "    pickle.dump(final_model,f)"
   ]
  },
  {
   "cell_type": "code",
   "execution_count": null,
   "metadata": {},
   "outputs": [],
   "source": []
  }
 ],
 "metadata": {
  "kernelspec": {
   "display_name": "Python 3.9.12 ('Introduccion_al_ML_IB')",
   "language": "python",
   "name": "python3"
  },
  "language_info": {
   "codemirror_mode": {
    "name": "ipython",
    "version": 3
   },
   "file_extension": ".py",
   "mimetype": "text/x-python",
   "name": "python",
   "nbconvert_exporter": "python",
   "pygments_lexer": "ipython3",
   "version": "3.9.12"
  },
  "orig_nbformat": 4,
  "vscode": {
   "interpreter": {
    "hash": "0aa1956f6385f32f27cbf130d1061fb9b6a3751ba793bfb23dacf8373af4031e"
   }
  }
 },
 "nbformat": 4,
 "nbformat_minor": 2
}
